{
 "metadata": {
  "language_info": {
   "codemirror_mode": {
    "name": "ipython",
    "version": 3
   },
   "file_extension": ".py",
   "mimetype": "text/x-python",
   "name": "python",
   "nbconvert_exporter": "python",
   "pygments_lexer": "ipython3",
   "version": "3.9.1-final"
  },
  "orig_nbformat": 2,
  "kernelspec": {
   "name": "python3",
   "display_name": "Python 3.9.1 64-bit",
   "metadata": {
    "interpreter": {
     "hash": "468f25ad0239460415b7e6b7483d5c8f7213894121f6fb96c4cb6ef93fffe534"
    }
   }
  }
 },
 "nbformat": 4,
 "nbformat_minor": 2,
 "cells": [
  {
   "source": [
    "# New York Schools\n",
    "A small project that demonstrates how one can analyze data from multiple sources and bring them all together to drive meaningful insights. "
   ],
   "cell_type": "markdown",
   "metadata": {}
  },
  {
   "cell_type": "code",
   "execution_count": 2,
   "metadata": {},
   "outputs": [],
   "source": [
    "import pandas as pd\n",
    "# A list of the data files\n",
    "data_files = [\n",
    "    \"ap_2010.csv\",\n",
    "    \"class_size.csv\",\n",
    "    \"demographics.csv\",\n",
    "    \"graduation.csv\",\n",
    "    \"hs_directory.csv\",\n",
    "    \"sat_results.csv\"\n",
    "]\n",
    "   \n",
    "data = {}\n",
    "for file in data_files:\n",
    "    read_file = pd.read_csv('__data__/{0}'.format(file))\n",
    "    key_name = file.replace(\".csv\",\"\")\n",
    "    data[key_name] = read_file"
   ]
  },
  {
   "cell_type": "code",
   "execution_count": 3,
   "metadata": {},
   "outputs": [
    {
     "output_type": "stream",
     "name": "stdout",
     "text": [
      "      DBN                                    SCHOOL NAME  \\\n0  01M292  HENRY STREET SCHOOL FOR INTERNATIONAL STUDIES   \n1  01M448            UNIVERSITY NEIGHBORHOOD HIGH SCHOOL   \n2  01M450                     EAST SIDE COMMUNITY SCHOOL   \n3  01M458                      FORSYTH SATELLITE ACADEMY   \n4  01M509                        MARTA VALLE HIGH SCHOOL   \n\n  Num of SAT Test Takers SAT Critical Reading Avg. Score SAT Math Avg. Score  \\\n0                     29                             355                 404   \n1                     91                             383                 423   \n2                     70                             377                 402   \n3                      7                             414                 401   \n4                     44                             390                 433   \n\n  SAT Writing Avg. Score  \n0                    363  \n1                    366  \n2                    370  \n3                    359  \n4                    384  \n"
     ]
    }
   ],
   "source": [
    "# Reviewing the Data\n",
    "print(data['sat_results'].head(5))"
   ]
  },
  {
   "cell_type": "code",
   "execution_count": 4,
   "metadata": {},
   "outputs": [
    {
     "output_type": "execute_result",
     "data": {
      "text/plain": [
       "      dbn    bn                      schoolname  d75 studentssurveyed  \\\n",
       "0  01M015  M015       P.S. 015 Roberto Clemente    0               No   \n",
       "1  01M019  M019             P.S. 019 Asher Levy    0               No   \n",
       "2  01M020  M020            P.S. 020 Anna Silver    0               No   \n",
       "3  01M034  M034  P.S. 034 Franklin D. Roosevelt    0              Yes   \n",
       "4  01M063  M063       P.S. 063 William McKinley    0               No   \n",
       "\n",
       "   highschool                  schooltype  rr_s  rr_t  rr_p  ...  s_q14_2  \\\n",
       "0         0.0           Elementary School   NaN    88    60  ...      NaN   \n",
       "1         0.0           Elementary School   NaN   100    60  ...      NaN   \n",
       "2         0.0           Elementary School   NaN    88    73  ...      NaN   \n",
       "3         0.0  Elementary / Middle School  89.0    73    50  ...      NaN   \n",
       "4         0.0           Elementary School   NaN   100    60  ...      NaN   \n",
       "\n",
       "   s_q14_3  s_q14_4  s_q14_5  s_q14_6  s_q14_7  s_q14_8  s_q14_9  s_q14_10  \\\n",
       "0      NaN      NaN      NaN      NaN      NaN      NaN      NaN       NaN   \n",
       "1      NaN      NaN      NaN      NaN      NaN      NaN      NaN       NaN   \n",
       "2      NaN      NaN      NaN      NaN      NaN      NaN      NaN       NaN   \n",
       "3      NaN      NaN      NaN      NaN      NaN      NaN      NaN       NaN   \n",
       "4      NaN      NaN      NaN      NaN      NaN      NaN      NaN       NaN   \n",
       "\n",
       "   s_q14_11  \n",
       "0       NaN  \n",
       "1       NaN  \n",
       "2       NaN  \n",
       "3       NaN  \n",
       "4       NaN  \n",
       "\n",
       "[5 rows x 2773 columns]"
      ],
      "text/html": "<div>\n<style scoped>\n    .dataframe tbody tr th:only-of-type {\n        vertical-align: middle;\n    }\n\n    .dataframe tbody tr th {\n        vertical-align: top;\n    }\n\n    .dataframe thead th {\n        text-align: right;\n    }\n</style>\n<table border=\"1\" class=\"dataframe\">\n  <thead>\n    <tr style=\"text-align: right;\">\n      <th></th>\n      <th>dbn</th>\n      <th>bn</th>\n      <th>schoolname</th>\n      <th>d75</th>\n      <th>studentssurveyed</th>\n      <th>highschool</th>\n      <th>schooltype</th>\n      <th>rr_s</th>\n      <th>rr_t</th>\n      <th>rr_p</th>\n      <th>...</th>\n      <th>s_q14_2</th>\n      <th>s_q14_3</th>\n      <th>s_q14_4</th>\n      <th>s_q14_5</th>\n      <th>s_q14_6</th>\n      <th>s_q14_7</th>\n      <th>s_q14_8</th>\n      <th>s_q14_9</th>\n      <th>s_q14_10</th>\n      <th>s_q14_11</th>\n    </tr>\n  </thead>\n  <tbody>\n    <tr>\n      <th>0</th>\n      <td>01M015</td>\n      <td>M015</td>\n      <td>P.S. 015 Roberto Clemente</td>\n      <td>0</td>\n      <td>No</td>\n      <td>0.0</td>\n      <td>Elementary School</td>\n      <td>NaN</td>\n      <td>88</td>\n      <td>60</td>\n      <td>...</td>\n      <td>NaN</td>\n      <td>NaN</td>\n      <td>NaN</td>\n      <td>NaN</td>\n      <td>NaN</td>\n      <td>NaN</td>\n      <td>NaN</td>\n      <td>NaN</td>\n      <td>NaN</td>\n      <td>NaN</td>\n    </tr>\n    <tr>\n      <th>1</th>\n      <td>01M019</td>\n      <td>M019</td>\n      <td>P.S. 019 Asher Levy</td>\n      <td>0</td>\n      <td>No</td>\n      <td>0.0</td>\n      <td>Elementary School</td>\n      <td>NaN</td>\n      <td>100</td>\n      <td>60</td>\n      <td>...</td>\n      <td>NaN</td>\n      <td>NaN</td>\n      <td>NaN</td>\n      <td>NaN</td>\n      <td>NaN</td>\n      <td>NaN</td>\n      <td>NaN</td>\n      <td>NaN</td>\n      <td>NaN</td>\n      <td>NaN</td>\n    </tr>\n    <tr>\n      <th>2</th>\n      <td>01M020</td>\n      <td>M020</td>\n      <td>P.S. 020 Anna Silver</td>\n      <td>0</td>\n      <td>No</td>\n      <td>0.0</td>\n      <td>Elementary School</td>\n      <td>NaN</td>\n      <td>88</td>\n      <td>73</td>\n      <td>...</td>\n      <td>NaN</td>\n      <td>NaN</td>\n      <td>NaN</td>\n      <td>NaN</td>\n      <td>NaN</td>\n      <td>NaN</td>\n      <td>NaN</td>\n      <td>NaN</td>\n      <td>NaN</td>\n      <td>NaN</td>\n    </tr>\n    <tr>\n      <th>3</th>\n      <td>01M034</td>\n      <td>M034</td>\n      <td>P.S. 034 Franklin D. Roosevelt</td>\n      <td>0</td>\n      <td>Yes</td>\n      <td>0.0</td>\n      <td>Elementary / Middle School</td>\n      <td>89.0</td>\n      <td>73</td>\n      <td>50</td>\n      <td>...</td>\n      <td>NaN</td>\n      <td>NaN</td>\n      <td>NaN</td>\n      <td>NaN</td>\n      <td>NaN</td>\n      <td>NaN</td>\n      <td>NaN</td>\n      <td>NaN</td>\n      <td>NaN</td>\n      <td>NaN</td>\n    </tr>\n    <tr>\n      <th>4</th>\n      <td>01M063</td>\n      <td>M063</td>\n      <td>P.S. 063 William McKinley</td>\n      <td>0</td>\n      <td>No</td>\n      <td>0.0</td>\n      <td>Elementary School</td>\n      <td>NaN</td>\n      <td>100</td>\n      <td>60</td>\n      <td>...</td>\n      <td>NaN</td>\n      <td>NaN</td>\n      <td>NaN</td>\n      <td>NaN</td>\n      <td>NaN</td>\n      <td>NaN</td>\n      <td>NaN</td>\n      <td>NaN</td>\n      <td>NaN</td>\n      <td>NaN</td>\n    </tr>\n  </tbody>\n</table>\n<p>5 rows × 2773 columns</p>\n</div>"
     },
     "metadata": {},
     "execution_count": 4
    }
   ],
   "source": [
    "'''Reading in the txt surveys and combining them into a single DataFrame.'''\n",
    "all_survey = pd.read_csv('__txt_data__/2011_School_Survey/survey_all.txt', delimiter=\"\\t\", encoding ='windows-1252')\n",
    "d75_survey = pd.read_csv('__txt_data__/2011_School_Survey/survey_d75.txt', delimiter=\"\\t\", encoding ='windows-1252')\n",
    "\n",
    "survey = pd.concat([all_survey, d75_survey], axis=0)\n",
    "survey.head()"
   ]
  },
  {
   "source": [
    "### Combining Files\n",
    "\n",
    "Here we combine the text files we previously read into the program. "
   ],
   "cell_type": "markdown",
   "metadata": {}
  },
  {
   "cell_type": "code",
   "execution_count": 5,
   "metadata": {},
   "outputs": [
    {
     "output_type": "stream",
     "name": "stdout",
     "text": [
      "       DBN  rr_s  rr_t  rr_p    N_s   N_t    N_p  saf_p_11  com_p_11  \\\n0   01M015   NaN    88    60    NaN  22.0   90.0       8.5       7.6   \n1   01M019   NaN   100    60    NaN  34.0  161.0       8.4       7.6   \n2   01M020   NaN    88    73    NaN  42.0  367.0       8.9       8.3   \n3   01M034  89.0    73    50  145.0  29.0  151.0       8.8       8.2   \n4   01M063   NaN   100    60    NaN  23.0   90.0       8.7       7.9   \n..     ...   ...   ...   ...    ...   ...    ...       ...       ...   \n51  75X352  90.0    58    48   38.0  46.0  160.0       8.9       8.3   \n52  75X721  84.0    90    48  237.0  82.0  239.0       8.6       7.6   \n53  75X723  77.0    74    20  103.0  69.0   74.0       8.4       7.8   \n54  75X754  63.0    93    22  336.0  82.0  124.0       8.3       7.5   \n55  75X811  38.0    63    19   44.0  71.0  119.0       8.5       7.8   \n\n    eng_p_11  ...  eng_t_11  aca_t_11  saf_s_11  com_s_11  eng_s_11  aca_s_11  \\\n0        7.5  ...       7.6       7.9       NaN       NaN       NaN       NaN   \n1        7.6  ...       8.9       9.1       NaN       NaN       NaN       NaN   \n2        8.3  ...       6.8       7.5       NaN       NaN       NaN       NaN   \n3        8.0  ...       6.8       7.8       6.2       5.9       6.5       7.4   \n4        8.1  ...       7.8       8.1       NaN       NaN       NaN       NaN   \n..       ...  ...       ...       ...       ...       ...       ...       ...   \n51       7.9  ...       5.7       5.8       6.8       6.0       7.8       7.6   \n52       7.5  ...       6.7       7.0       7.8       7.2       7.8       7.9   \n53       7.8  ...       6.7       7.6       6.7       7.2       7.7       7.7   \n54       7.5  ...       6.6       7.1       6.8       6.6       7.6       7.7   \n55       7.7  ...       6.5       7.0       7.7       6.1       7.7       7.7   \n\n    saf_tot_11  com_tot_11  eng_tot_11  aca_tot_11  \n0          8.0         7.7         7.5         7.9  \n1          8.5         8.1         8.2         8.4  \n2          8.2         7.3         7.5         8.0  \n3          7.3         6.7         7.1         7.9  \n4          8.5         7.6         7.9         8.0  \n..         ...         ...         ...         ...  \n51         7.4         6.6         7.1         7.2  \n52         8.0         7.1         7.3         7.6  \n53         7.6         7.4         7.4         7.7  \n54         7.2         6.9         7.3         7.5  \n55         7.7         6.8         7.3         7.5  \n\n[1702 rows x 23 columns]\n"
     ]
    }
   ],
   "source": [
    "# Renaming columns\n",
    "survey['DBN'] = survey['dbn']\n",
    "# Removing all the useless columns. There were over 2000 columns in this file. \n",
    "columns_to_keep = [\"DBN\", \"rr_s\", \"rr_t\", \"rr_p\", \"N_s\", \"N_t\", \"N_p\", \"saf_p_11\", \"com_p_11\", \"eng_p_11\", \"aca_p_11\", \"saf_t_11\", \"com_t_11\", \"eng_t_11\", \"aca_t_11\", \"saf_s_11\", \"com_s_11\", \"eng_s_11\", \"aca_s_11\", \"saf_tot_11\", \"com_tot_11\", \"eng_tot_11\", \"aca_tot_11\"]\n",
    "survey = survey.loc[:,columns_to_keep]\n",
    "data['survey'] = survey \n",
    "print(data['survey'])"
   ]
  },
  {
   "cell_type": "code",
   "execution_count": 6,
   "metadata": {},
   "outputs": [
    {
     "output_type": "execute_result",
     "data": {
      "text/plain": [
       "   CSD BOROUGH SCHOOL CODE                SCHOOL NAME GRADE  PROGRAM TYPE  \\\n",
       "0    1       M        M015  P.S. 015 Roberto Clemente     0K       GEN ED   \n",
       "1    1       M        M015  P.S. 015 Roberto Clemente     0K          CTT   \n",
       "2    1       M        M015  P.S. 015 Roberto Clemente     01       GEN ED   \n",
       "3    1       M        M015  P.S. 015 Roberto Clemente     01          CTT   \n",
       "4    1       M        M015  P.S. 015 Roberto Clemente     02       GEN ED   \n",
       "\n",
       "  CORE SUBJECT (MS CORE and 9-12 ONLY) CORE COURSE (MS CORE and 9-12 ONLY)  \\\n",
       "0                                    -                                   -   \n",
       "1                                    -                                   -   \n",
       "2                                    -                                   -   \n",
       "3                                    -                                   -   \n",
       "4                                    -                                   -   \n",
       "\n",
       "  SERVICE CATEGORY(K-9* ONLY)  NUMBER OF STUDENTS / SEATS FILLED  \\\n",
       "0                           -                               19.0   \n",
       "1                           -                               21.0   \n",
       "2                           -                               17.0   \n",
       "3                           -                               17.0   \n",
       "4                           -                               15.0   \n",
       "\n",
       "   NUMBER OF SECTIONS  AVERAGE CLASS SIZE  SIZE OF SMALLEST CLASS  \\\n",
       "0                 1.0                19.0                    19.0   \n",
       "1                 1.0                21.0                    21.0   \n",
       "2                 1.0                17.0                    17.0   \n",
       "3                 1.0                17.0                    17.0   \n",
       "4                 1.0                15.0                    15.0   \n",
       "\n",
       "   SIZE OF LARGEST CLASS DATA SOURCE  SCHOOLWIDE PUPIL-TEACHER RATIO  \\\n",
       "0                   19.0         ATS                             NaN   \n",
       "1                   21.0         ATS                             NaN   \n",
       "2                   17.0         ATS                             NaN   \n",
       "3                   17.0         ATS                             NaN   \n",
       "4                   15.0         ATS                             NaN   \n",
       "\n",
       "  padded_csd     DBN  \n",
       "0         01  01M015  \n",
       "1         01  01M015  \n",
       "2         01  01M015  \n",
       "3         01  01M015  \n",
       "4         01  01M015  "
      ],
      "text/html": "<div>\n<style scoped>\n    .dataframe tbody tr th:only-of-type {\n        vertical-align: middle;\n    }\n\n    .dataframe tbody tr th {\n        vertical-align: top;\n    }\n\n    .dataframe thead th {\n        text-align: right;\n    }\n</style>\n<table border=\"1\" class=\"dataframe\">\n  <thead>\n    <tr style=\"text-align: right;\">\n      <th></th>\n      <th>CSD</th>\n      <th>BOROUGH</th>\n      <th>SCHOOL CODE</th>\n      <th>SCHOOL NAME</th>\n      <th>GRADE</th>\n      <th>PROGRAM TYPE</th>\n      <th>CORE SUBJECT (MS CORE and 9-12 ONLY)</th>\n      <th>CORE COURSE (MS CORE and 9-12 ONLY)</th>\n      <th>SERVICE CATEGORY(K-9* ONLY)</th>\n      <th>NUMBER OF STUDENTS / SEATS FILLED</th>\n      <th>NUMBER OF SECTIONS</th>\n      <th>AVERAGE CLASS SIZE</th>\n      <th>SIZE OF SMALLEST CLASS</th>\n      <th>SIZE OF LARGEST CLASS</th>\n      <th>DATA SOURCE</th>\n      <th>SCHOOLWIDE PUPIL-TEACHER RATIO</th>\n      <th>padded_csd</th>\n      <th>DBN</th>\n    </tr>\n  </thead>\n  <tbody>\n    <tr>\n      <th>0</th>\n      <td>1</td>\n      <td>M</td>\n      <td>M015</td>\n      <td>P.S. 015 Roberto Clemente</td>\n      <td>0K</td>\n      <td>GEN ED</td>\n      <td>-</td>\n      <td>-</td>\n      <td>-</td>\n      <td>19.0</td>\n      <td>1.0</td>\n      <td>19.0</td>\n      <td>19.0</td>\n      <td>19.0</td>\n      <td>ATS</td>\n      <td>NaN</td>\n      <td>01</td>\n      <td>01M015</td>\n    </tr>\n    <tr>\n      <th>1</th>\n      <td>1</td>\n      <td>M</td>\n      <td>M015</td>\n      <td>P.S. 015 Roberto Clemente</td>\n      <td>0K</td>\n      <td>CTT</td>\n      <td>-</td>\n      <td>-</td>\n      <td>-</td>\n      <td>21.0</td>\n      <td>1.0</td>\n      <td>21.0</td>\n      <td>21.0</td>\n      <td>21.0</td>\n      <td>ATS</td>\n      <td>NaN</td>\n      <td>01</td>\n      <td>01M015</td>\n    </tr>\n    <tr>\n      <th>2</th>\n      <td>1</td>\n      <td>M</td>\n      <td>M015</td>\n      <td>P.S. 015 Roberto Clemente</td>\n      <td>01</td>\n      <td>GEN ED</td>\n      <td>-</td>\n      <td>-</td>\n      <td>-</td>\n      <td>17.0</td>\n      <td>1.0</td>\n      <td>17.0</td>\n      <td>17.0</td>\n      <td>17.0</td>\n      <td>ATS</td>\n      <td>NaN</td>\n      <td>01</td>\n      <td>01M015</td>\n    </tr>\n    <tr>\n      <th>3</th>\n      <td>1</td>\n      <td>M</td>\n      <td>M015</td>\n      <td>P.S. 015 Roberto Clemente</td>\n      <td>01</td>\n      <td>CTT</td>\n      <td>-</td>\n      <td>-</td>\n      <td>-</td>\n      <td>17.0</td>\n      <td>1.0</td>\n      <td>17.0</td>\n      <td>17.0</td>\n      <td>17.0</td>\n      <td>ATS</td>\n      <td>NaN</td>\n      <td>01</td>\n      <td>01M015</td>\n    </tr>\n    <tr>\n      <th>4</th>\n      <td>1</td>\n      <td>M</td>\n      <td>M015</td>\n      <td>P.S. 015 Roberto Clemente</td>\n      <td>02</td>\n      <td>GEN ED</td>\n      <td>-</td>\n      <td>-</td>\n      <td>-</td>\n      <td>15.0</td>\n      <td>1.0</td>\n      <td>15.0</td>\n      <td>15.0</td>\n      <td>15.0</td>\n      <td>ATS</td>\n      <td>NaN</td>\n      <td>01</td>\n      <td>01M015</td>\n    </tr>\n  </tbody>\n</table>\n</div>"
     },
     "metadata": {},
     "execution_count": 6
    }
   ],
   "source": [
    "\n",
    "def add_zero(num):\n",
    "    '''This function adds a leading zero to the necessary column.'''\n",
    "    str_num = str(num)\n",
    "    len_num = len(str_num)\n",
    "    if len_num <= 1:\n",
    "        return str_num.zfill(2)\n",
    "    else:\n",
    "        return str_num\n",
    "\n",
    "# Updating the HS_Directory file and adding a column to the class size DataFrame. \n",
    "data['hs_directory']['DBN'] = data['hs_directory']['dbn']\n",
    "data['class_size']['padded_csd'] = data['class_size']['CSD'].apply(add_zero)\n",
    "data['class_size']['DBN'] = data['class_size']['padded_csd'] + data['class_size']['SCHOOL CODE']\n",
    "data['class_size'].head()\n"
   ]
  },
  {
   "cell_type": "code",
   "execution_count": 7,
   "metadata": {},
   "outputs": [
    {
     "output_type": "execute_result",
     "data": {
      "text/plain": [
       "      DBN                                    SCHOOL NAME  \\\n",
       "0  01M292  HENRY STREET SCHOOL FOR INTERNATIONAL STUDIES   \n",
       "1  01M448            UNIVERSITY NEIGHBORHOOD HIGH SCHOOL   \n",
       "2  01M450                     EAST SIDE COMMUNITY SCHOOL   \n",
       "3  01M458                      FORSYTH SATELLITE ACADEMY   \n",
       "4  01M509                        MARTA VALLE HIGH SCHOOL   \n",
       "\n",
       "  Num of SAT Test Takers  SAT Critical Reading Avg. Score  \\\n",
       "0                     29                            355.0   \n",
       "1                     91                            383.0   \n",
       "2                     70                            377.0   \n",
       "3                      7                            414.0   \n",
       "4                     44                            390.0   \n",
       "\n",
       "   SAT Math Avg. Score  SAT Writing Avg. Score  sat_score  \n",
       "0                404.0                   363.0     1122.0  \n",
       "1                423.0                   366.0     1172.0  \n",
       "2                402.0                   370.0     1149.0  \n",
       "3                401.0                   359.0     1174.0  \n",
       "4                433.0                   384.0     1207.0  "
      ],
      "text/html": "<div>\n<style scoped>\n    .dataframe tbody tr th:only-of-type {\n        vertical-align: middle;\n    }\n\n    .dataframe tbody tr th {\n        vertical-align: top;\n    }\n\n    .dataframe thead th {\n        text-align: right;\n    }\n</style>\n<table border=\"1\" class=\"dataframe\">\n  <thead>\n    <tr style=\"text-align: right;\">\n      <th></th>\n      <th>DBN</th>\n      <th>SCHOOL NAME</th>\n      <th>Num of SAT Test Takers</th>\n      <th>SAT Critical Reading Avg. Score</th>\n      <th>SAT Math Avg. Score</th>\n      <th>SAT Writing Avg. Score</th>\n      <th>sat_score</th>\n    </tr>\n  </thead>\n  <tbody>\n    <tr>\n      <th>0</th>\n      <td>01M292</td>\n      <td>HENRY STREET SCHOOL FOR INTERNATIONAL STUDIES</td>\n      <td>29</td>\n      <td>355.0</td>\n      <td>404.0</td>\n      <td>363.0</td>\n      <td>1122.0</td>\n    </tr>\n    <tr>\n      <th>1</th>\n      <td>01M448</td>\n      <td>UNIVERSITY NEIGHBORHOOD HIGH SCHOOL</td>\n      <td>91</td>\n      <td>383.0</td>\n      <td>423.0</td>\n      <td>366.0</td>\n      <td>1172.0</td>\n    </tr>\n    <tr>\n      <th>2</th>\n      <td>01M450</td>\n      <td>EAST SIDE COMMUNITY SCHOOL</td>\n      <td>70</td>\n      <td>377.0</td>\n      <td>402.0</td>\n      <td>370.0</td>\n      <td>1149.0</td>\n    </tr>\n    <tr>\n      <th>3</th>\n      <td>01M458</td>\n      <td>FORSYTH SATELLITE ACADEMY</td>\n      <td>7</td>\n      <td>414.0</td>\n      <td>401.0</td>\n      <td>359.0</td>\n      <td>1174.0</td>\n    </tr>\n    <tr>\n      <th>4</th>\n      <td>01M509</td>\n      <td>MARTA VALLE HIGH SCHOOL</td>\n      <td>44</td>\n      <td>390.0</td>\n      <td>433.0</td>\n      <td>384.0</td>\n      <td>1207.0</td>\n    </tr>\n  </tbody>\n</table>\n</div>"
     },
     "metadata": {},
     "execution_count": 7
    }
   ],
   "source": [
    "'''Making the following columns int's in order to combine into 1 column'''\n",
    "columns = ['SAT Math Avg. Score', 'SAT Critical Reading Avg. Score', 'SAT Writing Avg. Score']\n",
    "for c in columns:\n",
    "    data['sat_results'][c] = pd.to_numeric(data['sat_results'][c], errors='coerce')\n",
    "\n",
    "# Adding the following columns to a new column Sat Score.\n",
    "data['sat_results']['sat_score'] = data['sat_results'][columns[0]] + data['sat_results'][columns[1]] + data['sat_results'][columns[2]]\n",
    "data['sat_results'].head()"
   ]
  },
  {
   "source": [
    "### Getting Coordinates\n",
    "\n",
    "Next we will be collecting the longitutde and latitude coordinates from the High School Directory DataFrame. This well help us later on create better geodemographic segmentations. "
   ],
   "cell_type": "markdown",
   "metadata": {}
  },
  {
   "cell_type": "code",
   "execution_count": 8,
   "metadata": {},
   "outputs": [
    {
     "output_type": "execute_result",
     "data": {
      "text/plain": [
       "      dbn                                        school_name    borough  \\\n",
       "0  27Q260          Frederick Douglass Academy VI High School     Queens   \n",
       "1  21K559        Life Academy High School for Film and Music   Brooklyn   \n",
       "2  16K393     Frederick Douglass Academy IV Secondary School   Brooklyn   \n",
       "3  08X305                               Pablo Neruda Academy      Bronx   \n",
       "4  03M485  Fiorello H. LaGuardia High School of Music & A...  Manhattan   \n",
       "\n",
       "  building_code  phone_number    fax_number  grade_span_min  grade_span_max  \\\n",
       "0          Q465  718-471-2154  718-471-2890             9.0              12   \n",
       "1          K400  718-333-7750  718-333-7775             9.0              12   \n",
       "2          K026  718-574-2820  718-574-2821             9.0              12   \n",
       "3          X450  718-824-1682  718-824-1663             9.0              12   \n",
       "4          M485  212-496-0700  212-724-5748             9.0              12   \n",
       "\n",
       "   expgrade_span_min  expgrade_span_max  ... priority10  \\\n",
       "0                NaN                NaN  ...        NaN   \n",
       "1                NaN                NaN  ...        NaN   \n",
       "2                NaN                NaN  ...        NaN   \n",
       "3                NaN                NaN  ...        NaN   \n",
       "4                NaN                NaN  ...        NaN   \n",
       "\n",
       "                                          Location 1 Community Board  \\\n",
       "0  8 21 Bay 25 Street\\nFar Rockaway, NY 11691\\n(4...            14.0   \n",
       "1  2630 Benson Avenue\\nBrooklyn, NY 11214\\n(40.59...            13.0   \n",
       "2  1014 Lafayette Avenue\\nBrooklyn, NY 11221\\n(40...             3.0   \n",
       "3  1980 Lafayette Avenue\\nBronx, NY 10473\\n(40.82...             9.0   \n",
       "4  100 Amsterdam Avenue\\nNew York, NY 10023\\n(40....             7.0   \n",
       "\n",
       "  Council District Census Tract        BIN           BBL  \\\n",
       "0             31.0     100802.0  4300730.0  4.157360e+09   \n",
       "1             47.0        306.0  3186454.0  3.068830e+09   \n",
       "2             36.0        291.0  3393805.0  3.016160e+09   \n",
       "3             18.0         16.0  2022205.0  2.036040e+09   \n",
       "4              6.0        151.0  1030341.0  1.011560e+09   \n",
       "\n",
       "                                                 NTA     DBN           lat  \n",
       "0  Far Rockaway-Bayswater                        ...  27Q260  40.601989336  \n",
       "1  Gravesend                                     ...  21K559  40.593593811  \n",
       "2  Stuyvesant Heights                            ...  16K393  40.692133704  \n",
       "3  Soundview-Castle Hill-Clason Point-Harding Par...  08X305  40.822303765  \n",
       "4  Lincoln Square                                ...  03M485  40.773670507  \n",
       "\n",
       "[5 rows x 66 columns]"
      ],
      "text/html": "<div>\n<style scoped>\n    .dataframe tbody tr th:only-of-type {\n        vertical-align: middle;\n    }\n\n    .dataframe tbody tr th {\n        vertical-align: top;\n    }\n\n    .dataframe thead th {\n        text-align: right;\n    }\n</style>\n<table border=\"1\" class=\"dataframe\">\n  <thead>\n    <tr style=\"text-align: right;\">\n      <th></th>\n      <th>dbn</th>\n      <th>school_name</th>\n      <th>borough</th>\n      <th>building_code</th>\n      <th>phone_number</th>\n      <th>fax_number</th>\n      <th>grade_span_min</th>\n      <th>grade_span_max</th>\n      <th>expgrade_span_min</th>\n      <th>expgrade_span_max</th>\n      <th>...</th>\n      <th>priority10</th>\n      <th>Location 1</th>\n      <th>Community Board</th>\n      <th>Council District</th>\n      <th>Census Tract</th>\n      <th>BIN</th>\n      <th>BBL</th>\n      <th>NTA</th>\n      <th>DBN</th>\n      <th>lat</th>\n    </tr>\n  </thead>\n  <tbody>\n    <tr>\n      <th>0</th>\n      <td>27Q260</td>\n      <td>Frederick Douglass Academy VI High School</td>\n      <td>Queens</td>\n      <td>Q465</td>\n      <td>718-471-2154</td>\n      <td>718-471-2890</td>\n      <td>9.0</td>\n      <td>12</td>\n      <td>NaN</td>\n      <td>NaN</td>\n      <td>...</td>\n      <td>NaN</td>\n      <td>8 21 Bay 25 Street\\nFar Rockaway, NY 11691\\n(4...</td>\n      <td>14.0</td>\n      <td>31.0</td>\n      <td>100802.0</td>\n      <td>4300730.0</td>\n      <td>4.157360e+09</td>\n      <td>Far Rockaway-Bayswater                        ...</td>\n      <td>27Q260</td>\n      <td>40.601989336</td>\n    </tr>\n    <tr>\n      <th>1</th>\n      <td>21K559</td>\n      <td>Life Academy High School for Film and Music</td>\n      <td>Brooklyn</td>\n      <td>K400</td>\n      <td>718-333-7750</td>\n      <td>718-333-7775</td>\n      <td>9.0</td>\n      <td>12</td>\n      <td>NaN</td>\n      <td>NaN</td>\n      <td>...</td>\n      <td>NaN</td>\n      <td>2630 Benson Avenue\\nBrooklyn, NY 11214\\n(40.59...</td>\n      <td>13.0</td>\n      <td>47.0</td>\n      <td>306.0</td>\n      <td>3186454.0</td>\n      <td>3.068830e+09</td>\n      <td>Gravesend                                     ...</td>\n      <td>21K559</td>\n      <td>40.593593811</td>\n    </tr>\n    <tr>\n      <th>2</th>\n      <td>16K393</td>\n      <td>Frederick Douglass Academy IV Secondary School</td>\n      <td>Brooklyn</td>\n      <td>K026</td>\n      <td>718-574-2820</td>\n      <td>718-574-2821</td>\n      <td>9.0</td>\n      <td>12</td>\n      <td>NaN</td>\n      <td>NaN</td>\n      <td>...</td>\n      <td>NaN</td>\n      <td>1014 Lafayette Avenue\\nBrooklyn, NY 11221\\n(40...</td>\n      <td>3.0</td>\n      <td>36.0</td>\n      <td>291.0</td>\n      <td>3393805.0</td>\n      <td>3.016160e+09</td>\n      <td>Stuyvesant Heights                            ...</td>\n      <td>16K393</td>\n      <td>40.692133704</td>\n    </tr>\n    <tr>\n      <th>3</th>\n      <td>08X305</td>\n      <td>Pablo Neruda Academy</td>\n      <td>Bronx</td>\n      <td>X450</td>\n      <td>718-824-1682</td>\n      <td>718-824-1663</td>\n      <td>9.0</td>\n      <td>12</td>\n      <td>NaN</td>\n      <td>NaN</td>\n      <td>...</td>\n      <td>NaN</td>\n      <td>1980 Lafayette Avenue\\nBronx, NY 10473\\n(40.82...</td>\n      <td>9.0</td>\n      <td>18.0</td>\n      <td>16.0</td>\n      <td>2022205.0</td>\n      <td>2.036040e+09</td>\n      <td>Soundview-Castle Hill-Clason Point-Harding Par...</td>\n      <td>08X305</td>\n      <td>40.822303765</td>\n    </tr>\n    <tr>\n      <th>4</th>\n      <td>03M485</td>\n      <td>Fiorello H. LaGuardia High School of Music &amp; A...</td>\n      <td>Manhattan</td>\n      <td>M485</td>\n      <td>212-496-0700</td>\n      <td>212-724-5748</td>\n      <td>9.0</td>\n      <td>12</td>\n      <td>NaN</td>\n      <td>NaN</td>\n      <td>...</td>\n      <td>NaN</td>\n      <td>100 Amsterdam Avenue\\nNew York, NY 10023\\n(40....</td>\n      <td>7.0</td>\n      <td>6.0</td>\n      <td>151.0</td>\n      <td>1030341.0</td>\n      <td>1.011560e+09</td>\n      <td>Lincoln Square                                ...</td>\n      <td>03M485</td>\n      <td>40.773670507</td>\n    </tr>\n  </tbody>\n</table>\n<p>5 rows × 66 columns</p>\n</div>"
     },
     "metadata": {},
     "execution_count": 8
    }
   ],
   "source": [
    "import re\n",
    "def coords(location):\n",
    "    '''Uses a regular expression to isolate the coordinates and extract them.'''\n",
    "    location = re.findall(\"\\(.+\\)\", location)\n",
    "    loc = location[0].split(',')[0].replace('(','')\n",
    "    return loc\n",
    "\n",
    "# Finding the latitude coordinates\n",
    "data['hs_directory']['lat'] = data['hs_directory']['Location 1'].apply(coords)\n",
    "data['hs_directory'].head()"
   ]
  },
  {
   "cell_type": "code",
   "execution_count": 9,
   "metadata": {},
   "outputs": [
    {
     "output_type": "execute_result",
     "data": {
      "text/plain": [
       "      dbn                                        school_name    borough  \\\n",
       "0  27Q260          Frederick Douglass Academy VI High School     Queens   \n",
       "1  21K559        Life Academy High School for Film and Music   Brooklyn   \n",
       "2  16K393     Frederick Douglass Academy IV Secondary School   Brooklyn   \n",
       "3  08X305                               Pablo Neruda Academy      Bronx   \n",
       "4  03M485  Fiorello H. LaGuardia High School of Music & A...  Manhattan   \n",
       "\n",
       "  building_code  phone_number    fax_number  grade_span_min  grade_span_max  \\\n",
       "0          Q465  718-471-2154  718-471-2890             9.0              12   \n",
       "1          K400  718-333-7750  718-333-7775             9.0              12   \n",
       "2          K026  718-574-2820  718-574-2821             9.0              12   \n",
       "3          X450  718-824-1682  718-824-1663             9.0              12   \n",
       "4          M485  212-496-0700  212-724-5748             9.0              12   \n",
       "\n",
       "   expgrade_span_min  expgrade_span_max  ...  \\\n",
       "0                NaN                NaN  ...   \n",
       "1                NaN                NaN  ...   \n",
       "2                NaN                NaN  ...   \n",
       "3                NaN                NaN  ...   \n",
       "4                NaN                NaN  ...   \n",
       "\n",
       "                                          Location 1 Community Board  \\\n",
       "0  8 21 Bay 25 Street\\nFar Rockaway, NY 11691\\n(4...            14.0   \n",
       "1  2630 Benson Avenue\\nBrooklyn, NY 11214\\n(40.59...            13.0   \n",
       "2  1014 Lafayette Avenue\\nBrooklyn, NY 11221\\n(40...             3.0   \n",
       "3  1980 Lafayette Avenue\\nBronx, NY 10473\\n(40.82...             9.0   \n",
       "4  100 Amsterdam Avenue\\nNew York, NY 10023\\n(40....             7.0   \n",
       "\n",
       "  Council District Census Tract        BIN           BBL  \\\n",
       "0             31.0     100802.0  4300730.0  4.157360e+09   \n",
       "1             47.0        306.0  3186454.0  3.068830e+09   \n",
       "2             36.0        291.0  3393805.0  3.016160e+09   \n",
       "3             18.0         16.0  2022205.0  2.036040e+09   \n",
       "4              6.0        151.0  1030341.0  1.011560e+09   \n",
       "\n",
       "                                                 NTA     DBN        lat  \\\n",
       "0  Far Rockaway-Bayswater                        ...  27Q260  40.601989   \n",
       "1  Gravesend                                     ...  21K559  40.593594   \n",
       "2  Stuyvesant Heights                            ...  16K393  40.692134   \n",
       "3  Soundview-Castle Hill-Clason Point-Harding Par...  08X305  40.822304   \n",
       "4  Lincoln Square                                ...  03M485  40.773671   \n",
       "\n",
       "         lon  \n",
       "0 -73.762834  \n",
       "1 -73.984729  \n",
       "2 -73.931503  \n",
       "3 -73.855961  \n",
       "4 -73.985269  \n",
       "\n",
       "[5 rows x 67 columns]"
      ],
      "text/html": "<div>\n<style scoped>\n    .dataframe tbody tr th:only-of-type {\n        vertical-align: middle;\n    }\n\n    .dataframe tbody tr th {\n        vertical-align: top;\n    }\n\n    .dataframe thead th {\n        text-align: right;\n    }\n</style>\n<table border=\"1\" class=\"dataframe\">\n  <thead>\n    <tr style=\"text-align: right;\">\n      <th></th>\n      <th>dbn</th>\n      <th>school_name</th>\n      <th>borough</th>\n      <th>building_code</th>\n      <th>phone_number</th>\n      <th>fax_number</th>\n      <th>grade_span_min</th>\n      <th>grade_span_max</th>\n      <th>expgrade_span_min</th>\n      <th>expgrade_span_max</th>\n      <th>...</th>\n      <th>Location 1</th>\n      <th>Community Board</th>\n      <th>Council District</th>\n      <th>Census Tract</th>\n      <th>BIN</th>\n      <th>BBL</th>\n      <th>NTA</th>\n      <th>DBN</th>\n      <th>lat</th>\n      <th>lon</th>\n    </tr>\n  </thead>\n  <tbody>\n    <tr>\n      <th>0</th>\n      <td>27Q260</td>\n      <td>Frederick Douglass Academy VI High School</td>\n      <td>Queens</td>\n      <td>Q465</td>\n      <td>718-471-2154</td>\n      <td>718-471-2890</td>\n      <td>9.0</td>\n      <td>12</td>\n      <td>NaN</td>\n      <td>NaN</td>\n      <td>...</td>\n      <td>8 21 Bay 25 Street\\nFar Rockaway, NY 11691\\n(4...</td>\n      <td>14.0</td>\n      <td>31.0</td>\n      <td>100802.0</td>\n      <td>4300730.0</td>\n      <td>4.157360e+09</td>\n      <td>Far Rockaway-Bayswater                        ...</td>\n      <td>27Q260</td>\n      <td>40.601989</td>\n      <td>-73.762834</td>\n    </tr>\n    <tr>\n      <th>1</th>\n      <td>21K559</td>\n      <td>Life Academy High School for Film and Music</td>\n      <td>Brooklyn</td>\n      <td>K400</td>\n      <td>718-333-7750</td>\n      <td>718-333-7775</td>\n      <td>9.0</td>\n      <td>12</td>\n      <td>NaN</td>\n      <td>NaN</td>\n      <td>...</td>\n      <td>2630 Benson Avenue\\nBrooklyn, NY 11214\\n(40.59...</td>\n      <td>13.0</td>\n      <td>47.0</td>\n      <td>306.0</td>\n      <td>3186454.0</td>\n      <td>3.068830e+09</td>\n      <td>Gravesend                                     ...</td>\n      <td>21K559</td>\n      <td>40.593594</td>\n      <td>-73.984729</td>\n    </tr>\n    <tr>\n      <th>2</th>\n      <td>16K393</td>\n      <td>Frederick Douglass Academy IV Secondary School</td>\n      <td>Brooklyn</td>\n      <td>K026</td>\n      <td>718-574-2820</td>\n      <td>718-574-2821</td>\n      <td>9.0</td>\n      <td>12</td>\n      <td>NaN</td>\n      <td>NaN</td>\n      <td>...</td>\n      <td>1014 Lafayette Avenue\\nBrooklyn, NY 11221\\n(40...</td>\n      <td>3.0</td>\n      <td>36.0</td>\n      <td>291.0</td>\n      <td>3393805.0</td>\n      <td>3.016160e+09</td>\n      <td>Stuyvesant Heights                            ...</td>\n      <td>16K393</td>\n      <td>40.692134</td>\n      <td>-73.931503</td>\n    </tr>\n    <tr>\n      <th>3</th>\n      <td>08X305</td>\n      <td>Pablo Neruda Academy</td>\n      <td>Bronx</td>\n      <td>X450</td>\n      <td>718-824-1682</td>\n      <td>718-824-1663</td>\n      <td>9.0</td>\n      <td>12</td>\n      <td>NaN</td>\n      <td>NaN</td>\n      <td>...</td>\n      <td>1980 Lafayette Avenue\\nBronx, NY 10473\\n(40.82...</td>\n      <td>9.0</td>\n      <td>18.0</td>\n      <td>16.0</td>\n      <td>2022205.0</td>\n      <td>2.036040e+09</td>\n      <td>Soundview-Castle Hill-Clason Point-Harding Par...</td>\n      <td>08X305</td>\n      <td>40.822304</td>\n      <td>-73.855961</td>\n    </tr>\n    <tr>\n      <th>4</th>\n      <td>03M485</td>\n      <td>Fiorello H. LaGuardia High School of Music &amp; A...</td>\n      <td>Manhattan</td>\n      <td>M485</td>\n      <td>212-496-0700</td>\n      <td>212-724-5748</td>\n      <td>9.0</td>\n      <td>12</td>\n      <td>NaN</td>\n      <td>NaN</td>\n      <td>...</td>\n      <td>100 Amsterdam Avenue\\nNew York, NY 10023\\n(40....</td>\n      <td>7.0</td>\n      <td>6.0</td>\n      <td>151.0</td>\n      <td>1030341.0</td>\n      <td>1.011560e+09</td>\n      <td>Lincoln Square                                ...</td>\n      <td>03M485</td>\n      <td>40.773671</td>\n      <td>-73.985269</td>\n    </tr>\n  </tbody>\n</table>\n<p>5 rows × 67 columns</p>\n</div>"
     },
     "metadata": {},
     "execution_count": 9
    }
   ],
   "source": [
    "def coords(location):\n",
    "    location = re.findall(\"\\(.+\\)\", location)\n",
    "    loc = location[0].split(',')[1].replace(')','')\n",
    "    return loc\n",
    "\n",
    "# Finds the longitude coordinates.\n",
    "data['hs_directory']['lon'] = data['hs_directory']['Location 1'].apply(coords)\n",
    "# Converts our newly captured coordinates too floats.\n",
    "data['hs_directory']['lon'] = pd.to_numeric((data['hs_directory']['lon']), errors='coerce')\n",
    "data['hs_directory']['lat'] = pd.to_numeric((data['hs_directory']['lat']), errors='coerce')\n",
    "data['hs_directory'].head()"
   ]
  },
  {
   "source": [
    "## Preparing the Data\n",
    "\n",
    "We need to make sure each DataFrame's DBN column contains only unique values. If not we will experience errors when we try and join the data. "
   ],
   "cell_type": "markdown",
   "metadata": {}
  },
  {
   "cell_type": "code",
   "execution_count": 10,
   "metadata": {},
   "outputs": [
    {
     "output_type": "execute_result",
     "data": {
      "text/plain": [
       "     CSD BOROUGH SCHOOL CODE                                    SCHOOL NAME  \\\n",
       "225    1       M        M292  Henry Street School for International Studies   \n",
       "226    1       M        M292  Henry Street School for International Studies   \n",
       "227    1       M        M292  Henry Street School for International Studies   \n",
       "228    1       M        M292  Henry Street School for International Studies   \n",
       "229    1       M        M292  Henry Street School for International Studies   \n",
       "\n",
       "    GRADE  PROGRAM TYPE CORE SUBJECT (MS CORE and 9-12 ONLY)  \\\n",
       "225  09-12       GEN ED                              ENGLISH   \n",
       "226  09-12       GEN ED                              ENGLISH   \n",
       "227  09-12       GEN ED                              ENGLISH   \n",
       "228  09-12       GEN ED                              ENGLISH   \n",
       "229  09-12       GEN ED                                 MATH   \n",
       "\n",
       "    CORE COURSE (MS CORE and 9-12 ONLY) SERVICE CATEGORY(K-9* ONLY)  \\\n",
       "225                           English 9                           -   \n",
       "226                          English 10                           -   \n",
       "227                          English 11                           -   \n",
       "228                          English 12                           -   \n",
       "229                  Integrated Algebra                           -   \n",
       "\n",
       "     NUMBER OF STUDENTS / SEATS FILLED  NUMBER OF SECTIONS  \\\n",
       "225                               63.0                 3.0   \n",
       "226                               79.0                 3.0   \n",
       "227                               38.0                 2.0   \n",
       "228                               69.0                 3.0   \n",
       "229                               53.0                 3.0   \n",
       "\n",
       "     AVERAGE CLASS SIZE  SIZE OF SMALLEST CLASS  SIZE OF LARGEST CLASS  \\\n",
       "225                21.0                    19.0                   25.0   \n",
       "226                26.3                    24.0                   31.0   \n",
       "227                19.0                    16.0                   22.0   \n",
       "228                23.0                    13.0                   30.0   \n",
       "229                17.7                    16.0                   21.0   \n",
       "\n",
       "    DATA SOURCE  SCHOOLWIDE PUPIL-TEACHER RATIO padded_csd     DBN  \n",
       "225       STARS                             NaN         01  01M292  \n",
       "226       STARS                             NaN         01  01M292  \n",
       "227       STARS                             NaN         01  01M292  \n",
       "228       STARS                             NaN         01  01M292  \n",
       "229       STARS                             NaN         01  01M292  "
      ],
      "text/html": "<div>\n<style scoped>\n    .dataframe tbody tr th:only-of-type {\n        vertical-align: middle;\n    }\n\n    .dataframe tbody tr th {\n        vertical-align: top;\n    }\n\n    .dataframe thead th {\n        text-align: right;\n    }\n</style>\n<table border=\"1\" class=\"dataframe\">\n  <thead>\n    <tr style=\"text-align: right;\">\n      <th></th>\n      <th>CSD</th>\n      <th>BOROUGH</th>\n      <th>SCHOOL CODE</th>\n      <th>SCHOOL NAME</th>\n      <th>GRADE</th>\n      <th>PROGRAM TYPE</th>\n      <th>CORE SUBJECT (MS CORE and 9-12 ONLY)</th>\n      <th>CORE COURSE (MS CORE and 9-12 ONLY)</th>\n      <th>SERVICE CATEGORY(K-9* ONLY)</th>\n      <th>NUMBER OF STUDENTS / SEATS FILLED</th>\n      <th>NUMBER OF SECTIONS</th>\n      <th>AVERAGE CLASS SIZE</th>\n      <th>SIZE OF SMALLEST CLASS</th>\n      <th>SIZE OF LARGEST CLASS</th>\n      <th>DATA SOURCE</th>\n      <th>SCHOOLWIDE PUPIL-TEACHER RATIO</th>\n      <th>padded_csd</th>\n      <th>DBN</th>\n    </tr>\n  </thead>\n  <tbody>\n    <tr>\n      <th>225</th>\n      <td>1</td>\n      <td>M</td>\n      <td>M292</td>\n      <td>Henry Street School for International Studies</td>\n      <td>09-12</td>\n      <td>GEN ED</td>\n      <td>ENGLISH</td>\n      <td>English 9</td>\n      <td>-</td>\n      <td>63.0</td>\n      <td>3.0</td>\n      <td>21.0</td>\n      <td>19.0</td>\n      <td>25.0</td>\n      <td>STARS</td>\n      <td>NaN</td>\n      <td>01</td>\n      <td>01M292</td>\n    </tr>\n    <tr>\n      <th>226</th>\n      <td>1</td>\n      <td>M</td>\n      <td>M292</td>\n      <td>Henry Street School for International Studies</td>\n      <td>09-12</td>\n      <td>GEN ED</td>\n      <td>ENGLISH</td>\n      <td>English 10</td>\n      <td>-</td>\n      <td>79.0</td>\n      <td>3.0</td>\n      <td>26.3</td>\n      <td>24.0</td>\n      <td>31.0</td>\n      <td>STARS</td>\n      <td>NaN</td>\n      <td>01</td>\n      <td>01M292</td>\n    </tr>\n    <tr>\n      <th>227</th>\n      <td>1</td>\n      <td>M</td>\n      <td>M292</td>\n      <td>Henry Street School for International Studies</td>\n      <td>09-12</td>\n      <td>GEN ED</td>\n      <td>ENGLISH</td>\n      <td>English 11</td>\n      <td>-</td>\n      <td>38.0</td>\n      <td>2.0</td>\n      <td>19.0</td>\n      <td>16.0</td>\n      <td>22.0</td>\n      <td>STARS</td>\n      <td>NaN</td>\n      <td>01</td>\n      <td>01M292</td>\n    </tr>\n    <tr>\n      <th>228</th>\n      <td>1</td>\n      <td>M</td>\n      <td>M292</td>\n      <td>Henry Street School for International Studies</td>\n      <td>09-12</td>\n      <td>GEN ED</td>\n      <td>ENGLISH</td>\n      <td>English 12</td>\n      <td>-</td>\n      <td>69.0</td>\n      <td>3.0</td>\n      <td>23.0</td>\n      <td>13.0</td>\n      <td>30.0</td>\n      <td>STARS</td>\n      <td>NaN</td>\n      <td>01</td>\n      <td>01M292</td>\n    </tr>\n    <tr>\n      <th>229</th>\n      <td>1</td>\n      <td>M</td>\n      <td>M292</td>\n      <td>Henry Street School for International Studies</td>\n      <td>09-12</td>\n      <td>GEN ED</td>\n      <td>MATH</td>\n      <td>Integrated Algebra</td>\n      <td>-</td>\n      <td>53.0</td>\n      <td>3.0</td>\n      <td>17.7</td>\n      <td>16.0</td>\n      <td>21.0</td>\n      <td>STARS</td>\n      <td>NaN</td>\n      <td>01</td>\n      <td>01M292</td>\n    </tr>\n  </tbody>\n</table>\n</div>"
     },
     "metadata": {},
     "execution_count": 10
    }
   ],
   "source": [
    "# Filtering class_size's DBN column - filtering columns that have created duplicated DBN values.\n",
    "class_size = data[\"class_size\"]\n",
    "class_size = class_size[class_size['GRADE '] == '09-12']\n",
    "class_size = class_size[class_size['PROGRAM TYPE'] == 'GEN ED']\n",
    "class_size.head()"
   ]
  },
  {
   "cell_type": "code",
   "execution_count": 11,
   "metadata": {},
   "outputs": [
    {
     "output_type": "execute_result",
     "data": {
      "text/plain": [
       "      DBN  CSD  NUMBER OF STUDENTS / SEATS FILLED  NUMBER OF SECTIONS  \\\n",
       "0  01M292    1                            88.0000            4.000000   \n",
       "1  01M332    1                            46.0000            2.000000   \n",
       "2  01M378    1                            33.0000            1.000000   \n",
       "3  01M448    1                           105.6875            4.750000   \n",
       "4  01M450    1                            57.6000            2.733333   \n",
       "\n",
       "   AVERAGE CLASS SIZE  SIZE OF SMALLEST CLASS  SIZE OF LARGEST CLASS  \\\n",
       "0           22.564286                   18.50              26.571429   \n",
       "1           22.000000                   21.00              23.500000   \n",
       "2           33.000000                   33.00              33.000000   \n",
       "3           22.231250                   18.25              27.062500   \n",
       "4           21.200000                   19.40              22.866667   \n",
       "\n",
       "   SCHOOLWIDE PUPIL-TEACHER RATIO  \n",
       "0                             NaN  \n",
       "1                             NaN  \n",
       "2                             NaN  \n",
       "3                             NaN  \n",
       "4                             NaN  "
      ],
      "text/html": "<div>\n<style scoped>\n    .dataframe tbody tr th:only-of-type {\n        vertical-align: middle;\n    }\n\n    .dataframe tbody tr th {\n        vertical-align: top;\n    }\n\n    .dataframe thead th {\n        text-align: right;\n    }\n</style>\n<table border=\"1\" class=\"dataframe\">\n  <thead>\n    <tr style=\"text-align: right;\">\n      <th></th>\n      <th>DBN</th>\n      <th>CSD</th>\n      <th>NUMBER OF STUDENTS / SEATS FILLED</th>\n      <th>NUMBER OF SECTIONS</th>\n      <th>AVERAGE CLASS SIZE</th>\n      <th>SIZE OF SMALLEST CLASS</th>\n      <th>SIZE OF LARGEST CLASS</th>\n      <th>SCHOOLWIDE PUPIL-TEACHER RATIO</th>\n    </tr>\n  </thead>\n  <tbody>\n    <tr>\n      <th>0</th>\n      <td>01M292</td>\n      <td>1</td>\n      <td>88.0000</td>\n      <td>4.000000</td>\n      <td>22.564286</td>\n      <td>18.50</td>\n      <td>26.571429</td>\n      <td>NaN</td>\n    </tr>\n    <tr>\n      <th>1</th>\n      <td>01M332</td>\n      <td>1</td>\n      <td>46.0000</td>\n      <td>2.000000</td>\n      <td>22.000000</td>\n      <td>21.00</td>\n      <td>23.500000</td>\n      <td>NaN</td>\n    </tr>\n    <tr>\n      <th>2</th>\n      <td>01M378</td>\n      <td>1</td>\n      <td>33.0000</td>\n      <td>1.000000</td>\n      <td>33.000000</td>\n      <td>33.00</td>\n      <td>33.000000</td>\n      <td>NaN</td>\n    </tr>\n    <tr>\n      <th>3</th>\n      <td>01M448</td>\n      <td>1</td>\n      <td>105.6875</td>\n      <td>4.750000</td>\n      <td>22.231250</td>\n      <td>18.25</td>\n      <td>27.062500</td>\n      <td>NaN</td>\n    </tr>\n    <tr>\n      <th>4</th>\n      <td>01M450</td>\n      <td>1</td>\n      <td>57.6000</td>\n      <td>2.733333</td>\n      <td>21.200000</td>\n      <td>19.40</td>\n      <td>22.866667</td>\n      <td>NaN</td>\n    </tr>\n  </tbody>\n</table>\n</div>"
     },
     "metadata": {},
     "execution_count": 11
    }
   ],
   "source": [
    "import numpy\n",
    "# Filter the last column and reassigning the modified class_size dataframe to our data dictionary.\n",
    "class_size = class_size.groupby('DBN').agg(numpy.mean)\n",
    "class_size.reset_index(inplace=True)\n",
    "data['class_size'] = class_size\n",
    "data[\"class_size\"].head()"
   ]
  },
  {
   "source": [
    "### Filtering Demographics\n",
    "\n",
    "Now we need to filter the demographics column to just the unique DBN's"
   ],
   "cell_type": "markdown",
   "metadata": {}
  },
  {
   "cell_type": "code",
   "execution_count": 12,
   "metadata": {},
   "outputs": [
    {
     "output_type": "execute_result",
     "data": {
      "text/plain": [
       "       DBN                                              Name  schoolyear  \\\n",
       "6   01M015  P.S. 015 ROBERTO CLEMENTE                           20112012   \n",
       "13  01M019  P.S. 019 ASHER LEVY                                 20112012   \n",
       "20  01M020  PS 020 ANNA SILVER                                  20112012   \n",
       "27  01M034  PS 034 FRANKLIN D ROOSEVELT                         20112012   \n",
       "35  01M063  PS 063 WILLIAM MCKINLEY                             20112012   \n",
       "\n",
       "   fl_percent  frl_percent  total_enrollment prek    k grade1 grade2  ...  \\\n",
       "6         NaN         89.4               189   13   31     35     28  ...   \n",
       "13        NaN         61.5               328   32   46     52     54  ...   \n",
       "20        NaN         92.5               626   52  102    121     87  ...   \n",
       "27        NaN         99.7               401   14   34     38     36  ...   \n",
       "35        NaN         78.9               176   18   20     30     21  ...   \n",
       "\n",
       "   black_num black_per hispanic_num hispanic_per white_num white_per male_num  \\\n",
       "6         63      33.3          109         57.7         4       2.1     97.0   \n",
       "13        81      24.7          158         48.2        28       8.5    147.0   \n",
       "20        55       8.8          357         57.0        16       2.6    330.0   \n",
       "27        90      22.4          275         68.6         8       2.0    204.0   \n",
       "35        41      23.3          110         62.5        15       8.5     97.0   \n",
       "\n",
       "   male_per female_num female_per  \n",
       "6      51.3       92.0       48.7  \n",
       "13     44.8      181.0       55.2  \n",
       "20     52.7      296.0       47.3  \n",
       "27     50.9      197.0       49.1  \n",
       "35     55.1       79.0       44.9  \n",
       "\n",
       "[5 rows x 38 columns]"
      ],
      "text/html": "<div>\n<style scoped>\n    .dataframe tbody tr th:only-of-type {\n        vertical-align: middle;\n    }\n\n    .dataframe tbody tr th {\n        vertical-align: top;\n    }\n\n    .dataframe thead th {\n        text-align: right;\n    }\n</style>\n<table border=\"1\" class=\"dataframe\">\n  <thead>\n    <tr style=\"text-align: right;\">\n      <th></th>\n      <th>DBN</th>\n      <th>Name</th>\n      <th>schoolyear</th>\n      <th>fl_percent</th>\n      <th>frl_percent</th>\n      <th>total_enrollment</th>\n      <th>prek</th>\n      <th>k</th>\n      <th>grade1</th>\n      <th>grade2</th>\n      <th>...</th>\n      <th>black_num</th>\n      <th>black_per</th>\n      <th>hispanic_num</th>\n      <th>hispanic_per</th>\n      <th>white_num</th>\n      <th>white_per</th>\n      <th>male_num</th>\n      <th>male_per</th>\n      <th>female_num</th>\n      <th>female_per</th>\n    </tr>\n  </thead>\n  <tbody>\n    <tr>\n      <th>6</th>\n      <td>01M015</td>\n      <td>P.S. 015 ROBERTO CLEMENTE</td>\n      <td>20112012</td>\n      <td>NaN</td>\n      <td>89.4</td>\n      <td>189</td>\n      <td>13</td>\n      <td>31</td>\n      <td>35</td>\n      <td>28</td>\n      <td>...</td>\n      <td>63</td>\n      <td>33.3</td>\n      <td>109</td>\n      <td>57.7</td>\n      <td>4</td>\n      <td>2.1</td>\n      <td>97.0</td>\n      <td>51.3</td>\n      <td>92.0</td>\n      <td>48.7</td>\n    </tr>\n    <tr>\n      <th>13</th>\n      <td>01M019</td>\n      <td>P.S. 019 ASHER LEVY</td>\n      <td>20112012</td>\n      <td>NaN</td>\n      <td>61.5</td>\n      <td>328</td>\n      <td>32</td>\n      <td>46</td>\n      <td>52</td>\n      <td>54</td>\n      <td>...</td>\n      <td>81</td>\n      <td>24.7</td>\n      <td>158</td>\n      <td>48.2</td>\n      <td>28</td>\n      <td>8.5</td>\n      <td>147.0</td>\n      <td>44.8</td>\n      <td>181.0</td>\n      <td>55.2</td>\n    </tr>\n    <tr>\n      <th>20</th>\n      <td>01M020</td>\n      <td>PS 020 ANNA SILVER</td>\n      <td>20112012</td>\n      <td>NaN</td>\n      <td>92.5</td>\n      <td>626</td>\n      <td>52</td>\n      <td>102</td>\n      <td>121</td>\n      <td>87</td>\n      <td>...</td>\n      <td>55</td>\n      <td>8.8</td>\n      <td>357</td>\n      <td>57.0</td>\n      <td>16</td>\n      <td>2.6</td>\n      <td>330.0</td>\n      <td>52.7</td>\n      <td>296.0</td>\n      <td>47.3</td>\n    </tr>\n    <tr>\n      <th>27</th>\n      <td>01M034</td>\n      <td>PS 034 FRANKLIN D ROOSEVELT</td>\n      <td>20112012</td>\n      <td>NaN</td>\n      <td>99.7</td>\n      <td>401</td>\n      <td>14</td>\n      <td>34</td>\n      <td>38</td>\n      <td>36</td>\n      <td>...</td>\n      <td>90</td>\n      <td>22.4</td>\n      <td>275</td>\n      <td>68.6</td>\n      <td>8</td>\n      <td>2.0</td>\n      <td>204.0</td>\n      <td>50.9</td>\n      <td>197.0</td>\n      <td>49.1</td>\n    </tr>\n    <tr>\n      <th>35</th>\n      <td>01M063</td>\n      <td>PS 063 WILLIAM MCKINLEY</td>\n      <td>20112012</td>\n      <td>NaN</td>\n      <td>78.9</td>\n      <td>176</td>\n      <td>18</td>\n      <td>20</td>\n      <td>30</td>\n      <td>21</td>\n      <td>...</td>\n      <td>41</td>\n      <td>23.3</td>\n      <td>110</td>\n      <td>62.5</td>\n      <td>15</td>\n      <td>8.5</td>\n      <td>97.0</td>\n      <td>55.1</td>\n      <td>79.0</td>\n      <td>44.9</td>\n    </tr>\n  </tbody>\n</table>\n<p>5 rows × 38 columns</p>\n</div>"
     },
     "metadata": {},
     "execution_count": 12
    }
   ],
   "source": [
    "# Reassigining the demographics DataFrame\n",
    "demographics = data['demographics']\n",
    "# Filtering the demographics DataFrame\n",
    "demographics = demographics[demographics['schoolyear'] == 20112012]\n",
    "# Assigning the DataFrame back to the data dictionary\n",
    "data['demographics'] = demographics\n",
    "data['demographics'].head()"
   ]
  },
  {
   "cell_type": "code",
   "execution_count": 13,
   "metadata": {},
   "outputs": [
    {
     "output_type": "execute_result",
     "data": {
      "text/plain": [
       "     Demographic     DBN                            School Name Cohort  \\\n",
       "3   Total Cohort  01M292  HENRY STREET SCHOOL FOR INTERNATIONAL   2006   \n",
       "10  Total Cohort  01M448    UNIVERSITY NEIGHBORHOOD HIGH SCHOOL   2006   \n",
       "17  Total Cohort  01M450             EAST SIDE COMMUNITY SCHOOL   2006   \n",
       "24  Total Cohort  01M509                MARTA VALLE HIGH SCHOOL   2006   \n",
       "31  Total Cohort  01M515  LOWER EAST SIDE PREPARATORY HIGH SCHO   2006   \n",
       "\n",
       "    Total Cohort Total Grads - n  Total Grads - % of cohort Total Regents - n  \\\n",
       "3             78              43                       55.1                36   \n",
       "10           124              53                       42.7                42   \n",
       "17            90              70                       77.8                67   \n",
       "24            84              47                       56.0                40   \n",
       "31           193             105                       54.4                91   \n",
       "\n",
       "    Total Regents - % of cohort  Total Regents - % of grads  ...  \\\n",
       "3                          46.2                        83.7  ...   \n",
       "10                         33.9                        79.2  ...   \n",
       "17                         74.4                        95.7  ...   \n",
       "24                         47.6                        85.1  ...   \n",
       "31                         47.2                        86.7  ...   \n",
       "\n",
       "   Regents w/o Advanced - n  Regents w/o Advanced - % of cohort  \\\n",
       "3                        36                                46.2   \n",
       "10                       34                                27.4   \n",
       "17                       67                                74.4   \n",
       "24                       23                                27.4   \n",
       "31                       22                                11.4   \n",
       "\n",
       "    Regents w/o Advanced - % of grads Local - n  Local - % of cohort  \\\n",
       "3                                83.7         7                  9.0   \n",
       "10                               64.2        11                  8.9   \n",
       "17                               95.7         3                  3.3   \n",
       "24                               48.9         7                  8.3   \n",
       "31                               21.0        14                  7.3   \n",
       "\n",
       "    Local - % of grads Still Enrolled - n  Still Enrolled - % of cohort  \\\n",
       "3                 16.3                 16                          20.5   \n",
       "10                20.8                 46                          37.1   \n",
       "17                 4.3                 15                          16.7   \n",
       "24                14.9                 25                          29.8   \n",
       "31                13.3                 53                          27.5   \n",
       "\n",
       "    Dropped Out - n Dropped Out - % of cohort  \n",
       "3                11                      14.1  \n",
       "10               20                      16.1  \n",
       "17                5                       5.6  \n",
       "24                5                       6.0  \n",
       "31               35                      18.1  \n",
       "\n",
       "[5 rows x 23 columns]"
      ],
      "text/html": "<div>\n<style scoped>\n    .dataframe tbody tr th:only-of-type {\n        vertical-align: middle;\n    }\n\n    .dataframe tbody tr th {\n        vertical-align: top;\n    }\n\n    .dataframe thead th {\n        text-align: right;\n    }\n</style>\n<table border=\"1\" class=\"dataframe\">\n  <thead>\n    <tr style=\"text-align: right;\">\n      <th></th>\n      <th>Demographic</th>\n      <th>DBN</th>\n      <th>School Name</th>\n      <th>Cohort</th>\n      <th>Total Cohort</th>\n      <th>Total Grads - n</th>\n      <th>Total Grads - % of cohort</th>\n      <th>Total Regents - n</th>\n      <th>Total Regents - % of cohort</th>\n      <th>Total Regents - % of grads</th>\n      <th>...</th>\n      <th>Regents w/o Advanced - n</th>\n      <th>Regents w/o Advanced - % of cohort</th>\n      <th>Regents w/o Advanced - % of grads</th>\n      <th>Local - n</th>\n      <th>Local - % of cohort</th>\n      <th>Local - % of grads</th>\n      <th>Still Enrolled - n</th>\n      <th>Still Enrolled - % of cohort</th>\n      <th>Dropped Out - n</th>\n      <th>Dropped Out - % of cohort</th>\n    </tr>\n  </thead>\n  <tbody>\n    <tr>\n      <th>3</th>\n      <td>Total Cohort</td>\n      <td>01M292</td>\n      <td>HENRY STREET SCHOOL FOR INTERNATIONAL</td>\n      <td>2006</td>\n      <td>78</td>\n      <td>43</td>\n      <td>55.1</td>\n      <td>36</td>\n      <td>46.2</td>\n      <td>83.7</td>\n      <td>...</td>\n      <td>36</td>\n      <td>46.2</td>\n      <td>83.7</td>\n      <td>7</td>\n      <td>9.0</td>\n      <td>16.3</td>\n      <td>16</td>\n      <td>20.5</td>\n      <td>11</td>\n      <td>14.1</td>\n    </tr>\n    <tr>\n      <th>10</th>\n      <td>Total Cohort</td>\n      <td>01M448</td>\n      <td>UNIVERSITY NEIGHBORHOOD HIGH SCHOOL</td>\n      <td>2006</td>\n      <td>124</td>\n      <td>53</td>\n      <td>42.7</td>\n      <td>42</td>\n      <td>33.9</td>\n      <td>79.2</td>\n      <td>...</td>\n      <td>34</td>\n      <td>27.4</td>\n      <td>64.2</td>\n      <td>11</td>\n      <td>8.9</td>\n      <td>20.8</td>\n      <td>46</td>\n      <td>37.1</td>\n      <td>20</td>\n      <td>16.1</td>\n    </tr>\n    <tr>\n      <th>17</th>\n      <td>Total Cohort</td>\n      <td>01M450</td>\n      <td>EAST SIDE COMMUNITY SCHOOL</td>\n      <td>2006</td>\n      <td>90</td>\n      <td>70</td>\n      <td>77.8</td>\n      <td>67</td>\n      <td>74.4</td>\n      <td>95.7</td>\n      <td>...</td>\n      <td>67</td>\n      <td>74.4</td>\n      <td>95.7</td>\n      <td>3</td>\n      <td>3.3</td>\n      <td>4.3</td>\n      <td>15</td>\n      <td>16.7</td>\n      <td>5</td>\n      <td>5.6</td>\n    </tr>\n    <tr>\n      <th>24</th>\n      <td>Total Cohort</td>\n      <td>01M509</td>\n      <td>MARTA VALLE HIGH SCHOOL</td>\n      <td>2006</td>\n      <td>84</td>\n      <td>47</td>\n      <td>56.0</td>\n      <td>40</td>\n      <td>47.6</td>\n      <td>85.1</td>\n      <td>...</td>\n      <td>23</td>\n      <td>27.4</td>\n      <td>48.9</td>\n      <td>7</td>\n      <td>8.3</td>\n      <td>14.9</td>\n      <td>25</td>\n      <td>29.8</td>\n      <td>5</td>\n      <td>6.0</td>\n    </tr>\n    <tr>\n      <th>31</th>\n      <td>Total Cohort</td>\n      <td>01M515</td>\n      <td>LOWER EAST SIDE PREPARATORY HIGH SCHO</td>\n      <td>2006</td>\n      <td>193</td>\n      <td>105</td>\n      <td>54.4</td>\n      <td>91</td>\n      <td>47.2</td>\n      <td>86.7</td>\n      <td>...</td>\n      <td>22</td>\n      <td>11.4</td>\n      <td>21.0</td>\n      <td>14</td>\n      <td>7.3</td>\n      <td>13.3</td>\n      <td>53</td>\n      <td>27.5</td>\n      <td>35</td>\n      <td>18.1</td>\n    </tr>\n  </tbody>\n</table>\n<p>5 rows × 23 columns</p>\n</div>"
     },
     "metadata": {},
     "execution_count": 13
    }
   ],
   "source": [
    "# Filtering the graduation DataFrame and reassigning it back to the data dictionary\n",
    "graduation = data['graduation']\n",
    "graduation = graduation[graduation['Cohort'] == '2006']\n",
    "graduation = graduation[graduation['Demographic'] == 'Total Cohort']\n",
    "data['graduation'] = graduation\n",
    "data['graduation'].head()"
   ]
  },
  {
   "source": [
    "### Before Joining\n",
    "\n",
    "The last thing to do before we combine the datasets is to convert some values to integers in AP_2010."
   ],
   "cell_type": "markdown",
   "metadata": {}
  },
  {
   "cell_type": "code",
   "execution_count": 14,
   "metadata": {},
   "outputs": [
    {
     "output_type": "stream",
     "name": "stdout",
     "text": [
      "float64\nfloat64\nfloat64\n"
     ]
    }
   ],
   "source": [
    "cols = ['AP Test Takers ', 'Total Exams Taken', 'Number of Exams with scores 3 4 or 5']\n",
    "\n",
    "# Looping throught the column names we need to convert. \n",
    "for c in cols:\n",
    "    data['ap_2010'][c] =pd.to_numeric(data['ap_2010'][c], errors='coerce')\n",
    "    print(data['ap_2010'][c].dtype)"
   ]
  },
  {
   "source": [
    "# Combining Data Sets\n",
    "\n",
    "Now we will start combining the datasets. \n",
    "\n",
    "We will start by merging graduation and ap_2010 with sat_results. It's crucial we use a left join here as we want to make sure we keep as many rows of sat_results as possible. \n",
    "\n",
    "Finally we will combine the remaining datasets using inner joins. There are two reasons why we should use inner joins. \n",
    "\n",
    "1. **The information is essential**\n",
    "\n",
    "    a. If we are going to perform any kind of meaningful analysis, we can't lose rows that correspond to demographics. Inner joins will prevent this without flooding our dataset with null values. \n",
    "\n",
    "2. **The column DBN is relatively stable**\n",
    "\n",
    "    b. Most of the values match along the DBN column for the remaining datasets thus making it safe to use inner joins without the fear of losing too much data."
   ],
   "cell_type": "markdown",
   "metadata": {}
  },
  {
   "cell_type": "code",
   "execution_count": 15,
   "metadata": {},
   "outputs": [
    {
     "output_type": "stream",
     "name": "stdout",
     "text": [
      "      DBN                                    SCHOOL NAME  \\\n0  01M292  HENRY STREET SCHOOL FOR INTERNATIONAL STUDIES   \n1  01M448            UNIVERSITY NEIGHBORHOOD HIGH SCHOOL   \n2  01M450                     EAST SIDE COMMUNITY SCHOOL   \n3  01M458                      FORSYTH SATELLITE ACADEMY   \n4  01M509                        MARTA VALLE HIGH SCHOOL   \n\n  Num of SAT Test Takers  SAT Critical Reading Avg. Score  \\\n0                     29                            355.0   \n1                     91                            383.0   \n2                     70                            377.0   \n3                      7                            414.0   \n4                     44                            390.0   \n\n   SAT Math Avg. Score  SAT Writing Avg. Score  sat_score  \\\n0                404.0                   363.0     1122.0   \n1                423.0                   366.0     1172.0   \n2                402.0                   370.0     1149.0   \n3                401.0                   359.0     1174.0   \n4                433.0                   384.0     1207.0   \n\n                     SchoolName  AP Test Takers   Total Exams Taken  ...  \\\n0                           NaN              NaN                NaN  ...   \n1  UNIVERSITY NEIGHBORHOOD H.S.             39.0               49.0  ...   \n2        EAST SIDE COMMUNITY HS             19.0               21.0  ...   \n3                           NaN              NaN                NaN  ...   \n4                           NaN              NaN                NaN  ...   \n\n   Regents w/o Advanced - n Regents w/o Advanced - % of cohort  \\\n0                        36                               46.2   \n1                        34                               27.4   \n2                        67                               74.4   \n3                       NaN                                NaN   \n4                        23                               27.4   \n\n  Regents w/o Advanced - % of grads Local - n  Local - % of cohort  \\\n0                              83.7         7                  9.0   \n1                              64.2        11                  8.9   \n2                              95.7         3                  3.3   \n3                               NaN       NaN                  NaN   \n4                              48.9         7                  8.3   \n\n  Local - % of grads  Still Enrolled - n Still Enrolled - % of cohort  \\\n0               16.3                  16                         20.5   \n1               20.8                  46                         37.1   \n2                4.3                  15                         16.7   \n3                NaN                 NaN                          NaN   \n4               14.9                  25                         29.8   \n\n   Dropped Out - n  Dropped Out - % of cohort  \n0               11                       14.1  \n1               20                       16.1  \n2                5                        5.6  \n3              NaN                        NaN  \n4                5                        6.0  \n\n[5 rows x 33 columns]\n"
     ]
    },
    {
     "output_type": "execute_result",
     "data": {
      "text/plain": [
       "(479, 33)"
      ]
     },
     "metadata": {},
     "execution_count": 15
    }
   ],
   "source": [
    "# Reassigning the DataFrame\n",
    "combined = data[\"sat_results\"]\n",
    "# Joining two DataFrame's with a left join\n",
    "combined = combined.merge(data['ap_2010'], how='left', on='DBN')\n",
    "combined = combined.merge(data['graduation'], how='left', on='DBN')\n",
    "print(combined.head())\n",
    "combined.shape"
   ]
  },
  {
   "cell_type": "code",
   "execution_count": 16,
   "metadata": {},
   "outputs": [
    {
     "output_type": "stream",
     "name": "stdout",
     "text": [
      "(363, 165)\n"
     ]
    },
    {
     "output_type": "execute_result",
     "data": {
      "text/plain": [
       "      DBN                                        SCHOOL NAME  \\\n",
       "0  01M292      HENRY STREET SCHOOL FOR INTERNATIONAL STUDIES   \n",
       "1  01M448                UNIVERSITY NEIGHBORHOOD HIGH SCHOOL   \n",
       "2  01M450                         EAST SIDE COMMUNITY SCHOOL   \n",
       "3  01M509                            MARTA VALLE HIGH SCHOOL   \n",
       "4  01M539  NEW EXPLORATIONS INTO SCIENCE, TECHNOLOGY AND ...   \n",
       "\n",
       "  Num of SAT Test Takers  SAT Critical Reading Avg. Score  \\\n",
       "0                     29                            355.0   \n",
       "1                     91                            383.0   \n",
       "2                     70                            377.0   \n",
       "3                     44                            390.0   \n",
       "4                    159                            522.0   \n",
       "\n",
       "   SAT Math Avg. Score  SAT Writing Avg. Score  sat_score  \\\n",
       "0                404.0                   363.0     1122.0   \n",
       "1                423.0                   366.0     1172.0   \n",
       "2                402.0                   370.0     1149.0   \n",
       "3                433.0                   384.0     1207.0   \n",
       "4                574.0                   525.0     1621.0   \n",
       "\n",
       "                       SchoolName  AP Test Takers   Total Exams Taken  ...  \\\n",
       "0                             NaN              NaN                NaN  ...   \n",
       "1    UNIVERSITY NEIGHBORHOOD H.S.             39.0               49.0  ...   \n",
       "2          EAST SIDE COMMUNITY HS             19.0               21.0  ...   \n",
       "3                             NaN              NaN                NaN  ...   \n",
       "4  NEW EXPLORATIONS SCI,TECH,MATH            255.0              377.0  ...   \n",
       "\n",
       "   priority10                                         Location 1  \\\n",
       "0         NaN  220 Henry Street\\nNew York, NY 10002\\n(40.7137...   \n",
       "1         NaN  200 Monroe Street\\nNew York, NY 10002\\n(40.712...   \n",
       "2         NaN  420 East 12 Street\\nNew York, NY 10009\\n(40.72...   \n",
       "3         NaN  145 Stanton Street\\nNew York, NY 10002\\n(40.72...   \n",
       "4         NaN  111 Columbia Street\\nNew York, NY 10002\\n(40.7...   \n",
       "\n",
       "  Community Board Council District  Census Tract        BIN           BBL  \\\n",
       "0             3.0              1.0         201.0  1003223.0  1.002690e+09   \n",
       "1             3.0              1.0         202.0  1003214.0  1.002590e+09   \n",
       "2             3.0              2.0          34.0  1005974.0  1.004390e+09   \n",
       "3             3.0              1.0        3001.0  1004323.0  1.003540e+09   \n",
       "4             3.0              2.0        2201.0  1004070.0  1.003350e+09   \n",
       "\n",
       "                                                 NTA        lat        lon  \n",
       "0  Lower East Side                               ...  40.713764 -73.985260  \n",
       "1  Lower East Side                               ...  40.712332 -73.984797  \n",
       "2  East Village                                  ...  40.729783 -73.983041  \n",
       "3  Chinatown                                     ...  40.720569 -73.985673  \n",
       "4  Lower East Side                               ...  40.718725 -73.979426  \n",
       "\n",
       "[5 rows x 165 columns]"
      ],
      "text/html": "<div>\n<style scoped>\n    .dataframe tbody tr th:only-of-type {\n        vertical-align: middle;\n    }\n\n    .dataframe tbody tr th {\n        vertical-align: top;\n    }\n\n    .dataframe thead th {\n        text-align: right;\n    }\n</style>\n<table border=\"1\" class=\"dataframe\">\n  <thead>\n    <tr style=\"text-align: right;\">\n      <th></th>\n      <th>DBN</th>\n      <th>SCHOOL NAME</th>\n      <th>Num of SAT Test Takers</th>\n      <th>SAT Critical Reading Avg. Score</th>\n      <th>SAT Math Avg. Score</th>\n      <th>SAT Writing Avg. Score</th>\n      <th>sat_score</th>\n      <th>SchoolName</th>\n      <th>AP Test Takers</th>\n      <th>Total Exams Taken</th>\n      <th>...</th>\n      <th>priority10</th>\n      <th>Location 1</th>\n      <th>Community Board</th>\n      <th>Council District</th>\n      <th>Census Tract</th>\n      <th>BIN</th>\n      <th>BBL</th>\n      <th>NTA</th>\n      <th>lat</th>\n      <th>lon</th>\n    </tr>\n  </thead>\n  <tbody>\n    <tr>\n      <th>0</th>\n      <td>01M292</td>\n      <td>HENRY STREET SCHOOL FOR INTERNATIONAL STUDIES</td>\n      <td>29</td>\n      <td>355.0</td>\n      <td>404.0</td>\n      <td>363.0</td>\n      <td>1122.0</td>\n      <td>NaN</td>\n      <td>NaN</td>\n      <td>NaN</td>\n      <td>...</td>\n      <td>NaN</td>\n      <td>220 Henry Street\\nNew York, NY 10002\\n(40.7137...</td>\n      <td>3.0</td>\n      <td>1.0</td>\n      <td>201.0</td>\n      <td>1003223.0</td>\n      <td>1.002690e+09</td>\n      <td>Lower East Side                               ...</td>\n      <td>40.713764</td>\n      <td>-73.985260</td>\n    </tr>\n    <tr>\n      <th>1</th>\n      <td>01M448</td>\n      <td>UNIVERSITY NEIGHBORHOOD HIGH SCHOOL</td>\n      <td>91</td>\n      <td>383.0</td>\n      <td>423.0</td>\n      <td>366.0</td>\n      <td>1172.0</td>\n      <td>UNIVERSITY NEIGHBORHOOD H.S.</td>\n      <td>39.0</td>\n      <td>49.0</td>\n      <td>...</td>\n      <td>NaN</td>\n      <td>200 Monroe Street\\nNew York, NY 10002\\n(40.712...</td>\n      <td>3.0</td>\n      <td>1.0</td>\n      <td>202.0</td>\n      <td>1003214.0</td>\n      <td>1.002590e+09</td>\n      <td>Lower East Side                               ...</td>\n      <td>40.712332</td>\n      <td>-73.984797</td>\n    </tr>\n    <tr>\n      <th>2</th>\n      <td>01M450</td>\n      <td>EAST SIDE COMMUNITY SCHOOL</td>\n      <td>70</td>\n      <td>377.0</td>\n      <td>402.0</td>\n      <td>370.0</td>\n      <td>1149.0</td>\n      <td>EAST SIDE COMMUNITY HS</td>\n      <td>19.0</td>\n      <td>21.0</td>\n      <td>...</td>\n      <td>NaN</td>\n      <td>420 East 12 Street\\nNew York, NY 10009\\n(40.72...</td>\n      <td>3.0</td>\n      <td>2.0</td>\n      <td>34.0</td>\n      <td>1005974.0</td>\n      <td>1.004390e+09</td>\n      <td>East Village                                  ...</td>\n      <td>40.729783</td>\n      <td>-73.983041</td>\n    </tr>\n    <tr>\n      <th>3</th>\n      <td>01M509</td>\n      <td>MARTA VALLE HIGH SCHOOL</td>\n      <td>44</td>\n      <td>390.0</td>\n      <td>433.0</td>\n      <td>384.0</td>\n      <td>1207.0</td>\n      <td>NaN</td>\n      <td>NaN</td>\n      <td>NaN</td>\n      <td>...</td>\n      <td>NaN</td>\n      <td>145 Stanton Street\\nNew York, NY 10002\\n(40.72...</td>\n      <td>3.0</td>\n      <td>1.0</td>\n      <td>3001.0</td>\n      <td>1004323.0</td>\n      <td>1.003540e+09</td>\n      <td>Chinatown                                     ...</td>\n      <td>40.720569</td>\n      <td>-73.985673</td>\n    </tr>\n    <tr>\n      <th>4</th>\n      <td>01M539</td>\n      <td>NEW EXPLORATIONS INTO SCIENCE, TECHNOLOGY AND ...</td>\n      <td>159</td>\n      <td>522.0</td>\n      <td>574.0</td>\n      <td>525.0</td>\n      <td>1621.0</td>\n      <td>NEW EXPLORATIONS SCI,TECH,MATH</td>\n      <td>255.0</td>\n      <td>377.0</td>\n      <td>...</td>\n      <td>NaN</td>\n      <td>111 Columbia Street\\nNew York, NY 10002\\n(40.7...</td>\n      <td>3.0</td>\n      <td>2.0</td>\n      <td>2201.0</td>\n      <td>1004070.0</td>\n      <td>1.003350e+09</td>\n      <td>Lower East Side                               ...</td>\n      <td>40.718725</td>\n      <td>-73.979426</td>\n    </tr>\n  </tbody>\n</table>\n<p>5 rows × 165 columns</p>\n</div>"
     },
     "metadata": {},
     "execution_count": 16
    }
   ],
   "source": [
    "# Merging the DataFrame's using inner joins\n",
    "combined = combined.merge(data['class_size'], how='inner', on='DBN')\n",
    "combined = combined.merge(data['demographics'], how='inner', on='DBN')\n",
    "combined = combined.merge(data['survey'], how='inner', on='DBN')\n",
    "combined = combined.merge(data['hs_directory'], how='inner', on='DBN')\n",
    "\n",
    "print(combined.shape)\n",
    "combined.head()"
   ]
  },
  {
   "source": [
    "### Missing Values\n",
    "\n",
    "Some calculations can't deal with missing values. \n",
    "\n",
    "In order to correct this I will go ahead and fill in the missing values with the average of the column. \n",
    "\n",
    "Any column with no average we will replace the NaN value with a 0.\n",
    "\n",
    "#### **Note**\n",
    "*I realize this isn't necessarilly the best way to fill in null values however, due to necessity for speed and convenience it's the route that was decided. Despite this not being the best way to fill in null values, most of those columns will not be used in the analysis so ultimately it doesn't matter too much as to how we fill them in.*"
   ],
   "cell_type": "markdown",
   "metadata": {}
  },
  {
   "cell_type": "code",
   "execution_count": 17,
   "metadata": {},
   "outputs": [
    {
     "output_type": "execute_result",
     "data": {
      "text/plain": [
       "      DBN                                        SCHOOL NAME  \\\n",
       "0  01M292      HENRY STREET SCHOOL FOR INTERNATIONAL STUDIES   \n",
       "1  01M448                UNIVERSITY NEIGHBORHOOD HIGH SCHOOL   \n",
       "2  01M450                         EAST SIDE COMMUNITY SCHOOL   \n",
       "3  01M509                            MARTA VALLE HIGH SCHOOL   \n",
       "4  01M539  NEW EXPLORATIONS INTO SCIENCE, TECHNOLOGY AND ...   \n",
       "\n",
       "  Num of SAT Test Takers  SAT Critical Reading Avg. Score  \\\n",
       "0                     29                            355.0   \n",
       "1                     91                            383.0   \n",
       "2                     70                            377.0   \n",
       "3                     44                            390.0   \n",
       "4                    159                            522.0   \n",
       "\n",
       "   SAT Math Avg. Score  SAT Writing Avg. Score  sat_score  \\\n",
       "0                404.0                   363.0     1122.0   \n",
       "1                423.0                   366.0     1172.0   \n",
       "2                402.0                   370.0     1149.0   \n",
       "3                433.0                   384.0     1207.0   \n",
       "4                574.0                   525.0     1621.0   \n",
       "\n",
       "                       SchoolName  AP Test Takers   Total Exams Taken  ...  \\\n",
       "0                               0       129.028846         197.038462  ...   \n",
       "1    UNIVERSITY NEIGHBORHOOD H.S.        39.000000          49.000000  ...   \n",
       "2          EAST SIDE COMMUNITY HS        19.000000          21.000000  ...   \n",
       "3                               0       129.028846         197.038462  ...   \n",
       "4  NEW EXPLORATIONS SCI,TECH,MATH       255.000000         377.000000  ...   \n",
       "\n",
       "   priority10                                         Location 1  \\\n",
       "0         0.0  220 Henry Street\\nNew York, NY 10002\\n(40.7137...   \n",
       "1         0.0  200 Monroe Street\\nNew York, NY 10002\\n(40.712...   \n",
       "2         0.0  420 East 12 Street\\nNew York, NY 10009\\n(40.72...   \n",
       "3         0.0  145 Stanton Street\\nNew York, NY 10002\\n(40.72...   \n",
       "4         0.0  111 Columbia Street\\nNew York, NY 10002\\n(40.7...   \n",
       "\n",
       "  Community Board Council District  Census Tract        BIN           BBL  \\\n",
       "0             3.0              1.0         201.0  1003223.0  1.002690e+09   \n",
       "1             3.0              1.0         202.0  1003214.0  1.002590e+09   \n",
       "2             3.0              2.0          34.0  1005974.0  1.004390e+09   \n",
       "3             3.0              1.0        3001.0  1004323.0  1.003540e+09   \n",
       "4             3.0              2.0        2201.0  1004070.0  1.003350e+09   \n",
       "\n",
       "                                                 NTA        lat        lon  \n",
       "0  Lower East Side                               ...  40.713764 -73.985260  \n",
       "1  Lower East Side                               ...  40.712332 -73.984797  \n",
       "2  East Village                                  ...  40.729783 -73.983041  \n",
       "3  Chinatown                                     ...  40.720569 -73.985673  \n",
       "4  Lower East Side                               ...  40.718725 -73.979426  \n",
       "\n",
       "[5 rows x 165 columns]"
      ],
      "text/html": "<div>\n<style scoped>\n    .dataframe tbody tr th:only-of-type {\n        vertical-align: middle;\n    }\n\n    .dataframe tbody tr th {\n        vertical-align: top;\n    }\n\n    .dataframe thead th {\n        text-align: right;\n    }\n</style>\n<table border=\"1\" class=\"dataframe\">\n  <thead>\n    <tr style=\"text-align: right;\">\n      <th></th>\n      <th>DBN</th>\n      <th>SCHOOL NAME</th>\n      <th>Num of SAT Test Takers</th>\n      <th>SAT Critical Reading Avg. Score</th>\n      <th>SAT Math Avg. Score</th>\n      <th>SAT Writing Avg. Score</th>\n      <th>sat_score</th>\n      <th>SchoolName</th>\n      <th>AP Test Takers</th>\n      <th>Total Exams Taken</th>\n      <th>...</th>\n      <th>priority10</th>\n      <th>Location 1</th>\n      <th>Community Board</th>\n      <th>Council District</th>\n      <th>Census Tract</th>\n      <th>BIN</th>\n      <th>BBL</th>\n      <th>NTA</th>\n      <th>lat</th>\n      <th>lon</th>\n    </tr>\n  </thead>\n  <tbody>\n    <tr>\n      <th>0</th>\n      <td>01M292</td>\n      <td>HENRY STREET SCHOOL FOR INTERNATIONAL STUDIES</td>\n      <td>29</td>\n      <td>355.0</td>\n      <td>404.0</td>\n      <td>363.0</td>\n      <td>1122.0</td>\n      <td>0</td>\n      <td>129.028846</td>\n      <td>197.038462</td>\n      <td>...</td>\n      <td>0.0</td>\n      <td>220 Henry Street\\nNew York, NY 10002\\n(40.7137...</td>\n      <td>3.0</td>\n      <td>1.0</td>\n      <td>201.0</td>\n      <td>1003223.0</td>\n      <td>1.002690e+09</td>\n      <td>Lower East Side                               ...</td>\n      <td>40.713764</td>\n      <td>-73.985260</td>\n    </tr>\n    <tr>\n      <th>1</th>\n      <td>01M448</td>\n      <td>UNIVERSITY NEIGHBORHOOD HIGH SCHOOL</td>\n      <td>91</td>\n      <td>383.0</td>\n      <td>423.0</td>\n      <td>366.0</td>\n      <td>1172.0</td>\n      <td>UNIVERSITY NEIGHBORHOOD H.S.</td>\n      <td>39.000000</td>\n      <td>49.000000</td>\n      <td>...</td>\n      <td>0.0</td>\n      <td>200 Monroe Street\\nNew York, NY 10002\\n(40.712...</td>\n      <td>3.0</td>\n      <td>1.0</td>\n      <td>202.0</td>\n      <td>1003214.0</td>\n      <td>1.002590e+09</td>\n      <td>Lower East Side                               ...</td>\n      <td>40.712332</td>\n      <td>-73.984797</td>\n    </tr>\n    <tr>\n      <th>2</th>\n      <td>01M450</td>\n      <td>EAST SIDE COMMUNITY SCHOOL</td>\n      <td>70</td>\n      <td>377.0</td>\n      <td>402.0</td>\n      <td>370.0</td>\n      <td>1149.0</td>\n      <td>EAST SIDE COMMUNITY HS</td>\n      <td>19.000000</td>\n      <td>21.000000</td>\n      <td>...</td>\n      <td>0.0</td>\n      <td>420 East 12 Street\\nNew York, NY 10009\\n(40.72...</td>\n      <td>3.0</td>\n      <td>2.0</td>\n      <td>34.0</td>\n      <td>1005974.0</td>\n      <td>1.004390e+09</td>\n      <td>East Village                                  ...</td>\n      <td>40.729783</td>\n      <td>-73.983041</td>\n    </tr>\n    <tr>\n      <th>3</th>\n      <td>01M509</td>\n      <td>MARTA VALLE HIGH SCHOOL</td>\n      <td>44</td>\n      <td>390.0</td>\n      <td>433.0</td>\n      <td>384.0</td>\n      <td>1207.0</td>\n      <td>0</td>\n      <td>129.028846</td>\n      <td>197.038462</td>\n      <td>...</td>\n      <td>0.0</td>\n      <td>145 Stanton Street\\nNew York, NY 10002\\n(40.72...</td>\n      <td>3.0</td>\n      <td>1.0</td>\n      <td>3001.0</td>\n      <td>1004323.0</td>\n      <td>1.003540e+09</td>\n      <td>Chinatown                                     ...</td>\n      <td>40.720569</td>\n      <td>-73.985673</td>\n    </tr>\n    <tr>\n      <th>4</th>\n      <td>01M539</td>\n      <td>NEW EXPLORATIONS INTO SCIENCE, TECHNOLOGY AND ...</td>\n      <td>159</td>\n      <td>522.0</td>\n      <td>574.0</td>\n      <td>525.0</td>\n      <td>1621.0</td>\n      <td>NEW EXPLORATIONS SCI,TECH,MATH</td>\n      <td>255.000000</td>\n      <td>377.000000</td>\n      <td>...</td>\n      <td>0.0</td>\n      <td>111 Columbia Street\\nNew York, NY 10002\\n(40.7...</td>\n      <td>3.0</td>\n      <td>2.0</td>\n      <td>2201.0</td>\n      <td>1004070.0</td>\n      <td>1.003350e+09</td>\n      <td>Lower East Side                               ...</td>\n      <td>40.718725</td>\n      <td>-73.979426</td>\n    </tr>\n  </tbody>\n</table>\n<p>5 rows × 165 columns</p>\n</div>"
     },
     "metadata": {},
     "execution_count": 17
    }
   ],
   "source": [
    "combined = combined.fillna(combined.mean())\n",
    "combined = combined.fillna(0)\n",
    "combined.head()"
   ]
  },
  {
   "source": [
    "# Data Analysis\n",
    "\n",
    "We are almost ready to start the data analysis process.  \n",
    "\n",
    "In these next few cells I will be manipulating the data and creating some new columns to work with as well as starting the process of statistical analysis. "
   ],
   "cell_type": "markdown",
   "metadata": {}
  },
  {
   "cell_type": "code",
   "execution_count": 18,
   "metadata": {},
   "outputs": [
    {
     "output_type": "execute_result",
     "data": {
      "text/plain": [
       "0    01\n",
       "1    01\n",
       "2    01\n",
       "3    01\n",
       "4    01\n",
       "Name: school_dist, dtype: object"
      ]
     },
     "metadata": {},
     "execution_count": 18
    }
   ],
   "source": [
    "def first_two(char):\n",
    "    string = char[0:2]\n",
    "    return string\n",
    "\n",
    "# Created a new column so I can aggregate the data by school district.\n",
    "combined['school_dist'] = combined['DBN'].apply(first_two)\n",
    "combined['school_dist'].head()"
   ]
  },
  {
   "source": [
    "## Correlations\n",
    "\n",
    "Here I take a look at a variety of correlations between the varaible SAT scores and all other factors."
   ],
   "cell_type": "markdown",
   "metadata": {}
  },
  {
   "cell_type": "code",
   "execution_count": 20,
   "metadata": {},
   "outputs": [],
   "source": [
    "correlations = combined.corr()['sat_score']"
   ]
  },
  {
   "cell_type": "code",
   "execution_count": 21,
   "metadata": {},
   "outputs": [
    {
     "output_type": "execute_result",
     "data": {
      "text/plain": [
       "<AxesSubplot:xlabel='total_enrollment', ylabel='sat_score'>"
      ]
     },
     "metadata": {},
     "execution_count": 21
    },
    {
     "output_type": "display_data",
     "data": {
      "text/plain": "<Figure size 432x288 with 1 Axes>",
      "image/svg+xml": "<?xml version=\"1.0\" encoding=\"utf-8\" standalone=\"no\"?>\r\n<!DOCTYPE svg PUBLIC \"-//W3C//DTD SVG 1.1//EN\"\r\n  \"http://www.w3.org/Graphics/SVG/1.1/DTD/svg11.dtd\">\r\n<!-- Created with matplotlib (https://matplotlib.org/) -->\r\n<svg height=\"262.474375pt\" version=\"1.1\" viewBox=\"0 0 395.328125 262.474375\" width=\"395.328125pt\" xmlns=\"http://www.w3.org/2000/svg\" xmlns:xlink=\"http://www.w3.org/1999/xlink\">\r\n <metadata>\r\n  <rdf:RDF xmlns:cc=\"http://creativecommons.org/ns#\" xmlns:dc=\"http://purl.org/dc/elements/1.1/\" xmlns:rdf=\"http://www.w3.org/1999/02/22-rdf-syntax-ns#\">\r\n   <cc:Work>\r\n    <dc:type rdf:resource=\"http://purl.org/dc/dcmitype/StillImage\"/>\r\n    <dc:date>2021-02-24T09:36:14.212854</dc:date>\r\n    <dc:format>image/svg+xml</dc:format>\r\n    <dc:creator>\r\n     <cc:Agent>\r\n      <dc:title>Matplotlib v3.3.3, https://matplotlib.org/</dc:title>\r\n     </cc:Agent>\r\n    </dc:creator>\r\n   </cc:Work>\r\n  </rdf:RDF>\r\n </metadata>\r\n <defs>\r\n  <style type=\"text/css\">*{stroke-linecap:butt;stroke-linejoin:round;}</style>\r\n </defs>\r\n <g id=\"figure_1\">\r\n  <g id=\"patch_1\">\r\n   <path d=\"M 0 262.474375 \r\nL 395.328125 262.474375 \r\nL 395.328125 0 \r\nL 0 0 \r\nz\r\n\" style=\"fill:none;\"/>\r\n  </g>\r\n  <g id=\"axes_1\">\r\n   <g id=\"patch_2\">\r\n    <path d=\"M 53.328125 224.64 \r\nL 388.128125 224.64 \r\nL 388.128125 7.2 \r\nL 53.328125 7.2 \r\nz\r\n\" style=\"fill:#ffffff;\"/>\r\n   </g>\r\n   <g id=\"PathCollection_1\">\r\n    <defs>\r\n     <path d=\"M 0 2.236068 \r\nC 0.593012 2.236068 1.161816 2.000462 1.581139 1.581139 \r\nC 2.000462 1.161816 2.236068 0.593012 2.236068 0 \r\nC 2.236068 -0.593012 2.000462 -1.161816 1.581139 -1.581139 \r\nC 1.161816 -2.000462 0.593012 -2.236068 0 -2.236068 \r\nC -0.593012 -2.236068 -1.161816 -2.000462 -1.581139 -1.581139 \r\nC -2.000462 -1.161816 -2.236068 -0.593012 -2.236068 0 \r\nC -2.236068 0.593012 -2.000462 1.161816 -1.581139 1.581139 \r\nC -1.161816 2.000462 -0.593012 2.236068 0 2.236068 \r\nz\r\n\" id=\"m32b71cd776\" style=\"stroke:#1f77b4;\"/>\r\n    </defs>\r\n    <g clip-path=\"url(#p4348332f5f)\">\r\n     <use style=\"fill:#1f77b4;stroke:#1f77b4;\" x=\"85.022165\" xlink:href=\"#m32b71cd776\" y=\"176.333625\"/>\r\n     <use style=\"fill:#1f77b4;stroke:#1f77b4;\" x=\"83.380443\" xlink:href=\"#m32b71cd776\" y=\"168.158574\"/>\r\n     <use style=\"fill:#1f77b4;stroke:#1f77b4;\" x=\"95.341564\" xlink:href=\"#m32b71cd776\" y=\"171.919098\"/>\r\n     <use style=\"fill:#1f77b4;stroke:#1f77b4;\" x=\"81.797353\" xlink:href=\"#m32b71cd776\" y=\"162.436039\"/>\r\n     <use style=\"fill:#1f77b4;stroke:#1f77b4;\" x=\"154.854007\" xlink:href=\"#m32b71cd776\" y=\"94.746619\"/>\r\n     <use style=\"fill:#1f77b4;stroke:#1f77b4;\" x=\"96.45559\" xlink:href=\"#m32b71cd776\" y=\"56.32388\"/>\r\n     <use style=\"fill:#1f77b4;stroke:#1f77b4;\" x=\"70.481194\" xlink:href=\"#m32b71cd776\" y=\"166.523564\"/>\r\n     <use style=\"fill:#1f77b4;stroke:#1f77b4;\" x=\"85.667128\" xlink:href=\"#m32b71cd776\" y=\"164.561552\"/>\r\n     <use style=\"fill:#1f77b4;stroke:#1f77b4;\" x=\"80.390162\" xlink:href=\"#m32b71cd776\" y=\"170.774591\"/>\r\n     <use style=\"fill:#1f77b4;stroke:#1f77b4;\" x=\"84.846267\" xlink:href=\"#m32b71cd776\" y=\"178.132136\"/>\r\n     <use style=\"fill:#1f77b4;stroke:#1f77b4;\" x=\"84.553102\" xlink:href=\"#m32b71cd776\" y=\"148.374952\"/>\r\n     <use style=\"fill:#1f77b4;stroke:#1f77b4;\" x=\"85.549862\" xlink:href=\"#m32b71cd776\" y=\"152.298976\"/>\r\n     <use style=\"fill:#1f77b4;stroke:#1f77b4;\" x=\"86.722521\" xlink:href=\"#m32b71cd776\" y=\"187.942197\"/>\r\n     <use style=\"fill:#1f77b4;stroke:#1f77b4;\" x=\"78.572541\" xlink:href=\"#m32b71cd776\" y=\"172.082599\"/>\r\n     <use style=\"fill:#1f77b4;stroke:#1f77b4;\" x=\"79.979732\" xlink:href=\"#m32b71cd776\" y=\"163.580546\"/>\r\n     <use style=\"fill:#1f77b4;stroke:#1f77b4;\" x=\"82.442316\" xlink:href=\"#m32b71cd776\" y=\"175.51612\"/>\r\n     <use style=\"fill:#1f77b4;stroke:#1f77b4;\" x=\"89.302371\" xlink:href=\"#m32b71cd776\" y=\"167.50457\"/>\r\n     <use style=\"fill:#1f77b4;stroke:#1f77b4;\" x=\"85.667128\" xlink:href=\"#m32b71cd776\" y=\"125.157807\"/>\r\n     <use style=\"fill:#1f77b4;stroke:#1f77b4;\" x=\"79.7452\" xlink:href=\"#m32b71cd776\" y=\"159.748277\"/>\r\n     <use style=\"fill:#1f77b4;stroke:#1f77b4;\" x=\"78.103477\" xlink:href=\"#m32b71cd776\" y=\"159.748277\"/>\r\n     <use style=\"fill:#1f77b4;stroke:#1f77b4;\" x=\"74.585501\" xlink:href=\"#m32b71cd776\" y=\"159.748277\"/>\r\n     <use style=\"fill:#1f77b4;stroke:#1f77b4;\" x=\"142.013391\" xlink:href=\"#m32b71cd776\" y=\"127.773824\"/>\r\n     <use style=\"fill:#1f77b4;stroke:#1f77b4;\" x=\"89.712801\" xlink:href=\"#m32b71cd776\" y=\"110.933219\"/>\r\n     <use style=\"fill:#1f77b4;stroke:#1f77b4;\" x=\"85.608495\" xlink:href=\"#m32b71cd776\" y=\"101.940663\"/>\r\n     <use style=\"fill:#1f77b4;stroke:#1f77b4;\" x=\"94.227538\" xlink:href=\"#m32b71cd776\" y=\"85.590562\"/>\r\n     <use style=\"fill:#1f77b4;stroke:#1f77b4;\" x=\"85.843027\" xlink:href=\"#m32b71cd776\" y=\"127.773824\"/>\r\n     <use style=\"fill:#1f77b4;stroke:#1f77b4;\" x=\"90.005966\" xlink:href=\"#m32b71cd776\" y=\"72.346979\"/>\r\n     <use style=\"fill:#1f77b4;stroke:#1f77b4;\" x=\"96.983287\" xlink:href=\"#m32b71cd776\" y=\"95.891126\"/>\r\n     <use style=\"fill:#1f77b4;stroke:#1f77b4;\" x=\"84.963532\" xlink:href=\"#m32b71cd776\" y=\"168.485576\"/>\r\n     <use style=\"fill:#1f77b4;stroke:#1f77b4;\" x=\"163.942114\" xlink:href=\"#m32b71cd776\" y=\"146.249438\"/>\r\n     <use style=\"fill:#1f77b4;stroke:#1f77b4;\" x=\"95.869261\" xlink:href=\"#m32b71cd776\" y=\"158.185012\"/>\r\n     <use style=\"fill:#1f77b4;stroke:#1f77b4;\" x=\"70.539827\" xlink:href=\"#m32b71cd776\" y=\"159.748277\"/>\r\n     <use style=\"fill:#1f77b4;stroke:#1f77b4;\" x=\"73.530107\" xlink:href=\"#m32b71cd776\" y=\"159.748277\"/>\r\n     <use style=\"fill:#1f77b4;stroke:#1f77b4;\" x=\"70.59846\" xlink:href=\"#m32b71cd776\" y=\"159.748277\"/>\r\n     <use style=\"fill:#1f77b4;stroke:#1f77b4;\" x=\"85.432596\" xlink:href=\"#m32b71cd776\" y=\"135.458371\"/>\r\n     <use style=\"fill:#1f77b4;stroke:#1f77b4;\" x=\"86.31209\" xlink:href=\"#m32b71cd776\" y=\"163.744047\"/>\r\n     <use style=\"fill:#1f77b4;stroke:#1f77b4;\" x=\"79.334769\" xlink:href=\"#m32b71cd776\" y=\"159.166018\"/>\r\n     <use style=\"fill:#1f77b4;stroke:#1f77b4;\" x=\"253.591893\" xlink:href=\"#m32b71cd776\" y=\"17.083636\"/>\r\n     <use style=\"fill:#1f77b4;stroke:#1f77b4;\" x=\"107.713117\" xlink:href=\"#m32b71cd776\" y=\"135.131369\"/>\r\n     <use style=\"fill:#1f77b4;stroke:#1f77b4;\" x=\"74.17507\" xlink:href=\"#m32b71cd776\" y=\"184.835678\"/>\r\n     <use style=\"fill:#1f77b4;stroke:#1f77b4;\" x=\"89.067839\" xlink:href=\"#m32b71cd776\" y=\"128.264327\"/>\r\n     <use style=\"fill:#1f77b4;stroke:#1f77b4;\" x=\"181.825164\" xlink:href=\"#m32b71cd776\" y=\"157.040505\"/>\r\n     <use style=\"fill:#1f77b4;stroke:#1f77b4;\" x=\"102.729316\" xlink:href=\"#m32b71cd776\" y=\"157.204006\"/>\r\n     <use style=\"fill:#1f77b4;stroke:#1f77b4;\" x=\"73.002411\" xlink:href=\"#m32b71cd776\" y=\"154.914992\"/>\r\n     <use style=\"fill:#1f77b4;stroke:#1f77b4;\" x=\"91.999486\" xlink:href=\"#m32b71cd776\" y=\"186.79769\"/>\r\n     <use style=\"fill:#1f77b4;stroke:#1f77b4;\" x=\"85.080798\" xlink:href=\"#m32b71cd776\" y=\"168.812578\"/>\r\n     <use style=\"fill:#1f77b4;stroke:#1f77b4;\" x=\"80.976492\" xlink:href=\"#m32b71cd776\" y=\"126.956319\"/>\r\n     <use style=\"fill:#1f77b4;stroke:#1f77b4;\" x=\"85.491229\" xlink:href=\"#m32b71cd776\" y=\"161.618534\"/>\r\n     <use style=\"fill:#1f77b4;stroke:#1f77b4;\" x=\"96.04516\" xlink:href=\"#m32b71cd776\" y=\"164.398051\"/>\r\n     <use style=\"fill:#1f77b4;stroke:#1f77b4;\" x=\"154.033146\" xlink:href=\"#m32b71cd776\" y=\"154.260988\"/>\r\n     <use style=\"fill:#1f77b4;stroke:#1f77b4;\" x=\"71.536587\" xlink:href=\"#m32b71cd776\" y=\"154.58799\"/>\r\n     <use style=\"fill:#1f77b4;stroke:#1f77b4;\" x=\"87.602015\" xlink:href=\"#m32b71cd776\" y=\"162.436039\"/>\r\n     <use style=\"fill:#1f77b4;stroke:#1f77b4;\" x=\"139.081744\" xlink:href=\"#m32b71cd776\" y=\"144.777929\"/>\r\n     <use style=\"fill:#1f77b4;stroke:#1f77b4;\" x=\"102.318885\" xlink:href=\"#m32b71cd776\" y=\"157.694509\"/>\r\n     <use style=\"fill:#1f77b4;stroke:#1f77b4;\" x=\"84.787634\" xlink:href=\"#m32b71cd776\" y=\"174.698615\"/>\r\n     <use style=\"fill:#1f77b4;stroke:#1f77b4;\" x=\"81.73872\" xlink:href=\"#m32b71cd776\" y=\"172.736603\"/>\r\n     <use style=\"fill:#1f77b4;stroke:#1f77b4;\" x=\"76.872186\" xlink:href=\"#m32b71cd776\" y=\"159.748277\"/>\r\n     <use style=\"fill:#1f77b4;stroke:#1f77b4;\" x=\"81.269657\" xlink:href=\"#m32b71cd776\" y=\"159.748277\"/>\r\n     <use style=\"fill:#1f77b4;stroke:#1f77b4;\" x=\"90.533663\" xlink:href=\"#m32b71cd776\" y=\"178.459138\"/>\r\n     <use style=\"fill:#1f77b4;stroke:#1f77b4;\" x=\"73.119677\" xlink:href=\"#m32b71cd776\" y=\"159.748277\"/>\r\n     <use style=\"fill:#1f77b4;stroke:#1f77b4;\" x=\"128.410547\" xlink:href=\"#m32b71cd776\" y=\"74.635994\"/>\r\n     <use style=\"fill:#1f77b4;stroke:#1f77b4;\" x=\"213.017892\" xlink:href=\"#m32b71cd776\" y=\"80.685531\"/>\r\n     <use style=\"fill:#1f77b4;stroke:#1f77b4;\" x=\"91.999486\" xlink:href=\"#m32b71cd776\" y=\"164.23455\"/>\r\n     <use style=\"fill:#1f77b4;stroke:#1f77b4;\" x=\"95.634729\" xlink:href=\"#m32b71cd776\" y=\"150.990968\"/>\r\n     <use style=\"fill:#1f77b4;stroke:#1f77b4;\" x=\"86.839787\" xlink:href=\"#m32b71cd776\" y=\"123.359296\"/>\r\n     <use style=\"fill:#1f77b4;stroke:#1f77b4;\" x=\"84.494469\" xlink:href=\"#m32b71cd776\" y=\"180.584651\"/>\r\n     <use style=\"fill:#1f77b4;stroke:#1f77b4;\" x=\"80.74196\" xlink:href=\"#m32b71cd776\" y=\"182.546664\"/>\r\n     <use style=\"fill:#1f77b4;stroke:#1f77b4;\" x=\"157.023426\" xlink:href=\"#m32b71cd776\" y=\"125.975312\"/>\r\n     <use style=\"fill:#1f77b4;stroke:#1f77b4;\" x=\"80.74196\" xlink:href=\"#m32b71cd776\" y=\"175.352619\"/>\r\n     <use style=\"fill:#1f77b4;stroke:#1f77b4;\" x=\"86.370723\" xlink:href=\"#m32b71cd776\" y=\"160.147025\"/>\r\n     <use style=\"fill:#1f77b4;stroke:#1f77b4;\" x=\"86.605255\" xlink:href=\"#m32b71cd776\" y=\"142.979418\"/>\r\n     <use style=\"fill:#1f77b4;stroke:#1f77b4;\" x=\"86.605255\" xlink:href=\"#m32b71cd776\" y=\"142.979418\"/>\r\n     <use style=\"fill:#1f77b4;stroke:#1f77b4;\" x=\"77.517148\" xlink:href=\"#m32b71cd776\" y=\"187.451694\"/>\r\n     <use style=\"fill:#1f77b4;stroke:#1f77b4;\" x=\"85.256697\" xlink:href=\"#m32b71cd776\" y=\"161.945536\"/>\r\n     <use style=\"fill:#1f77b4;stroke:#1f77b4;\" x=\"88.071079\" xlink:href=\"#m32b71cd776\" y=\"159.748277\"/>\r\n     <use style=\"fill:#1f77b4;stroke:#1f77b4;\" x=\"85.198064\" xlink:href=\"#m32b71cd776\" y=\"186.143686\"/>\r\n     <use style=\"fill:#1f77b4;stroke:#1f77b4;\" x=\"82.207784\" xlink:href=\"#m32b71cd776\" y=\"183.691171\"/>\r\n     <use style=\"fill:#1f77b4;stroke:#1f77b4;\" x=\"151.511929\" xlink:href=\"#m32b71cd776\" y=\"135.131369\"/>\r\n     <use style=\"fill:#1f77b4;stroke:#1f77b4;\" x=\"94.286171\" xlink:href=\"#m32b71cd776\" y=\"163.253544\"/>\r\n     <use style=\"fill:#1f77b4;stroke:#1f77b4;\" x=\"84.084038\" xlink:href=\"#m32b71cd776\" y=\"57.795389\"/>\r\n     <use style=\"fill:#1f77b4;stroke:#1f77b4;\" x=\"94.637969\" xlink:href=\"#m32b71cd776\" y=\"152.135475\"/>\r\n     <use style=\"fill:#1f77b4;stroke:#1f77b4;\" x=\"90.768194\" xlink:href=\"#m32b71cd776\" y=\"179.113142\"/>\r\n     <use style=\"fill:#1f77b4;stroke:#1f77b4;\" x=\"95.576096\" xlink:href=\"#m32b71cd776\" y=\"167.831572\"/>\r\n     <use style=\"fill:#1f77b4;stroke:#1f77b4;\" x=\"70.715726\" xlink:href=\"#m32b71cd776\" y=\"159.748277\"/>\r\n     <use style=\"fill:#1f77b4;stroke:#1f77b4;\" x=\"97.217819\" xlink:href=\"#m32b71cd776\" y=\"175.51612\"/>\r\n     <use style=\"fill:#1f77b4;stroke:#1f77b4;\" x=\"93.817108\" xlink:href=\"#m32b71cd776\" y=\"180.257649\"/>\r\n     <use style=\"fill:#1f77b4;stroke:#1f77b4;\" x=\"100.970327\" xlink:href=\"#m32b71cd776\" y=\"179.603645\"/>\r\n     <use style=\"fill:#1f77b4;stroke:#1f77b4;\" x=\"100.090833\" xlink:href=\"#m32b71cd776\" y=\"159.656522\"/>\r\n     <use style=\"fill:#1f77b4;stroke:#1f77b4;\" x=\"135.6224\" xlink:href=\"#m32b71cd776\" y=\"145.758935\"/>\r\n     <use style=\"fill:#1f77b4;stroke:#1f77b4;\" x=\"87.953813\" xlink:href=\"#m32b71cd776\" y=\"193.991735\"/>\r\n     <use style=\"fill:#1f77b4;stroke:#1f77b4;\" x=\"96.748755\" xlink:href=\"#m32b71cd776\" y=\"181.565658\"/>\r\n     <use style=\"fill:#1f77b4;stroke:#1f77b4;\" x=\"83.32181\" xlink:href=\"#m32b71cd776\" y=\"205.273305\"/>\r\n     <use style=\"fill:#1f77b4;stroke:#1f77b4;\" x=\"78.982972\" xlink:href=\"#m32b71cd776\" y=\"183.691171\"/>\r\n     <use style=\"fill:#1f77b4;stroke:#1f77b4;\" x=\"81.562821\" xlink:href=\"#m32b71cd776\" y=\"180.42115\"/>\r\n     <use style=\"fill:#1f77b4;stroke:#1f77b4;\" x=\"87.543382\" xlink:href=\"#m32b71cd776\" y=\"163.417045\"/>\r\n     <use style=\"fill:#1f77b4;stroke:#1f77b4;\" x=\"91.823587\" xlink:href=\"#m32b71cd776\" y=\"154.260988\"/>\r\n     <use style=\"fill:#1f77b4;stroke:#1f77b4;\" x=\"78.513908\" xlink:href=\"#m32b71cd776\" y=\"165.86956\"/>\r\n     <use style=\"fill:#1f77b4;stroke:#1f77b4;\" x=\"89.712801\" xlink:href=\"#m32b71cd776\" y=\"179.440144\"/>\r\n     <use style=\"fill:#1f77b4;stroke:#1f77b4;\" x=\"82.73548\" xlink:href=\"#m32b71cd776\" y=\"182.546664\"/>\r\n     <use style=\"fill:#1f77b4;stroke:#1f77b4;\" x=\"88.246978\" xlink:href=\"#m32b71cd776\" y=\"166.687065\"/>\r\n     <use style=\"fill:#1f77b4;stroke:#1f77b4;\" x=\"92.820348\" xlink:href=\"#m32b71cd776\" y=\"163.417045\"/>\r\n     <use style=\"fill:#1f77b4;stroke:#1f77b4;\" x=\"103.550177\" xlink:href=\"#m32b71cd776\" y=\"170.447589\"/>\r\n     <use style=\"fill:#1f77b4;stroke:#1f77b4;\" x=\"94.696602\" xlink:href=\"#m32b71cd776\" y=\"180.748152\"/>\r\n     <use style=\"fill:#1f77b4;stroke:#1f77b4;\" x=\"89.595535\" xlink:href=\"#m32b71cd776\" y=\"159.748277\"/>\r\n     <use style=\"fill:#1f77b4;stroke:#1f77b4;\" x=\"82.500949\" xlink:href=\"#m32b71cd776\" y=\"168.322075\"/>\r\n     <use style=\"fill:#1f77b4;stroke:#1f77b4;\" x=\"87.777914\" xlink:href=\"#m32b71cd776\" y=\"170.447589\"/>\r\n     <use style=\"fill:#1f77b4;stroke:#1f77b4;\" x=\"81.32829\" xlink:href=\"#m32b71cd776\" y=\"190.06771\"/>\r\n     <use style=\"fill:#1f77b4;stroke:#1f77b4;\" x=\"89.361004\" xlink:href=\"#m32b71cd776\" y=\"169.466582\"/>\r\n     <use style=\"fill:#1f77b4;stroke:#1f77b4;\" x=\"79.803833\" xlink:href=\"#m32b71cd776\" y=\"182.546664\"/>\r\n     <use style=\"fill:#1f77b4;stroke:#1f77b4;\" x=\"85.608495\" xlink:href=\"#m32b71cd776\" y=\"159.748277\"/>\r\n     <use style=\"fill:#1f77b4;stroke:#1f77b4;\" x=\"270.947246\" xlink:href=\"#m32b71cd776\" y=\"156.877004\"/>\r\n     <use style=\"fill:#1f77b4;stroke:#1f77b4;\" x=\"69.367168\" xlink:href=\"#m32b71cd776\" y=\"159.748277\"/>\r\n     <use style=\"fill:#1f77b4;stroke:#1f77b4;\" x=\"81.562821\" xlink:href=\"#m32b71cd776\" y=\"180.094148\"/>\r\n     <use style=\"fill:#1f77b4;stroke:#1f77b4;\" x=\"86.722521\" xlink:href=\"#m32b71cd776\" y=\"174.862116\"/>\r\n     <use style=\"fill:#1f77b4;stroke:#1f77b4;\" x=\"81.093758\" xlink:href=\"#m32b71cd776\" y=\"188.269199\"/>\r\n     <use style=\"fill:#1f77b4;stroke:#1f77b4;\" x=\"92.527183\" xlink:href=\"#m32b71cd776\" y=\"174.371613\"/>\r\n     <use style=\"fill:#1f77b4;stroke:#1f77b4;\" x=\"95.810628\" xlink:href=\"#m32b71cd776\" y=\"148.865455\"/>\r\n     <use style=\"fill:#1f77b4;stroke:#1f77b4;\" x=\"81.152391\" xlink:href=\"#m32b71cd776\" y=\"168.649077\"/>\r\n     <use style=\"fill:#1f77b4;stroke:#1f77b4;\" x=\"81.035125\" xlink:href=\"#m32b71cd776\" y=\"181.238656\"/>\r\n     <use style=\"fill:#1f77b4;stroke:#1f77b4;\" x=\"86.31209\" xlink:href=\"#m32b71cd776\" y=\"131.534347\"/>\r\n     <use style=\"fill:#1f77b4;stroke:#1f77b4;\" x=\"81.680087\" xlink:href=\"#m32b71cd776\" y=\"184.018173\"/>\r\n     <use style=\"fill:#1f77b4;stroke:#1f77b4;\" x=\"73.764639\" xlink:href=\"#m32b71cd776\" y=\"183.037167\"/>\r\n     <use style=\"fill:#1f77b4;stroke:#1f77b4;\" x=\"86.663888\" xlink:href=\"#m32b71cd776\" y=\"172.082599\"/>\r\n     <use style=\"fill:#1f77b4;stroke:#1f77b4;\" x=\"89.185105\" xlink:href=\"#m32b71cd776\" y=\"159.748277\"/>\r\n     <use style=\"fill:#1f77b4;stroke:#1f77b4;\" x=\"80.74196\" xlink:href=\"#m32b71cd776\" y=\"173.717609\"/>\r\n     <use style=\"fill:#1f77b4;stroke:#1f77b4;\" x=\"79.979732\" xlink:href=\"#m32b71cd776\" y=\"204.292299\"/>\r\n     <use style=\"fill:#1f77b4;stroke:#1f77b4;\" x=\"83.908139\" xlink:href=\"#m32b71cd776\" y=\"202.003284\"/>\r\n     <use style=\"fill:#1f77b4;stroke:#1f77b4;\" x=\"82.911379\" xlink:href=\"#m32b71cd776\" y=\"184.181674\"/>\r\n     <use style=\"fill:#1f77b4;stroke:#1f77b4;\" x=\"83.790873\" xlink:href=\"#m32b71cd776\" y=\"182.710165\"/>\r\n     <use style=\"fill:#1f77b4;stroke:#1f77b4;\" x=\"86.957053\" xlink:href=\"#m32b71cd776\" y=\"160.147025\"/>\r\n     <use style=\"fill:#1f77b4;stroke:#1f77b4;\" x=\"105.016001\" xlink:href=\"#m32b71cd776\" y=\"159.656522\"/>\r\n     <use style=\"fill:#1f77b4;stroke:#1f77b4;\" x=\"91.47179\" xlink:href=\"#m32b71cd776\" y=\"176.497126\"/>\r\n     <use style=\"fill:#1f77b4;stroke:#1f77b4;\" x=\"101.61529\" xlink:href=\"#m32b71cd776\" y=\"169.13958\"/>\r\n     <use style=\"fill:#1f77b4;stroke:#1f77b4;\" x=\"79.217503\" xlink:href=\"#m32b71cd776\" y=\"189.904209\"/>\r\n     <use style=\"fill:#1f77b4;stroke:#1f77b4;\" x=\"138.671313\" xlink:href=\"#m32b71cd776\" y=\"141.834911\"/>\r\n     <use style=\"fill:#1f77b4;stroke:#1f77b4;\" x=\"86.31209\" xlink:href=\"#m32b71cd776\" y=\"171.755597\"/>\r\n     <use style=\"fill:#1f77b4;stroke:#1f77b4;\" x=\"91.002726\" xlink:href=\"#m32b71cd776\" y=\"165.215556\"/>\r\n     <use style=\"fill:#1f77b4;stroke:#1f77b4;\" x=\"91.940853\" xlink:href=\"#m32b71cd776\" y=\"170.61109\"/>\r\n     <use style=\"fill:#1f77b4;stroke:#1f77b4;\" x=\"97.569616\" xlink:href=\"#m32b71cd776\" y=\"170.447589\"/>\r\n     <use style=\"fill:#1f77b4;stroke:#1f77b4;\" x=\"89.419637\" xlink:href=\"#m32b71cd776\" y=\"202.493788\"/>\r\n     <use style=\"fill:#1f77b4;stroke:#1f77b4;\" x=\"85.022165\" xlink:href=\"#m32b71cd776\" y=\"166.523564\"/>\r\n     <use style=\"fill:#1f77b4;stroke:#1f77b4;\" x=\"95.810628\" xlink:href=\"#m32b71cd776\" y=\"207.071816\"/>\r\n     <use style=\"fill:#1f77b4;stroke:#1f77b4;\" x=\"126.299761\" xlink:href=\"#m32b71cd776\" y=\"166.687065\"/>\r\n     <use style=\"fill:#1f77b4;stroke:#1f77b4;\" x=\"79.276136\" xlink:href=\"#m32b71cd776\" y=\"166.850566\"/>\r\n     <use style=\"fill:#1f77b4;stroke:#1f77b4;\" x=\"88.012446\" xlink:href=\"#m32b71cd776\" y=\"178.949641\"/>\r\n     <use style=\"fill:#1f77b4;stroke:#1f77b4;\" x=\"84.142671\" xlink:href=\"#m32b71cd776\" y=\"159.983524\"/>\r\n     <use style=\"fill:#1f77b4;stroke:#1f77b4;\" x=\"82.970012\" xlink:href=\"#m32b71cd776\" y=\"183.691171\"/>\r\n     <use style=\"fill:#1f77b4;stroke:#1f77b4;\" x=\"86.722521\" xlink:href=\"#m32b71cd776\" y=\"176.824128\"/>\r\n     <use style=\"fill:#1f77b4;stroke:#1f77b4;\" x=\"85.608495\" xlink:href=\"#m32b71cd776\" y=\"182.873666\"/>\r\n     <use style=\"fill:#1f77b4;stroke:#1f77b4;\" x=\"304.133494\" xlink:href=\"#m32b71cd776\" y=\"154.58799\"/>\r\n     <use style=\"fill:#1f77b4;stroke:#1f77b4;\" x=\"85.080798\" xlink:href=\"#m32b71cd776\" y=\"152.135475\"/>\r\n     <use style=\"fill:#1f77b4;stroke:#1f77b4;\" x=\"236.940135\" xlink:href=\"#m32b71cd776\" y=\"37.848265\"/>\r\n     <use style=\"fill:#1f77b4;stroke:#1f77b4;\" x=\"87.015686\" xlink:href=\"#m32b71cd776\" y=\"153.279982\"/>\r\n     <use style=\"fill:#1f77b4;stroke:#1f77b4;\" x=\"86.370723\" xlink:href=\"#m32b71cd776\" y=\"185.816684\"/>\r\n     <use style=\"fill:#1f77b4;stroke:#1f77b4;\" x=\"91.295891\" xlink:href=\"#m32b71cd776\" y=\"177.478132\"/>\r\n     <use style=\"fill:#1f77b4;stroke:#1f77b4;\" x=\"82.383683\" xlink:href=\"#m32b71cd776\" y=\"45.859815\"/>\r\n     <use style=\"fill:#1f77b4;stroke:#1f77b4;\" x=\"82.383683\" xlink:href=\"#m32b71cd776\" y=\"174.535114\"/>\r\n     <use style=\"fill:#1f77b4;stroke:#1f77b4;\" x=\"85.022165\" xlink:href=\"#m32b71cd776\" y=\"172.2461\"/>\r\n     <use style=\"fill:#1f77b4;stroke:#1f77b4;\" x=\"88.540142\" xlink:href=\"#m32b71cd776\" y=\"174.208112\"/>\r\n     <use style=\"fill:#1f77b4;stroke:#1f77b4;\" x=\"95.810628\" xlink:href=\"#m32b71cd776\" y=\"173.227106\"/>\r\n     <use style=\"fill:#1f77b4;stroke:#1f77b4;\" x=\"92.527183\" xlink:href=\"#m32b71cd776\" y=\"178.132136\"/>\r\n     <use style=\"fill:#1f77b4;stroke:#1f77b4;\" x=\"92.116752\" xlink:href=\"#m32b71cd776\" y=\"139.382396\"/>\r\n     <use style=\"fill:#1f77b4;stroke:#1f77b4;\" x=\"88.598775\" xlink:href=\"#m32b71cd776\" y=\"174.208112\"/>\r\n     <use style=\"fill:#1f77b4;stroke:#1f77b4;\" x=\"89.478269\" xlink:href=\"#m32b71cd776\" y=\"168.649077\"/>\r\n     <use style=\"fill:#1f77b4;stroke:#1f77b4;\" x=\"88.598775\" xlink:href=\"#m32b71cd776\" y=\"152.462477\"/>\r\n     <use style=\"fill:#1f77b4;stroke:#1f77b4;\" x=\"164.235279\" xlink:href=\"#m32b71cd776\" y=\"171.592096\"/>\r\n     <use style=\"fill:#1f77b4;stroke:#1f77b4;\" x=\"83.849506\" xlink:href=\"#m32b71cd776\" y=\"188.4327\"/>\r\n     <use style=\"fill:#1f77b4;stroke:#1f77b4;\" x=\"84.670368\" xlink:href=\"#m32b71cd776\" y=\"177.968635\"/>\r\n     <use style=\"fill:#1f77b4;stroke:#1f77b4;\" x=\"90.005966\" xlink:href=\"#m32b71cd776\" y=\"149.192457\"/>\r\n     <use style=\"fill:#1f77b4;stroke:#1f77b4;\" x=\"88.364243\" xlink:href=\"#m32b71cd776\" y=\"175.679621\"/>\r\n     <use style=\"fill:#1f77b4;stroke:#1f77b4;\" x=\"84.670368\" xlink:href=\"#m32b71cd776\" y=\"169.630083\"/>\r\n     <use style=\"fill:#1f77b4;stroke:#1f77b4;\" x=\"80.155631\" xlink:href=\"#m32b71cd776\" y=\"187.288193\"/>\r\n     <use style=\"fill:#1f77b4;stroke:#1f77b4;\" x=\"81.504188\" xlink:href=\"#m32b71cd776\" y=\"176.333625\"/>\r\n     <use style=\"fill:#1f77b4;stroke:#1f77b4;\" x=\"84.787634\" xlink:href=\"#m32b71cd776\" y=\"155.241994\"/>\r\n     <use style=\"fill:#1f77b4;stroke:#1f77b4;\" x=\"96.572856\" xlink:href=\"#m32b71cd776\" y=\"179.603645\"/>\r\n     <use style=\"fill:#1f77b4;stroke:#1f77b4;\" x=\"73.823272\" xlink:href=\"#m32b71cd776\" y=\"170.938092\"/>\r\n     <use style=\"fill:#1f77b4;stroke:#1f77b4;\" x=\"84.084038\" xlink:href=\"#m32b71cd776\" y=\"201.185779\"/>\r\n     <use style=\"fill:#1f77b4;stroke:#1f77b4;\" x=\"73.354209\" xlink:href=\"#m32b71cd776\" y=\"159.748277\"/>\r\n     <use style=\"fill:#1f77b4;stroke:#1f77b4;\" x=\"74.585501\" xlink:href=\"#m32b71cd776\" y=\"159.748277\"/>\r\n     <use style=\"fill:#1f77b4;stroke:#1f77b4;\" x=\"81.914619\" xlink:href=\"#m32b71cd776\" y=\"206.254311\"/>\r\n     <use style=\"fill:#1f77b4;stroke:#1f77b4;\" x=\"88.246978\" xlink:href=\"#m32b71cd776\" y=\"191.539219\"/>\r\n     <use style=\"fill:#1f77b4;stroke:#1f77b4;\" x=\"91.823587\" xlink:href=\"#m32b71cd776\" y=\"177.641633\"/>\r\n     <use style=\"fill:#1f77b4;stroke:#1f77b4;\" x=\"87.602015\" xlink:href=\"#m32b71cd776\" y=\"190.06771\"/>\r\n     <use style=\"fill:#1f77b4;stroke:#1f77b4;\" x=\"86.253457\" xlink:href=\"#m32b71cd776\" y=\"184.181674\"/>\r\n     <use style=\"fill:#1f77b4;stroke:#1f77b4;\" x=\"85.549862\" xlink:href=\"#m32b71cd776\" y=\"183.200668\"/>\r\n     <use style=\"fill:#1f77b4;stroke:#1f77b4;\" x=\"87.367483\" xlink:href=\"#m32b71cd776\" y=\"177.641633\"/>\r\n     <use style=\"fill:#1f77b4;stroke:#1f77b4;\" x=\"90.592296\" xlink:href=\"#m32b71cd776\" y=\"161.782035\"/>\r\n     <use style=\"fill:#1f77b4;stroke:#1f77b4;\" x=\"372.909943\" xlink:href=\"#m32b71cd776\" y=\"60.084403\"/>\r\n     <use style=\"fill:#1f77b4;stroke:#1f77b4;\" x=\"81.797353\" xlink:href=\"#m32b71cd776\" y=\"199.387268\"/>\r\n     <use style=\"fill:#1f77b4;stroke:#1f77b4;\" x=\"86.663888\" xlink:href=\"#m32b71cd776\" y=\"162.59954\"/>\r\n     <use style=\"fill:#1f77b4;stroke:#1f77b4;\" x=\"103.139747\" xlink:href=\"#m32b71cd776\" y=\"177.314631\"/>\r\n     <use style=\"fill:#1f77b4;stroke:#1f77b4;\" x=\"87.777914\" xlink:href=\"#m32b71cd776\" y=\"159.748277\"/>\r\n     <use style=\"fill:#1f77b4;stroke:#1f77b4;\" x=\"81.797353\" xlink:href=\"#m32b71cd776\" y=\"145.268432\"/>\r\n     <use style=\"fill:#1f77b4;stroke:#1f77b4;\" x=\"114.631804\" xlink:href=\"#m32b71cd776\" y=\"165.379057\"/>\r\n     <use style=\"fill:#1f77b4;stroke:#1f77b4;\" x=\"112.75555\" xlink:href=\"#m32b71cd776\" y=\"132.351852\"/>\r\n     <use style=\"fill:#1f77b4;stroke:#1f77b4;\" x=\"79.921099\" xlink:href=\"#m32b71cd776\" y=\"138.564891\"/>\r\n     <use style=\"fill:#1f77b4;stroke:#1f77b4;\" x=\"110.996562\" xlink:href=\"#m32b71cd776\" y=\"182.383163\"/>\r\n     <use style=\"fill:#1f77b4;stroke:#1f77b4;\" x=\"68.546307\" xlink:href=\"#m32b71cd776\" y=\"159.748277\"/>\r\n     <use style=\"fill:#1f77b4;stroke:#1f77b4;\" x=\"87.719281\" xlink:href=\"#m32b71cd776\" y=\"75.289998\"/>\r\n     <use style=\"fill:#1f77b4;stroke:#1f77b4;\" x=\"83.263177\" xlink:href=\"#m32b71cd776\" y=\"165.379057\"/>\r\n     <use style=\"fill:#1f77b4;stroke:#1f77b4;\" x=\"122.89905\" xlink:href=\"#m32b71cd776\" y=\"177.641633\"/>\r\n     <use style=\"fill:#1f77b4;stroke:#1f77b4;\" x=\"104.781469\" xlink:href=\"#m32b71cd776\" y=\"162.926542\"/>\r\n     <use style=\"fill:#1f77b4;stroke:#1f77b4;\" x=\"117.504819\" xlink:href=\"#m32b71cd776\" y=\"161.128031\"/>\r\n     <use style=\"fill:#1f77b4;stroke:#1f77b4;\" x=\"83.732241\" xlink:href=\"#m32b71cd776\" y=\"181.565658\"/>\r\n     <use style=\"fill:#1f77b4;stroke:#1f77b4;\" x=\"89.595535\" xlink:href=\"#m32b71cd776\" y=\"177.968635\"/>\r\n     <use style=\"fill:#1f77b4;stroke:#1f77b4;\" x=\"94.110272\" xlink:href=\"#m32b71cd776\" y=\"165.706059\"/>\r\n     <use style=\"fill:#1f77b4;stroke:#1f77b4;\" x=\"91.178625\" xlink:href=\"#m32b71cd776\" y=\"179.440144\"/>\r\n     <use style=\"fill:#1f77b4;stroke:#1f77b4;\" x=\"102.670683\" xlink:href=\"#m32b71cd776\" y=\"181.075155\"/>\r\n     <use style=\"fill:#1f77b4;stroke:#1f77b4;\" x=\"70.422561\" xlink:href=\"#m32b71cd776\" y=\"176.333625\"/>\r\n     <use style=\"fill:#1f77b4;stroke:#1f77b4;\" x=\"73.061044\" xlink:href=\"#m32b71cd776\" y=\"190.558213\"/>\r\n     <use style=\"fill:#1f77b4;stroke:#1f77b4;\" x=\"81.035125\" xlink:href=\"#m32b71cd776\" y=\"178.132136\"/>\r\n     <use style=\"fill:#1f77b4;stroke:#1f77b4;\" x=\"100.853062\" xlink:href=\"#m32b71cd776\" y=\"167.014067\"/>\r\n     <use style=\"fill:#1f77b4;stroke:#1f77b4;\" x=\"88.012446\" xlink:href=\"#m32b71cd776\" y=\"163.090043\"/>\r\n     <use style=\"fill:#1f77b4;stroke:#1f77b4;\" x=\"79.979732\" xlink:href=\"#m32b71cd776\" y=\"168.649077\"/>\r\n     <use style=\"fill:#1f77b4;stroke:#1f77b4;\" x=\"83.380443\" xlink:href=\"#m32b71cd776\" y=\"167.668071\"/>\r\n     <use style=\"fill:#1f77b4;stroke:#1f77b4;\" x=\"88.774674\" xlink:href=\"#m32b71cd776\" y=\"161.618534\"/>\r\n     <use style=\"fill:#1f77b4;stroke:#1f77b4;\" x=\"99.152706\" xlink:href=\"#m32b71cd776\" y=\"166.033061\"/>\r\n     <use style=\"fill:#1f77b4;stroke:#1f77b4;\" x=\"100.0322\" xlink:href=\"#m32b71cd776\" y=\"154.097487\"/>\r\n     <use style=\"fill:#1f77b4;stroke:#1f77b4;\" x=\"118.208414\" xlink:href=\"#m32b71cd776\" y=\"159.748277\"/>\r\n     <use style=\"fill:#1f77b4;stroke:#1f77b4;\" x=\"86.018926\" xlink:href=\"#m32b71cd776\" y=\"185.16268\"/>\r\n     <use style=\"fill:#1f77b4;stroke:#1f77b4;\" x=\"155.9094\" xlink:href=\"#m32b71cd776\" y=\"180.42115\"/>\r\n     <use style=\"fill:#1f77b4;stroke:#1f77b4;\" x=\"84.025405\" xlink:href=\"#m32b71cd776\" y=\"181.238656\"/>\r\n     <use style=\"fill:#1f77b4;stroke:#1f77b4;\" x=\"69.6017\" xlink:href=\"#m32b71cd776\" y=\"159.748277\"/>\r\n     <use style=\"fill:#1f77b4;stroke:#1f77b4;\" x=\"93.406677\" xlink:href=\"#m32b71cd776\" y=\"173.554108\"/>\r\n     <use style=\"fill:#1f77b4;stroke:#1f77b4;\" x=\"78.982972\" xlink:href=\"#m32b71cd776\" y=\"188.923203\"/>\r\n     <use style=\"fill:#1f77b4;stroke:#1f77b4;\" x=\"83.790873\" xlink:href=\"#m32b71cd776\" y=\"210.505337\"/>\r\n     <use style=\"fill:#1f77b4;stroke:#1f77b4;\" x=\"80.390162\" xlink:href=\"#m32b71cd776\" y=\"167.50457\"/>\r\n     <use style=\"fill:#1f77b4;stroke:#1f77b4;\" x=\"82.911379\" xlink:href=\"#m32b71cd776\" y=\"181.89266\"/>\r\n     <use style=\"fill:#1f77b4;stroke:#1f77b4;\" x=\"84.084038\" xlink:href=\"#m32b71cd776\" y=\"171.265094\"/>\r\n     <use style=\"fill:#1f77b4;stroke:#1f77b4;\" x=\"82.852746\" xlink:href=\"#m32b71cd776\" y=\"191.866222\"/>\r\n     <use style=\"fill:#1f77b4;stroke:#1f77b4;\" x=\"85.022165\" xlink:href=\"#m32b71cd776\" y=\"179.113142\"/>\r\n     <use style=\"fill:#1f77b4;stroke:#1f77b4;\" x=\"90.826827\" xlink:href=\"#m32b71cd776\" y=\"137.420383\"/>\r\n     <use style=\"fill:#1f77b4;stroke:#1f77b4;\" x=\"84.729001\" xlink:href=\"#m32b71cd776\" y=\"151.644972\"/>\r\n     <use style=\"fill:#1f77b4;stroke:#1f77b4;\" x=\"87.89518\" xlink:href=\"#m32b71cd776\" y=\"172.900104\"/>\r\n     <use style=\"fill:#1f77b4;stroke:#1f77b4;\" x=\"84.435836\" xlink:href=\"#m32b71cd776\" y=\"171.592096\"/>\r\n     <use style=\"fill:#1f77b4;stroke:#1f77b4;\" x=\"125.009836\" xlink:href=\"#m32b71cd776\" y=\"124.994306\"/>\r\n     <use style=\"fill:#1f77b4;stroke:#1f77b4;\" x=\"154.560842\" xlink:href=\"#m32b71cd776\" y=\"155.241994\"/>\r\n     <use style=\"fill:#1f77b4;stroke:#1f77b4;\" x=\"82.676847\" xlink:href=\"#m32b71cd776\" y=\"202.330286\"/>\r\n     <use style=\"fill:#1f77b4;stroke:#1f77b4;\" x=\"79.686567\" xlink:href=\"#m32b71cd776\" y=\"172.573102\"/>\r\n     <use style=\"fill:#1f77b4;stroke:#1f77b4;\" x=\"82.676847\" xlink:href=\"#m32b71cd776\" y=\"176.987629\"/>\r\n     <use style=\"fill:#1f77b4;stroke:#1f77b4;\" x=\"77.517148\" xlink:href=\"#m32b71cd776\" y=\"181.238656\"/>\r\n     <use style=\"fill:#1f77b4;stroke:#1f77b4;\" x=\"79.334769\" xlink:href=\"#m32b71cd776\" y=\"172.900104\"/>\r\n     <use style=\"fill:#1f77b4;stroke:#1f77b4;\" x=\"77.458515\" xlink:href=\"#m32b71cd776\" y=\"183.200668\"/>\r\n     <use style=\"fill:#1f77b4;stroke:#1f77b4;\" x=\"78.455275\" xlink:href=\"#m32b71cd776\" y=\"166.360063\"/>\r\n     <use style=\"fill:#1f77b4;stroke:#1f77b4;\" x=\"77.810313\" xlink:href=\"#m32b71cd776\" y=\"168.649077\"/>\r\n     <use style=\"fill:#1f77b4;stroke:#1f77b4;\" x=\"87.250217\" xlink:href=\"#m32b71cd776\" y=\"170.284088\"/>\r\n     <use style=\"fill:#1f77b4;stroke:#1f77b4;\" x=\"76.344489\" xlink:href=\"#m32b71cd776\" y=\"178.132136\"/>\r\n     <use style=\"fill:#1f77b4;stroke:#1f77b4;\" x=\"78.16211\" xlink:href=\"#m32b71cd776\" y=\"174.208112\"/>\r\n     <use style=\"fill:#1f77b4;stroke:#1f77b4;\" x=\"85.667128\" xlink:href=\"#m32b71cd776\" y=\"156.713503\"/>\r\n     <use style=\"fill:#1f77b4;stroke:#1f77b4;\" x=\"82.618214\" xlink:href=\"#m32b71cd776\" y=\"192.520226\"/>\r\n     <use style=\"fill:#1f77b4;stroke:#1f77b4;\" x=\"83.790873\" xlink:href=\"#m32b71cd776\" y=\"187.451694\"/>\r\n     <use style=\"fill:#1f77b4;stroke:#1f77b4;\" x=\"86.839787\" xlink:href=\"#m32b71cd776\" y=\"171.919098\"/>\r\n     <use style=\"fill:#1f77b4;stroke:#1f77b4;\" x=\"82.559582\" xlink:href=\"#m32b71cd776\" y=\"178.949641\"/>\r\n     <use style=\"fill:#1f77b4;stroke:#1f77b4;\" x=\"84.084038\" xlink:href=\"#m32b71cd776\" y=\"214.756364\"/>\r\n     <use style=\"fill:#1f77b4;stroke:#1f77b4;\" x=\"137.498654\" xlink:href=\"#m32b71cd776\" y=\"164.725053\"/>\r\n     <use style=\"fill:#1f77b4;stroke:#1f77b4;\" x=\"83.966772\" xlink:href=\"#m32b71cd776\" y=\"180.584651\"/>\r\n     <use style=\"fill:#1f77b4;stroke:#1f77b4;\" x=\"83.556342\" xlink:href=\"#m32b71cd776\" y=\"178.622639\"/>\r\n     <use style=\"fill:#1f77b4;stroke:#1f77b4;\" x=\"85.90166\" xlink:href=\"#m32b71cd776\" y=\"175.189118\"/>\r\n     <use style=\"fill:#1f77b4;stroke:#1f77b4;\" x=\"94.872501\" xlink:href=\"#m32b71cd776\" y=\"179.603645\"/>\r\n     <use style=\"fill:#1f77b4;stroke:#1f77b4;\" x=\"78.513908\" xlink:href=\"#m32b71cd776\" y=\"170.61109\"/>\r\n     <use style=\"fill:#1f77b4;stroke:#1f77b4;\" x=\"252.360601\" xlink:href=\"#m32b71cd776\" y=\"151.808473\"/>\r\n     <use style=\"fill:#1f77b4;stroke:#1f77b4;\" x=\"135.329235\" xlink:href=\"#m32b71cd776\" y=\"143.469921\"/>\r\n     <use style=\"fill:#1f77b4;stroke:#1f77b4;\" x=\"310.934916\" xlink:href=\"#m32b71cd776\" y=\"146.249438\"/>\r\n     <use style=\"fill:#1f77b4;stroke:#1f77b4;\" x=\"242.510265\" xlink:href=\"#m32b71cd776\" y=\"156.386501\"/>\r\n     <use style=\"fill:#1f77b4;stroke:#1f77b4;\" x=\"82.207784\" xlink:href=\"#m32b71cd776\" y=\"159.748277\"/>\r\n     <use style=\"fill:#1f77b4;stroke:#1f77b4;\" x=\"80.390162\" xlink:href=\"#m32b71cd776\" y=\"192.029723\"/>\r\n     <use style=\"fill:#1f77b4;stroke:#1f77b4;\" x=\"88.481509\" xlink:href=\"#m32b71cd776\" y=\"157.531008\"/>\r\n     <use style=\"fill:#1f77b4;stroke:#1f77b4;\" x=\"81.973252\" xlink:href=\"#m32b71cd776\" y=\"169.466582\"/>\r\n     <use style=\"fill:#1f77b4;stroke:#1f77b4;\" x=\"212.431563\" xlink:href=\"#m32b71cd776\" y=\"159.32952\"/>\r\n     <use style=\"fill:#1f77b4;stroke:#1f77b4;\" x=\"87.953813\" xlink:href=\"#m32b71cd776\" y=\"159.748277\"/>\r\n     <use style=\"fill:#1f77b4;stroke:#1f77b4;\" x=\"296.10078\" xlink:href=\"#m32b71cd776\" y=\"125.811811\"/>\r\n     <use style=\"fill:#1f77b4;stroke:#1f77b4;\" x=\"187.395294\" xlink:href=\"#m32b71cd776\" y=\"153.443483\"/>\r\n     <use style=\"fill:#1f77b4;stroke:#1f77b4;\" x=\"74.995931\" xlink:href=\"#m32b71cd776\" y=\"176.006623\"/>\r\n     <use style=\"fill:#1f77b4;stroke:#1f77b4;\" x=\"73.530107\" xlink:href=\"#m32b71cd776\" y=\"183.364169\"/>\r\n     <use style=\"fill:#1f77b4;stroke:#1f77b4;\" x=\"116.33216\" xlink:href=\"#m32b71cd776\" y=\"166.196562\"/>\r\n     <use style=\"fill:#1f77b4;stroke:#1f77b4;\" x=\"111.641524\" xlink:href=\"#m32b71cd776\" y=\"145.104931\"/>\r\n     <use style=\"fill:#1f77b4;stroke:#1f77b4;\" x=\"285.54685\" xlink:href=\"#m32b71cd776\" y=\"118.944769\"/>\r\n     <use style=\"fill:#1f77b4;stroke:#1f77b4;\" x=\"240.634011\" xlink:href=\"#m32b71cd776\" y=\"139.055394\"/>\r\n     <use style=\"fill:#1f77b4;stroke:#1f77b4;\" x=\"120.201935\" xlink:href=\"#m32b71cd776\" y=\"93.765612\"/>\r\n     <use style=\"fill:#1f77b4;stroke:#1f77b4;\" x=\"97.217819\" xlink:href=\"#m32b71cd776\" y=\"138.728392\"/>\r\n     <use style=\"fill:#1f77b4;stroke:#1f77b4;\" x=\"94.286171\" xlink:href=\"#m32b71cd776\" y=\"166.033061\"/>\r\n     <use style=\"fill:#1f77b4;stroke:#1f77b4;\" x=\"81.680087\" xlink:href=\"#m32b71cd776\" y=\"181.402157\"/>\r\n     <use style=\"fill:#1f77b4;stroke:#1f77b4;\" x=\"93.46531\" xlink:href=\"#m32b71cd776\" y=\"164.23455\"/>\r\n     <use style=\"fill:#1f77b4;stroke:#1f77b4;\" x=\"84.904899\" xlink:href=\"#m32b71cd776\" y=\"150.500465\"/>\r\n     <use style=\"fill:#1f77b4;stroke:#1f77b4;\" x=\"83.028645\" xlink:href=\"#m32b71cd776\" y=\"160.474027\"/>\r\n     <use style=\"fill:#1f77b4;stroke:#1f77b4;\" x=\"86.605255\" xlink:href=\"#m32b71cd776\" y=\"157.040505\"/>\r\n     <use style=\"fill:#1f77b4;stroke:#1f77b4;\" x=\"81.73872\" xlink:href=\"#m32b71cd776\" y=\"204.292299\"/>\r\n     <use style=\"fill:#1f77b4;stroke:#1f77b4;\" x=\"97.276452\" xlink:href=\"#m32b71cd776\" y=\"87.879576\"/>\r\n     <use style=\"fill:#1f77b4;stroke:#1f77b4;\" x=\"211.083005\" xlink:href=\"#m32b71cd776\" y=\"163.090043\"/>\r\n     <use style=\"fill:#1f77b4;stroke:#1f77b4;\" x=\"181.590632\" xlink:href=\"#m32b71cd776\" y=\"161.782035\"/>\r\n     <use style=\"fill:#1f77b4;stroke:#1f77b4;\" x=\"89.419637\" xlink:href=\"#m32b71cd776\" y=\"167.341069\"/>\r\n     <use style=\"fill:#1f77b4;stroke:#1f77b4;\" x=\"89.185105\" xlink:href=\"#m32b71cd776\" y=\"185.816684\"/>\r\n     <use style=\"fill:#1f77b4;stroke:#1f77b4;\" x=\"108.827143\" xlink:href=\"#m32b71cd776\" y=\"167.831572\"/>\r\n     <use style=\"fill:#1f77b4;stroke:#1f77b4;\" x=\"95.517463\" xlink:href=\"#m32b71cd776\" y=\"142.325414\"/>\r\n     <use style=\"fill:#1f77b4;stroke:#1f77b4;\" x=\"140.488935\" xlink:href=\"#m32b71cd776\" y=\"152.135475\"/>\r\n     <use style=\"fill:#1f77b4;stroke:#1f77b4;\" x=\"189.330181\" xlink:href=\"#m32b71cd776\" y=\"136.766379\"/>\r\n     <use style=\"fill:#1f77b4;stroke:#1f77b4;\" x=\"94.696602\" xlink:href=\"#m32b71cd776\" y=\"131.534347\"/>\r\n     <use style=\"fill:#1f77b4;stroke:#1f77b4;\" x=\"85.022165\" xlink:href=\"#m32b71cd776\" y=\"188.269199\"/>\r\n     <use style=\"fill:#1f77b4;stroke:#1f77b4;\" x=\"96.396957\" xlink:href=\"#m32b71cd776\" y=\"151.971974\"/>\r\n     <use style=\"fill:#1f77b4;stroke:#1f77b4;\" x=\"95.165665\" xlink:href=\"#m32b71cd776\" y=\"124.176801\"/>\r\n     <use style=\"fill:#1f77b4;stroke:#1f77b4;\" x=\"274.875653\" xlink:href=\"#m32b71cd776\" y=\"156.550002\"/>\r\n     <use style=\"fill:#1f77b4;stroke:#1f77b4;\" x=\"242.80343\" xlink:href=\"#m32b71cd776\" y=\"160.96453\"/>\r\n     <use style=\"fill:#1f77b4;stroke:#1f77b4;\" x=\"127.120623\" xlink:href=\"#m32b71cd776\" y=\"47.494825\"/>\r\n     <use style=\"fill:#1f77b4;stroke:#1f77b4;\" x=\"102.553417\" xlink:href=\"#m32b71cd776\" y=\"142.325414\"/>\r\n     <use style=\"fill:#1f77b4;stroke:#1f77b4;\" x=\"289.651156\" xlink:href=\"#m32b71cd776\" y=\"112.241227\"/>\r\n     <use style=\"fill:#1f77b4;stroke:#1f77b4;\" x=\"303.723064\" xlink:href=\"#m32b71cd776\" y=\"118.781268\"/>\r\n     <use style=\"fill:#1f77b4;stroke:#1f77b4;\" x=\"200.411808\" xlink:href=\"#m32b71cd776\" y=\"168.158574\"/>\r\n     <use style=\"fill:#1f77b4;stroke:#1f77b4;\" x=\"254.236855\" xlink:href=\"#m32b71cd776\" y=\"122.868793\"/>\r\n     <use style=\"fill:#1f77b4;stroke:#1f77b4;\" x=\"130.404068\" xlink:href=\"#m32b71cd776\" y=\"150.663966\"/>\r\n     <use style=\"fill:#1f77b4;stroke:#1f77b4;\" x=\"86.370723\" xlink:href=\"#m32b71cd776\" y=\"172.573102\"/>\r\n     <use style=\"fill:#1f77b4;stroke:#1f77b4;\" x=\"97.569616\" xlink:href=\"#m32b71cd776\" y=\"155.078493\"/>\r\n     <use style=\"fill:#1f77b4;stroke:#1f77b4;\" x=\"78.455275\" xlink:href=\"#m32b71cd776\" y=\"170.774591\"/>\r\n     <use style=\"fill:#1f77b4;stroke:#1f77b4;\" x=\"94.168905\" xlink:href=\"#m32b71cd776\" y=\"152.95298\"/>\r\n     <use style=\"fill:#1f77b4;stroke:#1f77b4;\" x=\"91.178625\" xlink:href=\"#m32b71cd776\" y=\"180.911654\"/>\r\n     <use style=\"fill:#1f77b4;stroke:#1f77b4;\" x=\"122.547253\" xlink:href=\"#m32b71cd776\" y=\"109.298209\"/>\r\n     <use style=\"fill:#1f77b4;stroke:#1f77b4;\" x=\"120.612365\" xlink:href=\"#m32b71cd776\" y=\"178.622639\"/>\r\n     <use style=\"fill:#1f77b4;stroke:#1f77b4;\" x=\"211.845233\" xlink:href=\"#m32b71cd776\" y=\"171.101593\"/>\r\n     <use style=\"fill:#1f77b4;stroke:#1f77b4;\" x=\"258.810225\" xlink:href=\"#m32b71cd776\" y=\"164.888554\"/>\r\n     <use style=\"fill:#1f77b4;stroke:#1f77b4;\" x=\"114.455906\" xlink:href=\"#m32b71cd776\" y=\"139.872899\"/>\r\n     <use style=\"fill:#1f77b4;stroke:#1f77b4;\" x=\"88.950573\" xlink:href=\"#m32b71cd776\" y=\"159.748277\"/>\r\n     <use style=\"fill:#1f77b4;stroke:#1f77b4;\" x=\"91.295891\" xlink:href=\"#m32b71cd776\" y=\"152.95298\"/>\r\n     <use style=\"fill:#1f77b4;stroke:#1f77b4;\" x=\"72.005651\" xlink:href=\"#m32b71cd776\" y=\"159.748277\"/>\r\n     <use style=\"fill:#1f77b4;stroke:#1f77b4;\" x=\"285.077786\" xlink:href=\"#m32b71cd776\" y=\"129.735836\"/>\r\n     <use style=\"fill:#1f77b4;stroke:#1f77b4;\" x=\"242.217101\" xlink:href=\"#m32b71cd776\" y=\"164.561552\"/>\r\n     <use style=\"fill:#1f77b4;stroke:#1f77b4;\" x=\"192.320461\" xlink:href=\"#m32b71cd776\" y=\"135.458371\"/>\r\n     <use style=\"fill:#1f77b4;stroke:#1f77b4;\" x=\"106.18866\" xlink:href=\"#m32b71cd776\" y=\"108.317203\"/>\r\n     <use style=\"fill:#1f77b4;stroke:#1f77b4;\" x=\"99.152706\" xlink:href=\"#m32b71cd776\" y=\"159.748277\"/>\r\n     <use style=\"fill:#1f77b4;stroke:#1f77b4;\" x=\"84.787634\" xlink:href=\"#m32b71cd776\" y=\"54.361868\"/>\r\n     <use style=\"fill:#1f77b4;stroke:#1f77b4;\" x=\"91.706322\" xlink:href=\"#m32b71cd776\" y=\"164.23455\"/>\r\n     <use style=\"fill:#1f77b4;stroke:#1f77b4;\" x=\"90.181865\" xlink:href=\"#m32b71cd776\" y=\"144.614428\"/>\r\n     <use style=\"fill:#1f77b4;stroke:#1f77b4;\" x=\"86.136191\" xlink:href=\"#m32b71cd776\" y=\"180.094148\"/>\r\n     <use style=\"fill:#1f77b4;stroke:#1f77b4;\" x=\"92.820348\" xlink:href=\"#m32b71cd776\" y=\"167.995073\"/>\r\n     <use style=\"fill:#1f77b4;stroke:#1f77b4;\" x=\"86.253457\" xlink:href=\"#m32b71cd776\" y=\"163.253544\"/>\r\n     <use style=\"fill:#1f77b4;stroke:#1f77b4;\" x=\"88.071079\" xlink:href=\"#m32b71cd776\" y=\"149.355958\"/>\r\n     <use style=\"fill:#1f77b4;stroke:#1f77b4;\" x=\"88.012446\" xlink:href=\"#m32b71cd776\" y=\"179.930647\"/>\r\n     <use style=\"fill:#1f77b4;stroke:#1f77b4;\" x=\"68.898105\" xlink:href=\"#m32b71cd776\" y=\"159.748277\"/>\r\n     <use style=\"fill:#1f77b4;stroke:#1f77b4;\" x=\"84.435836\" xlink:href=\"#m32b71cd776\" y=\"160.310526\"/>\r\n     <use style=\"fill:#1f77b4;stroke:#1f77b4;\" x=\"88.481509\" xlink:href=\"#m32b71cd776\" y=\"171.592096\"/>\r\n     <use style=\"fill:#1f77b4;stroke:#1f77b4;\" x=\"89.302371\" xlink:href=\"#m32b71cd776\" y=\"159.748277\"/>\r\n     <use style=\"fill:#1f77b4;stroke:#1f77b4;\" x=\"84.846267\" xlink:href=\"#m32b71cd776\" y=\"154.58799\"/>\r\n     <use style=\"fill:#1f77b4;stroke:#1f77b4;\" x=\"232.953095\" xlink:href=\"#m32b71cd776\" y=\"151.31797\"/>\r\n     <use style=\"fill:#1f77b4;stroke:#1f77b4;\" x=\"258.810225\" xlink:href=\"#m32b71cd776\" y=\"160.637528\"/>\r\n     <use style=\"fill:#1f77b4;stroke:#1f77b4;\" x=\"104.60557\" xlink:href=\"#m32b71cd776\" y=\"115.511247\"/>\r\n     <use style=\"fill:#1f77b4;stroke:#1f77b4;\" x=\"114.045475\" xlink:href=\"#m32b71cd776\" y=\"157.204006\"/>\r\n     <use style=\"fill:#1f77b4;stroke:#1f77b4;\" x=\"114.924969\" xlink:href=\"#m32b71cd776\" y=\"175.51612\"/>\r\n     <use style=\"fill:#1f77b4;stroke:#1f77b4;\" x=\"101.556657\" xlink:href=\"#m32b71cd776\" y=\"119.435272\"/>\r\n     <use style=\"fill:#1f77b4;stroke:#1f77b4;\" x=\"86.077558\" xlink:href=\"#m32b71cd776\" y=\"92.294103\"/>\r\n     <use style=\"fill:#1f77b4;stroke:#1f77b4;\" x=\"91.47179\" xlink:href=\"#m32b71cd776\" y=\"138.564891\"/>\r\n     <use style=\"fill:#1f77b4;stroke:#1f77b4;\" x=\"84.201304\" xlink:href=\"#m32b71cd776\" y=\"164.398051\"/>\r\n     <use style=\"fill:#1f77b4;stroke:#1f77b4;\" x=\"136.970958\" xlink:href=\"#m32b71cd776\" y=\"126.629316\"/>\r\n     <use style=\"fill:#1f77b4;stroke:#1f77b4;\" x=\"216.125439\" xlink:href=\"#m32b71cd776\" y=\"150.990968\"/>\r\n     <use style=\"fill:#1f77b4;stroke:#1f77b4;\" x=\"186.398534\" xlink:href=\"#m32b71cd776\" y=\"150.663966\"/>\r\n     <use style=\"fill:#1f77b4;stroke:#1f77b4;\" x=\"209.910346\" xlink:href=\"#m32b71cd776\" y=\"147.066943\"/>\r\n     <use style=\"fill:#1f77b4;stroke:#1f77b4;\" x=\"287.481737\" xlink:href=\"#m32b71cd776\" y=\"127.937325\"/>\r\n     <use style=\"fill:#1f77b4;stroke:#1f77b4;\" x=\"250.425713\" xlink:href=\"#m32b71cd776\" y=\"132.842355\"/>\r\n     <use style=\"fill:#1f77b4;stroke:#1f77b4;\" x=\"99.856301\" xlink:href=\"#m32b71cd776\" y=\"157.85801\"/>\r\n     <use style=\"fill:#1f77b4;stroke:#1f77b4;\" x=\"125.009836\" xlink:href=\"#m32b71cd776\" y=\"40.464282\"/>\r\n     <use style=\"fill:#1f77b4;stroke:#1f77b4;\" x=\"81.504188\" xlink:href=\"#m32b71cd776\" y=\"180.257649\"/>\r\n     <use style=\"fill:#1f77b4;stroke:#1f77b4;\" x=\"95.810628\" xlink:href=\"#m32b71cd776\" y=\"171.101593\"/>\r\n     <use style=\"fill:#1f77b4;stroke:#1f77b4;\" x=\"85.725761\" xlink:href=\"#m32b71cd776\" y=\"190.558213\"/>\r\n     <use style=\"fill:#1f77b4;stroke:#1f77b4;\" x=\"83.614975\" xlink:href=\"#m32b71cd776\" y=\"186.470688\"/>\r\n     <use style=\"fill:#1f77b4;stroke:#1f77b4;\" x=\"75.699527\" xlink:href=\"#m32b71cd776\" y=\"144.777929\"/>\r\n     <use style=\"fill:#1f77b4;stroke:#1f77b4;\" x=\"87.367483\" xlink:href=\"#m32b71cd776\" y=\"187.288193\"/>\r\n    </g>\r\n   </g>\r\n   <g id=\"matplotlib.axis_1\">\r\n    <g id=\"xtick_1\">\r\n     <g id=\"line2d_1\">\r\n      <defs>\r\n       <path d=\"M 0 0 \r\nL 0 3.5 \r\n\" id=\"mc2be80b479\" style=\"stroke:#000000;stroke-width:0.8;\"/>\r\n      </defs>\r\n      <g>\r\n       <use style=\"stroke:#000000;stroke-width:0.8;\" x=\"60.279061\" xlink:href=\"#mc2be80b479\" y=\"224.64\"/>\r\n      </g>\r\n     </g>\r\n     <g id=\"text_1\">\r\n      <!-- 0 -->\r\n      <g transform=\"translate(57.097811 239.238438)scale(0.1 -0.1)\">\r\n       <defs>\r\n        <path d=\"M 31.78125 66.40625 \r\nQ 24.171875 66.40625 20.328125 58.90625 \r\nQ 16.5 51.421875 16.5 36.375 \r\nQ 16.5 21.390625 20.328125 13.890625 \r\nQ 24.171875 6.390625 31.78125 6.390625 \r\nQ 39.453125 6.390625 43.28125 13.890625 \r\nQ 47.125 21.390625 47.125 36.375 \r\nQ 47.125 51.421875 43.28125 58.90625 \r\nQ 39.453125 66.40625 31.78125 66.40625 \r\nz\r\nM 31.78125 74.21875 \r\nQ 44.046875 74.21875 50.515625 64.515625 \r\nQ 56.984375 54.828125 56.984375 36.375 \r\nQ 56.984375 17.96875 50.515625 8.265625 \r\nQ 44.046875 -1.421875 31.78125 -1.421875 \r\nQ 19.53125 -1.421875 13.0625 8.265625 \r\nQ 6.59375 17.96875 6.59375 36.375 \r\nQ 6.59375 54.828125 13.0625 64.515625 \r\nQ 19.53125 74.21875 31.78125 74.21875 \r\nz\r\n\" id=\"DejaVuSans-48\"/>\r\n       </defs>\r\n       <use xlink:href=\"#DejaVuSans-48\"/>\r\n      </g>\r\n     </g>\r\n    </g>\r\n    <g id=\"xtick_2\">\r\n     <g id=\"line2d_2\">\r\n      <g>\r\n       <use style=\"stroke:#000000;stroke-width:0.8;\" x=\"118.91201\" xlink:href=\"#mc2be80b479\" y=\"224.64\"/>\r\n      </g>\r\n     </g>\r\n     <g id=\"text_2\">\r\n      <!-- 1000 -->\r\n      <g transform=\"translate(106.18701 239.238438)scale(0.1 -0.1)\">\r\n       <defs>\r\n        <path d=\"M 12.40625 8.296875 \r\nL 28.515625 8.296875 \r\nL 28.515625 63.921875 \r\nL 10.984375 60.40625 \r\nL 10.984375 69.390625 \r\nL 28.421875 72.90625 \r\nL 38.28125 72.90625 \r\nL 38.28125 8.296875 \r\nL 54.390625 8.296875 \r\nL 54.390625 0 \r\nL 12.40625 0 \r\nz\r\n\" id=\"DejaVuSans-49\"/>\r\n       </defs>\r\n       <use xlink:href=\"#DejaVuSans-49\"/>\r\n       <use x=\"63.623047\" xlink:href=\"#DejaVuSans-48\"/>\r\n       <use x=\"127.246094\" xlink:href=\"#DejaVuSans-48\"/>\r\n       <use x=\"190.869141\" xlink:href=\"#DejaVuSans-48\"/>\r\n      </g>\r\n     </g>\r\n    </g>\r\n    <g id=\"xtick_3\">\r\n     <g id=\"line2d_3\">\r\n      <g>\r\n       <use style=\"stroke:#000000;stroke-width:0.8;\" x=\"177.544958\" xlink:href=\"#mc2be80b479\" y=\"224.64\"/>\r\n      </g>\r\n     </g>\r\n     <g id=\"text_3\">\r\n      <!-- 2000 -->\r\n      <g transform=\"translate(164.819958 239.238438)scale(0.1 -0.1)\">\r\n       <defs>\r\n        <path d=\"M 19.1875 8.296875 \r\nL 53.609375 8.296875 \r\nL 53.609375 0 \r\nL 7.328125 0 \r\nL 7.328125 8.296875 \r\nQ 12.9375 14.109375 22.625 23.890625 \r\nQ 32.328125 33.6875 34.8125 36.53125 \r\nQ 39.546875 41.84375 41.421875 45.53125 \r\nQ 43.3125 49.21875 43.3125 52.78125 \r\nQ 43.3125 58.59375 39.234375 62.25 \r\nQ 35.15625 65.921875 28.609375 65.921875 \r\nQ 23.96875 65.921875 18.8125 64.3125 \r\nQ 13.671875 62.703125 7.8125 59.421875 \r\nL 7.8125 69.390625 \r\nQ 13.765625 71.78125 18.9375 73 \r\nQ 24.125 74.21875 28.421875 74.21875 \r\nQ 39.75 74.21875 46.484375 68.546875 \r\nQ 53.21875 62.890625 53.21875 53.421875 \r\nQ 53.21875 48.921875 51.53125 44.890625 \r\nQ 49.859375 40.875 45.40625 35.40625 \r\nQ 44.1875 33.984375 37.640625 27.21875 \r\nQ 31.109375 20.453125 19.1875 8.296875 \r\nz\r\n\" id=\"DejaVuSans-50\"/>\r\n       </defs>\r\n       <use xlink:href=\"#DejaVuSans-50\"/>\r\n       <use x=\"63.623047\" xlink:href=\"#DejaVuSans-48\"/>\r\n       <use x=\"127.246094\" xlink:href=\"#DejaVuSans-48\"/>\r\n       <use x=\"190.869141\" xlink:href=\"#DejaVuSans-48\"/>\r\n      </g>\r\n     </g>\r\n    </g>\r\n    <g id=\"xtick_4\">\r\n     <g id=\"line2d_4\">\r\n      <g>\r\n       <use style=\"stroke:#000000;stroke-width:0.8;\" x=\"236.177907\" xlink:href=\"#mc2be80b479\" y=\"224.64\"/>\r\n      </g>\r\n     </g>\r\n     <g id=\"text_4\">\r\n      <!-- 3000 -->\r\n      <g transform=\"translate(223.452907 239.238438)scale(0.1 -0.1)\">\r\n       <defs>\r\n        <path d=\"M 40.578125 39.3125 \r\nQ 47.65625 37.796875 51.625 33 \r\nQ 55.609375 28.21875 55.609375 21.1875 \r\nQ 55.609375 10.40625 48.1875 4.484375 \r\nQ 40.765625 -1.421875 27.09375 -1.421875 \r\nQ 22.515625 -1.421875 17.65625 -0.515625 \r\nQ 12.796875 0.390625 7.625 2.203125 \r\nL 7.625 11.71875 \r\nQ 11.71875 9.328125 16.59375 8.109375 \r\nQ 21.484375 6.890625 26.8125 6.890625 \r\nQ 36.078125 6.890625 40.9375 10.546875 \r\nQ 45.796875 14.203125 45.796875 21.1875 \r\nQ 45.796875 27.640625 41.28125 31.265625 \r\nQ 36.765625 34.90625 28.71875 34.90625 \r\nL 20.21875 34.90625 \r\nL 20.21875 43.015625 \r\nL 29.109375 43.015625 \r\nQ 36.375 43.015625 40.234375 45.921875 \r\nQ 44.09375 48.828125 44.09375 54.296875 \r\nQ 44.09375 59.90625 40.109375 62.90625 \r\nQ 36.140625 65.921875 28.71875 65.921875 \r\nQ 24.65625 65.921875 20.015625 65.03125 \r\nQ 15.375 64.15625 9.8125 62.3125 \r\nL 9.8125 71.09375 \r\nQ 15.4375 72.65625 20.34375 73.4375 \r\nQ 25.25 74.21875 29.59375 74.21875 \r\nQ 40.828125 74.21875 47.359375 69.109375 \r\nQ 53.90625 64.015625 53.90625 55.328125 \r\nQ 53.90625 49.265625 50.4375 45.09375 \r\nQ 46.96875 40.921875 40.578125 39.3125 \r\nz\r\n\" id=\"DejaVuSans-51\"/>\r\n       </defs>\r\n       <use xlink:href=\"#DejaVuSans-51\"/>\r\n       <use x=\"63.623047\" xlink:href=\"#DejaVuSans-48\"/>\r\n       <use x=\"127.246094\" xlink:href=\"#DejaVuSans-48\"/>\r\n       <use x=\"190.869141\" xlink:href=\"#DejaVuSans-48\"/>\r\n      </g>\r\n     </g>\r\n    </g>\r\n    <g id=\"xtick_5\">\r\n     <g id=\"line2d_5\">\r\n      <g>\r\n       <use style=\"stroke:#000000;stroke-width:0.8;\" x=\"294.810856\" xlink:href=\"#mc2be80b479\" y=\"224.64\"/>\r\n      </g>\r\n     </g>\r\n     <g id=\"text_5\">\r\n      <!-- 4000 -->\r\n      <g transform=\"translate(282.085856 239.238438)scale(0.1 -0.1)\">\r\n       <defs>\r\n        <path d=\"M 37.796875 64.3125 \r\nL 12.890625 25.390625 \r\nL 37.796875 25.390625 \r\nz\r\nM 35.203125 72.90625 \r\nL 47.609375 72.90625 \r\nL 47.609375 25.390625 \r\nL 58.015625 25.390625 \r\nL 58.015625 17.1875 \r\nL 47.609375 17.1875 \r\nL 47.609375 0 \r\nL 37.796875 0 \r\nL 37.796875 17.1875 \r\nL 4.890625 17.1875 \r\nL 4.890625 26.703125 \r\nz\r\n\" id=\"DejaVuSans-52\"/>\r\n       </defs>\r\n       <use xlink:href=\"#DejaVuSans-52\"/>\r\n       <use x=\"63.623047\" xlink:href=\"#DejaVuSans-48\"/>\r\n       <use x=\"127.246094\" xlink:href=\"#DejaVuSans-48\"/>\r\n       <use x=\"190.869141\" xlink:href=\"#DejaVuSans-48\"/>\r\n      </g>\r\n     </g>\r\n    </g>\r\n    <g id=\"xtick_6\">\r\n     <g id=\"line2d_6\">\r\n      <g>\r\n       <use style=\"stroke:#000000;stroke-width:0.8;\" x=\"353.443804\" xlink:href=\"#mc2be80b479\" y=\"224.64\"/>\r\n      </g>\r\n     </g>\r\n     <g id=\"text_6\">\r\n      <!-- 5000 -->\r\n      <g transform=\"translate(340.718804 239.238438)scale(0.1 -0.1)\">\r\n       <defs>\r\n        <path d=\"M 10.796875 72.90625 \r\nL 49.515625 72.90625 \r\nL 49.515625 64.59375 \r\nL 19.828125 64.59375 \r\nL 19.828125 46.734375 \r\nQ 21.96875 47.46875 24.109375 47.828125 \r\nQ 26.265625 48.1875 28.421875 48.1875 \r\nQ 40.625 48.1875 47.75 41.5 \r\nQ 54.890625 34.8125 54.890625 23.390625 \r\nQ 54.890625 11.625 47.5625 5.09375 \r\nQ 40.234375 -1.421875 26.90625 -1.421875 \r\nQ 22.3125 -1.421875 17.546875 -0.640625 \r\nQ 12.796875 0.140625 7.71875 1.703125 \r\nL 7.71875 11.625 \r\nQ 12.109375 9.234375 16.796875 8.0625 \r\nQ 21.484375 6.890625 26.703125 6.890625 \r\nQ 35.15625 6.890625 40.078125 11.328125 \r\nQ 45.015625 15.765625 45.015625 23.390625 \r\nQ 45.015625 31 40.078125 35.4375 \r\nQ 35.15625 39.890625 26.703125 39.890625 \r\nQ 22.75 39.890625 18.8125 39.015625 \r\nQ 14.890625 38.140625 10.796875 36.28125 \r\nz\r\n\" id=\"DejaVuSans-53\"/>\r\n       </defs>\r\n       <use xlink:href=\"#DejaVuSans-53\"/>\r\n       <use x=\"63.623047\" xlink:href=\"#DejaVuSans-48\"/>\r\n       <use x=\"127.246094\" xlink:href=\"#DejaVuSans-48\"/>\r\n       <use x=\"190.869141\" xlink:href=\"#DejaVuSans-48\"/>\r\n      </g>\r\n     </g>\r\n    </g>\r\n    <g id=\"text_7\">\r\n     <!-- total_enrollment -->\r\n     <g transform=\"translate(179.69375 252.916562)scale(0.1 -0.1)\">\r\n      <defs>\r\n       <path d=\"M 18.3125 70.21875 \r\nL 18.3125 54.6875 \r\nL 36.8125 54.6875 \r\nL 36.8125 47.703125 \r\nL 18.3125 47.703125 \r\nL 18.3125 18.015625 \r\nQ 18.3125 11.328125 20.140625 9.421875 \r\nQ 21.96875 7.515625 27.59375 7.515625 \r\nL 36.8125 7.515625 \r\nL 36.8125 0 \r\nL 27.59375 0 \r\nQ 17.1875 0 13.234375 3.875 \r\nQ 9.28125 7.765625 9.28125 18.015625 \r\nL 9.28125 47.703125 \r\nL 2.6875 47.703125 \r\nL 2.6875 54.6875 \r\nL 9.28125 54.6875 \r\nL 9.28125 70.21875 \r\nz\r\n\" id=\"DejaVuSans-116\"/>\r\n       <path d=\"M 30.609375 48.390625 \r\nQ 23.390625 48.390625 19.1875 42.75 \r\nQ 14.984375 37.109375 14.984375 27.296875 \r\nQ 14.984375 17.484375 19.15625 11.84375 \r\nQ 23.34375 6.203125 30.609375 6.203125 \r\nQ 37.796875 6.203125 41.984375 11.859375 \r\nQ 46.1875 17.53125 46.1875 27.296875 \r\nQ 46.1875 37.015625 41.984375 42.703125 \r\nQ 37.796875 48.390625 30.609375 48.390625 \r\nz\r\nM 30.609375 56 \r\nQ 42.328125 56 49.015625 48.375 \r\nQ 55.71875 40.765625 55.71875 27.296875 \r\nQ 55.71875 13.875 49.015625 6.21875 \r\nQ 42.328125 -1.421875 30.609375 -1.421875 \r\nQ 18.84375 -1.421875 12.171875 6.21875 \r\nQ 5.515625 13.875 5.515625 27.296875 \r\nQ 5.515625 40.765625 12.171875 48.375 \r\nQ 18.84375 56 30.609375 56 \r\nz\r\n\" id=\"DejaVuSans-111\"/>\r\n       <path d=\"M 34.28125 27.484375 \r\nQ 23.390625 27.484375 19.1875 25 \r\nQ 14.984375 22.515625 14.984375 16.5 \r\nQ 14.984375 11.71875 18.140625 8.90625 \r\nQ 21.296875 6.109375 26.703125 6.109375 \r\nQ 34.1875 6.109375 38.703125 11.40625 \r\nQ 43.21875 16.703125 43.21875 25.484375 \r\nL 43.21875 27.484375 \r\nz\r\nM 52.203125 31.203125 \r\nL 52.203125 0 \r\nL 43.21875 0 \r\nL 43.21875 8.296875 \r\nQ 40.140625 3.328125 35.546875 0.953125 \r\nQ 30.953125 -1.421875 24.3125 -1.421875 \r\nQ 15.921875 -1.421875 10.953125 3.296875 \r\nQ 6 8.015625 6 15.921875 \r\nQ 6 25.140625 12.171875 29.828125 \r\nQ 18.359375 34.515625 30.609375 34.515625 \r\nL 43.21875 34.515625 \r\nL 43.21875 35.40625 \r\nQ 43.21875 41.609375 39.140625 45 \r\nQ 35.0625 48.390625 27.6875 48.390625 \r\nQ 23 48.390625 18.546875 47.265625 \r\nQ 14.109375 46.140625 10.015625 43.890625 \r\nL 10.015625 52.203125 \r\nQ 14.9375 54.109375 19.578125 55.046875 \r\nQ 24.21875 56 28.609375 56 \r\nQ 40.484375 56 46.34375 49.84375 \r\nQ 52.203125 43.703125 52.203125 31.203125 \r\nz\r\n\" id=\"DejaVuSans-97\"/>\r\n       <path d=\"M 9.421875 75.984375 \r\nL 18.40625 75.984375 \r\nL 18.40625 0 \r\nL 9.421875 0 \r\nz\r\n\" id=\"DejaVuSans-108\"/>\r\n       <path d=\"M 50.984375 -16.609375 \r\nL 50.984375 -23.578125 \r\nL -0.984375 -23.578125 \r\nL -0.984375 -16.609375 \r\nz\r\n\" id=\"DejaVuSans-95\"/>\r\n       <path d=\"M 56.203125 29.59375 \r\nL 56.203125 25.203125 \r\nL 14.890625 25.203125 \r\nQ 15.484375 15.921875 20.484375 11.0625 \r\nQ 25.484375 6.203125 34.421875 6.203125 \r\nQ 39.59375 6.203125 44.453125 7.46875 \r\nQ 49.3125 8.734375 54.109375 11.28125 \r\nL 54.109375 2.78125 \r\nQ 49.265625 0.734375 44.1875 -0.34375 \r\nQ 39.109375 -1.421875 33.890625 -1.421875 \r\nQ 20.796875 -1.421875 13.15625 6.1875 \r\nQ 5.515625 13.8125 5.515625 26.8125 \r\nQ 5.515625 40.234375 12.765625 48.109375 \r\nQ 20.015625 56 32.328125 56 \r\nQ 43.359375 56 49.78125 48.890625 \r\nQ 56.203125 41.796875 56.203125 29.59375 \r\nz\r\nM 47.21875 32.234375 \r\nQ 47.125 39.59375 43.09375 43.984375 \r\nQ 39.0625 48.390625 32.421875 48.390625 \r\nQ 24.90625 48.390625 20.390625 44.140625 \r\nQ 15.875 39.890625 15.1875 32.171875 \r\nz\r\n\" id=\"DejaVuSans-101\"/>\r\n       <path d=\"M 54.890625 33.015625 \r\nL 54.890625 0 \r\nL 45.90625 0 \r\nL 45.90625 32.71875 \r\nQ 45.90625 40.484375 42.875 44.328125 \r\nQ 39.84375 48.1875 33.796875 48.1875 \r\nQ 26.515625 48.1875 22.3125 43.546875 \r\nQ 18.109375 38.921875 18.109375 30.90625 \r\nL 18.109375 0 \r\nL 9.078125 0 \r\nL 9.078125 54.6875 \r\nL 18.109375 54.6875 \r\nL 18.109375 46.1875 \r\nQ 21.34375 51.125 25.703125 53.5625 \r\nQ 30.078125 56 35.796875 56 \r\nQ 45.21875 56 50.046875 50.171875 \r\nQ 54.890625 44.34375 54.890625 33.015625 \r\nz\r\n\" id=\"DejaVuSans-110\"/>\r\n       <path d=\"M 41.109375 46.296875 \r\nQ 39.59375 47.171875 37.8125 47.578125 \r\nQ 36.03125 48 33.890625 48 \r\nQ 26.265625 48 22.1875 43.046875 \r\nQ 18.109375 38.09375 18.109375 28.8125 \r\nL 18.109375 0 \r\nL 9.078125 0 \r\nL 9.078125 54.6875 \r\nL 18.109375 54.6875 \r\nL 18.109375 46.1875 \r\nQ 20.953125 51.171875 25.484375 53.578125 \r\nQ 30.03125 56 36.53125 56 \r\nQ 37.453125 56 38.578125 55.875 \r\nQ 39.703125 55.765625 41.0625 55.515625 \r\nz\r\n\" id=\"DejaVuSans-114\"/>\r\n       <path d=\"M 52 44.1875 \r\nQ 55.375 50.25 60.0625 53.125 \r\nQ 64.75 56 71.09375 56 \r\nQ 79.640625 56 84.28125 50.015625 \r\nQ 88.921875 44.046875 88.921875 33.015625 \r\nL 88.921875 0 \r\nL 79.890625 0 \r\nL 79.890625 32.71875 \r\nQ 79.890625 40.578125 77.09375 44.375 \r\nQ 74.3125 48.1875 68.609375 48.1875 \r\nQ 61.625 48.1875 57.5625 43.546875 \r\nQ 53.515625 38.921875 53.515625 30.90625 \r\nL 53.515625 0 \r\nL 44.484375 0 \r\nL 44.484375 32.71875 \r\nQ 44.484375 40.625 41.703125 44.40625 \r\nQ 38.921875 48.1875 33.109375 48.1875 \r\nQ 26.21875 48.1875 22.15625 43.53125 \r\nQ 18.109375 38.875 18.109375 30.90625 \r\nL 18.109375 0 \r\nL 9.078125 0 \r\nL 9.078125 54.6875 \r\nL 18.109375 54.6875 \r\nL 18.109375 46.1875 \r\nQ 21.1875 51.21875 25.484375 53.609375 \r\nQ 29.78125 56 35.6875 56 \r\nQ 41.65625 56 45.828125 52.96875 \r\nQ 50 49.953125 52 44.1875 \r\nz\r\n\" id=\"DejaVuSans-109\"/>\r\n      </defs>\r\n      <use xlink:href=\"#DejaVuSans-116\"/>\r\n      <use x=\"39.208984\" xlink:href=\"#DejaVuSans-111\"/>\r\n      <use x=\"100.390625\" xlink:href=\"#DejaVuSans-116\"/>\r\n      <use x=\"139.599609\" xlink:href=\"#DejaVuSans-97\"/>\r\n      <use x=\"200.878906\" xlink:href=\"#DejaVuSans-108\"/>\r\n      <use x=\"228.662109\" xlink:href=\"#DejaVuSans-95\"/>\r\n      <use x=\"278.662109\" xlink:href=\"#DejaVuSans-101\"/>\r\n      <use x=\"340.185547\" xlink:href=\"#DejaVuSans-110\"/>\r\n      <use x=\"403.564453\" xlink:href=\"#DejaVuSans-114\"/>\r\n      <use x=\"442.427734\" xlink:href=\"#DejaVuSans-111\"/>\r\n      <use x=\"503.609375\" xlink:href=\"#DejaVuSans-108\"/>\r\n      <use x=\"531.392578\" xlink:href=\"#DejaVuSans-108\"/>\r\n      <use x=\"559.175781\" xlink:href=\"#DejaVuSans-109\"/>\r\n      <use x=\"656.587891\" xlink:href=\"#DejaVuSans-101\"/>\r\n      <use x=\"718.111328\" xlink:href=\"#DejaVuSans-110\"/>\r\n      <use x=\"781.490234\" xlink:href=\"#DejaVuSans-116\"/>\r\n     </g>\r\n    </g>\r\n   </g>\r\n   <g id=\"matplotlib.axis_2\">\r\n    <g id=\"ytick_1\">\r\n     <g id=\"line2d_7\">\r\n      <defs>\r\n       <path d=\"M 0 0 \r\nL -3.5 0 \r\n\" id=\"ma88f550176\" style=\"stroke:#000000;stroke-width:0.8;\"/>\r\n      </defs>\r\n      <g>\r\n       <use style=\"stroke:#000000;stroke-width:0.8;\" x=\"53.328125\" xlink:href=\"#ma88f550176\" y=\"196.280749\"/>\r\n      </g>\r\n     </g>\r\n     <g id=\"text_8\">\r\n      <!-- 1000 -->\r\n      <g transform=\"translate(20.878125 200.079968)scale(0.1 -0.1)\">\r\n       <use xlink:href=\"#DejaVuSans-49\"/>\r\n       <use x=\"63.623047\" xlink:href=\"#DejaVuSans-48\"/>\r\n       <use x=\"127.246094\" xlink:href=\"#DejaVuSans-48\"/>\r\n       <use x=\"190.869141\" xlink:href=\"#DejaVuSans-48\"/>\r\n      </g>\r\n     </g>\r\n    </g>\r\n    <g id=\"ytick_2\">\r\n     <g id=\"line2d_8\">\r\n      <g>\r\n       <use style=\"stroke:#000000;stroke-width:0.8;\" x=\"53.328125\" xlink:href=\"#ma88f550176\" y=\"163.580546\"/>\r\n      </g>\r\n     </g>\r\n     <g id=\"text_9\">\r\n      <!-- 1200 -->\r\n      <g transform=\"translate(20.878125 167.379765)scale(0.1 -0.1)\">\r\n       <use xlink:href=\"#DejaVuSans-49\"/>\r\n       <use x=\"63.623047\" xlink:href=\"#DejaVuSans-50\"/>\r\n       <use x=\"127.246094\" xlink:href=\"#DejaVuSans-48\"/>\r\n       <use x=\"190.869141\" xlink:href=\"#DejaVuSans-48\"/>\r\n      </g>\r\n     </g>\r\n    </g>\r\n    <g id=\"ytick_3\">\r\n     <g id=\"line2d_9\">\r\n      <g>\r\n       <use style=\"stroke:#000000;stroke-width:0.8;\" x=\"53.328125\" xlink:href=\"#ma88f550176\" y=\"130.880343\"/>\r\n      </g>\r\n     </g>\r\n     <g id=\"text_10\">\r\n      <!-- 1400 -->\r\n      <g transform=\"translate(20.878125 134.679562)scale(0.1 -0.1)\">\r\n       <use xlink:href=\"#DejaVuSans-49\"/>\r\n       <use x=\"63.623047\" xlink:href=\"#DejaVuSans-52\"/>\r\n       <use x=\"127.246094\" xlink:href=\"#DejaVuSans-48\"/>\r\n       <use x=\"190.869141\" xlink:href=\"#DejaVuSans-48\"/>\r\n      </g>\r\n     </g>\r\n    </g>\r\n    <g id=\"ytick_4\">\r\n     <g id=\"line2d_10\">\r\n      <g>\r\n       <use style=\"stroke:#000000;stroke-width:0.8;\" x=\"53.328125\" xlink:href=\"#ma88f550176\" y=\"98.18014\"/>\r\n      </g>\r\n     </g>\r\n     <g id=\"text_11\">\r\n      <!-- 1600 -->\r\n      <g transform=\"translate(20.878125 101.979359)scale(0.1 -0.1)\">\r\n       <defs>\r\n        <path d=\"M 33.015625 40.375 \r\nQ 26.375 40.375 22.484375 35.828125 \r\nQ 18.609375 31.296875 18.609375 23.390625 \r\nQ 18.609375 15.53125 22.484375 10.953125 \r\nQ 26.375 6.390625 33.015625 6.390625 \r\nQ 39.65625 6.390625 43.53125 10.953125 \r\nQ 47.40625 15.53125 47.40625 23.390625 \r\nQ 47.40625 31.296875 43.53125 35.828125 \r\nQ 39.65625 40.375 33.015625 40.375 \r\nz\r\nM 52.59375 71.296875 \r\nL 52.59375 62.3125 \r\nQ 48.875 64.0625 45.09375 64.984375 \r\nQ 41.3125 65.921875 37.59375 65.921875 \r\nQ 27.828125 65.921875 22.671875 59.328125 \r\nQ 17.53125 52.734375 16.796875 39.40625 \r\nQ 19.671875 43.65625 24.015625 45.921875 \r\nQ 28.375 48.1875 33.59375 48.1875 \r\nQ 44.578125 48.1875 50.953125 41.515625 \r\nQ 57.328125 34.859375 57.328125 23.390625 \r\nQ 57.328125 12.15625 50.6875 5.359375 \r\nQ 44.046875 -1.421875 33.015625 -1.421875 \r\nQ 20.359375 -1.421875 13.671875 8.265625 \r\nQ 6.984375 17.96875 6.984375 36.375 \r\nQ 6.984375 53.65625 15.1875 63.9375 \r\nQ 23.390625 74.21875 37.203125 74.21875 \r\nQ 40.921875 74.21875 44.703125 73.484375 \r\nQ 48.484375 72.75 52.59375 71.296875 \r\nz\r\n\" id=\"DejaVuSans-54\"/>\r\n       </defs>\r\n       <use xlink:href=\"#DejaVuSans-49\"/>\r\n       <use x=\"63.623047\" xlink:href=\"#DejaVuSans-54\"/>\r\n       <use x=\"127.246094\" xlink:href=\"#DejaVuSans-48\"/>\r\n       <use x=\"190.869141\" xlink:href=\"#DejaVuSans-48\"/>\r\n      </g>\r\n     </g>\r\n    </g>\r\n    <g id=\"ytick_5\">\r\n     <g id=\"line2d_11\">\r\n      <g>\r\n       <use style=\"stroke:#000000;stroke-width:0.8;\" x=\"53.328125\" xlink:href=\"#ma88f550176\" y=\"65.479937\"/>\r\n      </g>\r\n     </g>\r\n     <g id=\"text_12\">\r\n      <!-- 1800 -->\r\n      <g transform=\"translate(20.878125 69.279156)scale(0.1 -0.1)\">\r\n       <defs>\r\n        <path d=\"M 31.78125 34.625 \r\nQ 24.75 34.625 20.71875 30.859375 \r\nQ 16.703125 27.09375 16.703125 20.515625 \r\nQ 16.703125 13.921875 20.71875 10.15625 \r\nQ 24.75 6.390625 31.78125 6.390625 \r\nQ 38.8125 6.390625 42.859375 10.171875 \r\nQ 46.921875 13.96875 46.921875 20.515625 \r\nQ 46.921875 27.09375 42.890625 30.859375 \r\nQ 38.875 34.625 31.78125 34.625 \r\nz\r\nM 21.921875 38.8125 \r\nQ 15.578125 40.375 12.03125 44.71875 \r\nQ 8.5 49.078125 8.5 55.328125 \r\nQ 8.5 64.0625 14.71875 69.140625 \r\nQ 20.953125 74.21875 31.78125 74.21875 \r\nQ 42.671875 74.21875 48.875 69.140625 \r\nQ 55.078125 64.0625 55.078125 55.328125 \r\nQ 55.078125 49.078125 51.53125 44.71875 \r\nQ 48 40.375 41.703125 38.8125 \r\nQ 48.828125 37.15625 52.796875 32.3125 \r\nQ 56.78125 27.484375 56.78125 20.515625 \r\nQ 56.78125 9.90625 50.3125 4.234375 \r\nQ 43.84375 -1.421875 31.78125 -1.421875 \r\nQ 19.734375 -1.421875 13.25 4.234375 \r\nQ 6.78125 9.90625 6.78125 20.515625 \r\nQ 6.78125 27.484375 10.78125 32.3125 \r\nQ 14.796875 37.15625 21.921875 38.8125 \r\nz\r\nM 18.3125 54.390625 \r\nQ 18.3125 48.734375 21.84375 45.5625 \r\nQ 25.390625 42.390625 31.78125 42.390625 \r\nQ 38.140625 42.390625 41.71875 45.5625 \r\nQ 45.3125 48.734375 45.3125 54.390625 \r\nQ 45.3125 60.0625 41.71875 63.234375 \r\nQ 38.140625 66.40625 31.78125 66.40625 \r\nQ 25.390625 66.40625 21.84375 63.234375 \r\nQ 18.3125 60.0625 18.3125 54.390625 \r\nz\r\n\" id=\"DejaVuSans-56\"/>\r\n       </defs>\r\n       <use xlink:href=\"#DejaVuSans-49\"/>\r\n       <use x=\"63.623047\" xlink:href=\"#DejaVuSans-56\"/>\r\n       <use x=\"127.246094\" xlink:href=\"#DejaVuSans-48\"/>\r\n       <use x=\"190.869141\" xlink:href=\"#DejaVuSans-48\"/>\r\n      </g>\r\n     </g>\r\n    </g>\r\n    <g id=\"ytick_6\">\r\n     <g id=\"line2d_12\">\r\n      <g>\r\n       <use style=\"stroke:#000000;stroke-width:0.8;\" x=\"53.328125\" xlink:href=\"#ma88f550176\" y=\"32.779734\"/>\r\n      </g>\r\n     </g>\r\n     <g id=\"text_13\">\r\n      <!-- 2000 -->\r\n      <g transform=\"translate(20.878125 36.578953)scale(0.1 -0.1)\">\r\n       <use xlink:href=\"#DejaVuSans-50\"/>\r\n       <use x=\"63.623047\" xlink:href=\"#DejaVuSans-48\"/>\r\n       <use x=\"127.246094\" xlink:href=\"#DejaVuSans-48\"/>\r\n       <use x=\"190.869141\" xlink:href=\"#DejaVuSans-48\"/>\r\n      </g>\r\n     </g>\r\n    </g>\r\n    <g id=\"text_14\">\r\n     <!-- sat_score -->\r\n     <g transform=\"translate(14.520313 139.481719)rotate(-90)scale(0.1 -0.1)\">\r\n      <defs>\r\n       <path d=\"M 44.28125 53.078125 \r\nL 44.28125 44.578125 \r\nQ 40.484375 46.53125 36.375 47.5 \r\nQ 32.28125 48.484375 27.875 48.484375 \r\nQ 21.1875 48.484375 17.84375 46.4375 \r\nQ 14.5 44.390625 14.5 40.28125 \r\nQ 14.5 37.15625 16.890625 35.375 \r\nQ 19.28125 33.59375 26.515625 31.984375 \r\nL 29.59375 31.296875 \r\nQ 39.15625 29.25 43.1875 25.515625 \r\nQ 47.21875 21.78125 47.21875 15.09375 \r\nQ 47.21875 7.46875 41.1875 3.015625 \r\nQ 35.15625 -1.421875 24.609375 -1.421875 \r\nQ 20.21875 -1.421875 15.453125 -0.5625 \r\nQ 10.6875 0.296875 5.421875 2 \r\nL 5.421875 11.28125 \r\nQ 10.40625 8.6875 15.234375 7.390625 \r\nQ 20.0625 6.109375 24.8125 6.109375 \r\nQ 31.15625 6.109375 34.5625 8.28125 \r\nQ 37.984375 10.453125 37.984375 14.40625 \r\nQ 37.984375 18.0625 35.515625 20.015625 \r\nQ 33.0625 21.96875 24.703125 23.78125 \r\nL 21.578125 24.515625 \r\nQ 13.234375 26.265625 9.515625 29.90625 \r\nQ 5.8125 33.546875 5.8125 39.890625 \r\nQ 5.8125 47.609375 11.28125 51.796875 \r\nQ 16.75 56 26.8125 56 \r\nQ 31.78125 56 36.171875 55.265625 \r\nQ 40.578125 54.546875 44.28125 53.078125 \r\nz\r\n\" id=\"DejaVuSans-115\"/>\r\n       <path d=\"M 48.78125 52.59375 \r\nL 48.78125 44.1875 \r\nQ 44.96875 46.296875 41.140625 47.34375 \r\nQ 37.3125 48.390625 33.40625 48.390625 \r\nQ 24.65625 48.390625 19.8125 42.84375 \r\nQ 14.984375 37.3125 14.984375 27.296875 \r\nQ 14.984375 17.28125 19.8125 11.734375 \r\nQ 24.65625 6.203125 33.40625 6.203125 \r\nQ 37.3125 6.203125 41.140625 7.25 \r\nQ 44.96875 8.296875 48.78125 10.40625 \r\nL 48.78125 2.09375 \r\nQ 45.015625 0.34375 40.984375 -0.53125 \r\nQ 36.96875 -1.421875 32.421875 -1.421875 \r\nQ 20.0625 -1.421875 12.78125 6.34375 \r\nQ 5.515625 14.109375 5.515625 27.296875 \r\nQ 5.515625 40.671875 12.859375 48.328125 \r\nQ 20.21875 56 33.015625 56 \r\nQ 37.15625 56 41.109375 55.140625 \r\nQ 45.0625 54.296875 48.78125 52.59375 \r\nz\r\n\" id=\"DejaVuSans-99\"/>\r\n      </defs>\r\n      <use xlink:href=\"#DejaVuSans-115\"/>\r\n      <use x=\"52.099609\" xlink:href=\"#DejaVuSans-97\"/>\r\n      <use x=\"113.378906\" xlink:href=\"#DejaVuSans-116\"/>\r\n      <use x=\"152.587891\" xlink:href=\"#DejaVuSans-95\"/>\r\n      <use x=\"202.587891\" xlink:href=\"#DejaVuSans-115\"/>\r\n      <use x=\"254.6875\" xlink:href=\"#DejaVuSans-99\"/>\r\n      <use x=\"309.667969\" xlink:href=\"#DejaVuSans-111\"/>\r\n      <use x=\"370.849609\" xlink:href=\"#DejaVuSans-114\"/>\r\n      <use x=\"409.712891\" xlink:href=\"#DejaVuSans-101\"/>\r\n     </g>\r\n    </g>\r\n   </g>\r\n   <g id=\"patch_3\">\r\n    <path d=\"M 53.328125 224.64 \r\nL 53.328125 7.2 \r\n\" style=\"fill:none;stroke:#000000;stroke-linecap:square;stroke-linejoin:miter;stroke-width:0.8;\"/>\r\n   </g>\r\n   <g id=\"patch_4\">\r\n    <path d=\"M 388.128125 224.64 \r\nL 388.128125 7.2 \r\n\" style=\"fill:none;stroke:#000000;stroke-linecap:square;stroke-linejoin:miter;stroke-width:0.8;\"/>\r\n   </g>\r\n   <g id=\"patch_5\">\r\n    <path d=\"M 53.328125 224.64 \r\nL 388.128125 224.64 \r\n\" style=\"fill:none;stroke:#000000;stroke-linecap:square;stroke-linejoin:miter;stroke-width:0.8;\"/>\r\n   </g>\r\n   <g id=\"patch_6\">\r\n    <path d=\"M 53.328125 7.2 \r\nL 388.128125 7.2 \r\n\" style=\"fill:none;stroke:#000000;stroke-linecap:square;stroke-linejoin:miter;stroke-width:0.8;\"/>\r\n   </g>\r\n  </g>\r\n </g>\r\n <defs>\r\n  <clipPath id=\"p4348332f5f\">\r\n   <rect height=\"217.44\" width=\"334.8\" x=\"53.328125\" y=\"7.2\"/>\r\n  </clipPath>\r\n </defs>\r\n</svg>\r\n",
      "image/png": "[encoded data removed]"
     },
     "metadata": {
      "needs_background": "light"
     }
    }
   ],
   "source": [
    "import matplotlib.pyplot as plt \n",
    "%matplotlib inline\n",
    "\n",
    "combined.plot.scatter(y='sat_score', x='total_enrollment')"
   ]
  },
  {
   "cell_type": "code",
   "execution_count": 22,
   "metadata": {},
   "outputs": [
    {
     "output_type": "execute_result",
     "data": {
      "text/plain": [
       "91       INTERNATIONAL COMMUNITY HIGH SCHOOL\n",
       "125                                        0\n",
       "126          BRONX INTERNATIONAL HIGH SCHOOL\n",
       "139    KINGSBRIDGE INTERNATIONAL HIGH SCHOOL\n",
       "141    INTERNATIONAL SCHOOL FOR LIBERAL ARTS\n",
       "176                                        0\n",
       "179            HIGH SCHOOL OF WORLD CULTURES\n",
       "188       BROOKLYN INTERNATIONAL HIGH SCHOOL\n",
       "225    INTERNATIONAL HIGH SCHOOL AT PROSPECT\n",
       "237               IT TAKES A VILLAGE ACADEMY\n",
       "253                MULTICULTURAL HIGH SCHOOL\n",
       "286    PAN AMERICAN INTERNATIONAL HIGH SCHOO\n",
       "Name: School Name, dtype: object"
      ]
     },
     "metadata": {},
     "execution_count": 22
    }
   ],
   "source": [
    "# Here we take a look at a few schools with both low enrollment and low SAT Scores\n",
    "low_enrollment = combined[(combined['sat_score'] < 1000) & (combined['total_enrollment'] < 1000)]\n",
    "low_enrollment['School Name']"
   ]
  },
  {
   "cell_type": "code",
   "execution_count": null,
   "metadata": {},
   "outputs": [],
   "source": []
  }
 ]
}