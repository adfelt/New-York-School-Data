{
 "metadata": {
  "language_info": {
   "codemirror_mode": {
    "name": "ipython",
    "version": 3
   },
   "file_extension": ".py",
   "mimetype": "text/x-python",
   "name": "python",
   "nbconvert_exporter": "python",
   "pygments_lexer": "ipython3",
   "version": "3.9.1-final"
  },
  "orig_nbformat": 2,
  "kernelspec": {
   "name": "python3",
   "display_name": "Python 3.9.1 64-bit",
   "metadata": {
    "interpreter": {
     "hash": "468f25ad0239460415b7e6b7483d5c8f7213894121f6fb96c4cb6ef93fffe534"
    }
   }
  }
 },
 "nbformat": 4,
 "nbformat_minor": 2,
 "cells": [
  {
   "source": [
    "# New York Schools\n",
    "A small project that demonstrates how one can analyze data from multiple sources and bring them all together to drive meaningful insights. "
   ],
   "cell_type": "markdown",
   "metadata": {}
  },
  {
   "cell_type": "code",
   "execution_count": 7,
   "metadata": {},
   "outputs": [],
   "source": [
    "import pandas as pd\n",
    "# A list of the data files\n",
    "data_files = [\n",
    "    \"ap_2010.csv\",\n",
    "    \"class_size.csv\",\n",
    "    \"demographics.csv\",\n",
    "    \"graduation.csv\",\n",
    "    \"hs_directory.csv\",\n",
    "    \"sat_results.csv\"\n",
    "]\n",
    "   \n",
    "data = {}\n",
    "for file in data_files:\n",
    "    read_file = pd.read_csv('__data__/{0}'.format(file))\n",
    "    key_name = file.replace(\".csv\",\"\")\n",
    "    data[key_name] = read_file"
   ]
  },
  {
   "cell_type": "code",
   "execution_count": 8,
   "metadata": {},
   "outputs": [
    {
     "output_type": "stream",
     "name": "stdout",
     "text": [
      "      DBN                                    SCHOOL NAME  \\\n0  01M292  HENRY STREET SCHOOL FOR INTERNATIONAL STUDIES   \n1  01M448            UNIVERSITY NEIGHBORHOOD HIGH SCHOOL   \n2  01M450                     EAST SIDE COMMUNITY SCHOOL   \n3  01M458                      FORSYTH SATELLITE ACADEMY   \n4  01M509                        MARTA VALLE HIGH SCHOOL   \n\n  Num of SAT Test Takers SAT Critical Reading Avg. Score SAT Math Avg. Score  \\\n0                     29                             355                 404   \n1                     91                             383                 423   \n2                     70                             377                 402   \n3                      7                             414                 401   \n4                     44                             390                 433   \n\n  SAT Writing Avg. Score  \n0                    363  \n1                    366  \n2                    370  \n3                    359  \n4                    384  \n"
     ]
    }
   ],
   "source": [
    "# Reviewing the Data\n",
    "print(data['sat_results'].head(5))"
   ]
  },
  {
   "cell_type": "code",
   "execution_count": 14,
   "metadata": {},
   "outputs": [
    {
     "output_type": "execute_result",
     "data": {
      "text/plain": [
       "      dbn    bn                      schoolname  d75 studentssurveyed  \\\n",
       "0  01M015  M015       P.S. 015 Roberto Clemente    0               No   \n",
       "1  01M019  M019             P.S. 019 Asher Levy    0               No   \n",
       "2  01M020  M020            P.S. 020 Anna Silver    0               No   \n",
       "3  01M034  M034  P.S. 034 Franklin D. Roosevelt    0              Yes   \n",
       "4  01M063  M063       P.S. 063 William McKinley    0               No   \n",
       "\n",
       "   highschool                  schooltype  rr_s  rr_t  rr_p  ...  s_q14_2  \\\n",
       "0         0.0           Elementary School   NaN    88    60  ...      NaN   \n",
       "1         0.0           Elementary School   NaN   100    60  ...      NaN   \n",
       "2         0.0           Elementary School   NaN    88    73  ...      NaN   \n",
       "3         0.0  Elementary / Middle School  89.0    73    50  ...      NaN   \n",
       "4         0.0           Elementary School   NaN   100    60  ...      NaN   \n",
       "\n",
       "   s_q14_3  s_q14_4  s_q14_5  s_q14_6  s_q14_7  s_q14_8  s_q14_9  s_q14_10  \\\n",
       "0      NaN      NaN      NaN      NaN      NaN      NaN      NaN       NaN   \n",
       "1      NaN      NaN      NaN      NaN      NaN      NaN      NaN       NaN   \n",
       "2      NaN      NaN      NaN      NaN      NaN      NaN      NaN       NaN   \n",
       "3      NaN      NaN      NaN      NaN      NaN      NaN      NaN       NaN   \n",
       "4      NaN      NaN      NaN      NaN      NaN      NaN      NaN       NaN   \n",
       "\n",
       "   s_q14_11  \n",
       "0       NaN  \n",
       "1       NaN  \n",
       "2       NaN  \n",
       "3       NaN  \n",
       "4       NaN  \n",
       "\n",
       "[5 rows x 2773 columns]"
      ],
      "text/html": "<div>\n<style scoped>\n    .dataframe tbody tr th:only-of-type {\n        vertical-align: middle;\n    }\n\n    .dataframe tbody tr th {\n        vertical-align: top;\n    }\n\n    .dataframe thead th {\n        text-align: right;\n    }\n</style>\n<table border=\"1\" class=\"dataframe\">\n  <thead>\n    <tr style=\"text-align: right;\">\n      <th></th>\n      <th>dbn</th>\n      <th>bn</th>\n      <th>schoolname</th>\n      <th>d75</th>\n      <th>studentssurveyed</th>\n      <th>highschool</th>\n      <th>schooltype</th>\n      <th>rr_s</th>\n      <th>rr_t</th>\n      <th>rr_p</th>\n      <th>...</th>\n      <th>s_q14_2</th>\n      <th>s_q14_3</th>\n      <th>s_q14_4</th>\n      <th>s_q14_5</th>\n      <th>s_q14_6</th>\n      <th>s_q14_7</th>\n      <th>s_q14_8</th>\n      <th>s_q14_9</th>\n      <th>s_q14_10</th>\n      <th>s_q14_11</th>\n    </tr>\n  </thead>\n  <tbody>\n    <tr>\n      <th>0</th>\n      <td>01M015</td>\n      <td>M015</td>\n      <td>P.S. 015 Roberto Clemente</td>\n      <td>0</td>\n      <td>No</td>\n      <td>0.0</td>\n      <td>Elementary School</td>\n      <td>NaN</td>\n      <td>88</td>\n      <td>60</td>\n      <td>...</td>\n      <td>NaN</td>\n      <td>NaN</td>\n      <td>NaN</td>\n      <td>NaN</td>\n      <td>NaN</td>\n      <td>NaN</td>\n      <td>NaN</td>\n      <td>NaN</td>\n      <td>NaN</td>\n      <td>NaN</td>\n    </tr>\n    <tr>\n      <th>1</th>\n      <td>01M019</td>\n      <td>M019</td>\n      <td>P.S. 019 Asher Levy</td>\n      <td>0</td>\n      <td>No</td>\n      <td>0.0</td>\n      <td>Elementary School</td>\n      <td>NaN</td>\n      <td>100</td>\n      <td>60</td>\n      <td>...</td>\n      <td>NaN</td>\n      <td>NaN</td>\n      <td>NaN</td>\n      <td>NaN</td>\n      <td>NaN</td>\n      <td>NaN</td>\n      <td>NaN</td>\n      <td>NaN</td>\n      <td>NaN</td>\n      <td>NaN</td>\n    </tr>\n    <tr>\n      <th>2</th>\n      <td>01M020</td>\n      <td>M020</td>\n      <td>P.S. 020 Anna Silver</td>\n      <td>0</td>\n      <td>No</td>\n      <td>0.0</td>\n      <td>Elementary School</td>\n      <td>NaN</td>\n      <td>88</td>\n      <td>73</td>\n      <td>...</td>\n      <td>NaN</td>\n      <td>NaN</td>\n      <td>NaN</td>\n      <td>NaN</td>\n      <td>NaN</td>\n      <td>NaN</td>\n      <td>NaN</td>\n      <td>NaN</td>\n      <td>NaN</td>\n      <td>NaN</td>\n    </tr>\n    <tr>\n      <th>3</th>\n      <td>01M034</td>\n      <td>M034</td>\n      <td>P.S. 034 Franklin D. Roosevelt</td>\n      <td>0</td>\n      <td>Yes</td>\n      <td>0.0</td>\n      <td>Elementary / Middle School</td>\n      <td>89.0</td>\n      <td>73</td>\n      <td>50</td>\n      <td>...</td>\n      <td>NaN</td>\n      <td>NaN</td>\n      <td>NaN</td>\n      <td>NaN</td>\n      <td>NaN</td>\n      <td>NaN</td>\n      <td>NaN</td>\n      <td>NaN</td>\n      <td>NaN</td>\n      <td>NaN</td>\n    </tr>\n    <tr>\n      <th>4</th>\n      <td>01M063</td>\n      <td>M063</td>\n      <td>P.S. 063 William McKinley</td>\n      <td>0</td>\n      <td>No</td>\n      <td>0.0</td>\n      <td>Elementary School</td>\n      <td>NaN</td>\n      <td>100</td>\n      <td>60</td>\n      <td>...</td>\n      <td>NaN</td>\n      <td>NaN</td>\n      <td>NaN</td>\n      <td>NaN</td>\n      <td>NaN</td>\n      <td>NaN</td>\n      <td>NaN</td>\n      <td>NaN</td>\n      <td>NaN</td>\n      <td>NaN</td>\n    </tr>\n  </tbody>\n</table>\n<p>5 rows × 2773 columns</p>\n</div>"
     },
     "metadata": {},
     "execution_count": 14
    }
   ],
   "source": [
    "'''Reading in the txt surveys and combining them into a single DataFrame.'''\n",
    "all_survey = pd.read_csv('__txt_data__/2011_School_Survey/survey_all.txt', delimiter=\"\\t\", encoding ='windows-1252')\n",
    "d75_survey = pd.read_csv('__txt_data__/2011_School_Survey/survey_d75.txt', delimiter=\"\\t\", encoding ='windows-1252')\n",
    "\n",
    "survey = pd.concat([all_survey, d75_survey], axis=0)\n",
    "survey.head()"
   ]
  },
  {
   "source": [
    "### Combining Files\n",
    "\n",
    "Here we combine the text files we previously read into the program. "
   ],
   "cell_type": "markdown",
   "metadata": {}
  },
  {
   "cell_type": "code",
   "execution_count": 15,
   "metadata": {},
   "outputs": [
    {
     "output_type": "stream",
     "name": "stdout",
     "text": [
      "       DBN  rr_s  rr_t  rr_p    N_s   N_t    N_p  saf_p_11  com_p_11  \\\n0   01M015   NaN    88    60    NaN  22.0   90.0       8.5       7.6   \n1   01M019   NaN   100    60    NaN  34.0  161.0       8.4       7.6   \n2   01M020   NaN    88    73    NaN  42.0  367.0       8.9       8.3   \n3   01M034  89.0    73    50  145.0  29.0  151.0       8.8       8.2   \n4   01M063   NaN   100    60    NaN  23.0   90.0       8.7       7.9   \n..     ...   ...   ...   ...    ...   ...    ...       ...       ...   \n51  75X352  90.0    58    48   38.0  46.0  160.0       8.9       8.3   \n52  75X721  84.0    90    48  237.0  82.0  239.0       8.6       7.6   \n53  75X723  77.0    74    20  103.0  69.0   74.0       8.4       7.8   \n54  75X754  63.0    93    22  336.0  82.0  124.0       8.3       7.5   \n55  75X811  38.0    63    19   44.0  71.0  119.0       8.5       7.8   \n\n    eng_p_11  ...  eng_t_11  aca_t_11  saf_s_11  com_s_11  eng_s_11  aca_s_11  \\\n0        7.5  ...       7.6       7.9       NaN       NaN       NaN       NaN   \n1        7.6  ...       8.9       9.1       NaN       NaN       NaN       NaN   \n2        8.3  ...       6.8       7.5       NaN       NaN       NaN       NaN   \n3        8.0  ...       6.8       7.8       6.2       5.9       6.5       7.4   \n4        8.1  ...       7.8       8.1       NaN       NaN       NaN       NaN   \n..       ...  ...       ...       ...       ...       ...       ...       ...   \n51       7.9  ...       5.7       5.8       6.8       6.0       7.8       7.6   \n52       7.5  ...       6.7       7.0       7.8       7.2       7.8       7.9   \n53       7.8  ...       6.7       7.6       6.7       7.2       7.7       7.7   \n54       7.5  ...       6.6       7.1       6.8       6.6       7.6       7.7   \n55       7.7  ...       6.5       7.0       7.7       6.1       7.7       7.7   \n\n    saf_tot_11  com_tot_11  eng_tot_11  aca_tot_11  \n0          8.0         7.7         7.5         7.9  \n1          8.5         8.1         8.2         8.4  \n2          8.2         7.3         7.5         8.0  \n3          7.3         6.7         7.1         7.9  \n4          8.5         7.6         7.9         8.0  \n..         ...         ...         ...         ...  \n51         7.4         6.6         7.1         7.2  \n52         8.0         7.1         7.3         7.6  \n53         7.6         7.4         7.4         7.7  \n54         7.2         6.9         7.3         7.5  \n55         7.7         6.8         7.3         7.5  \n\n[1702 rows x 23 columns]\n"
     ]
    }
   ],
   "source": [
    "# Renaming columns\n",
    "survey['DBN'] = survey['dbn']\n",
    "# Removing all the useless columns. There were over 2000 columns in this file. \n",
    "columns_to_keep = [\"DBN\", \"rr_s\", \"rr_t\", \"rr_p\", \"N_s\", \"N_t\", \"N_p\", \"saf_p_11\", \"com_p_11\", \"eng_p_11\", \"aca_p_11\", \"saf_t_11\", \"com_t_11\", \"eng_t_11\", \"aca_t_11\", \"saf_s_11\", \"com_s_11\", \"eng_s_11\", \"aca_s_11\", \"saf_tot_11\", \"com_tot_11\", \"eng_tot_11\", \"aca_tot_11\"]\n",
    "survey = survey.loc[:,columns_to_keep]\n",
    "data['survey'] = survey \n",
    "print(data['survey'])"
   ]
  },
  {
   "cell_type": "code",
   "execution_count": 17,
   "metadata": {},
   "outputs": [
    {
     "output_type": "execute_result",
     "data": {
      "text/plain": [
       "   CSD BOROUGH SCHOOL CODE                SCHOOL NAME GRADE  PROGRAM TYPE  \\\n",
       "0    1       M        M015  P.S. 015 Roberto Clemente     0K       GEN ED   \n",
       "1    1       M        M015  P.S. 015 Roberto Clemente     0K          CTT   \n",
       "2    1       M        M015  P.S. 015 Roberto Clemente     01       GEN ED   \n",
       "3    1       M        M015  P.S. 015 Roberto Clemente     01          CTT   \n",
       "4    1       M        M015  P.S. 015 Roberto Clemente     02       GEN ED   \n",
       "\n",
       "  CORE SUBJECT (MS CORE and 9-12 ONLY) CORE COURSE (MS CORE and 9-12 ONLY)  \\\n",
       "0                                    -                                   -   \n",
       "1                                    -                                   -   \n",
       "2                                    -                                   -   \n",
       "3                                    -                                   -   \n",
       "4                                    -                                   -   \n",
       "\n",
       "  SERVICE CATEGORY(K-9* ONLY)  NUMBER OF STUDENTS / SEATS FILLED  \\\n",
       "0                           -                               19.0   \n",
       "1                           -                               21.0   \n",
       "2                           -                               17.0   \n",
       "3                           -                               17.0   \n",
       "4                           -                               15.0   \n",
       "\n",
       "   NUMBER OF SECTIONS  AVERAGE CLASS SIZE  SIZE OF SMALLEST CLASS  \\\n",
       "0                 1.0                19.0                    19.0   \n",
       "1                 1.0                21.0                    21.0   \n",
       "2                 1.0                17.0                    17.0   \n",
       "3                 1.0                17.0                    17.0   \n",
       "4                 1.0                15.0                    15.0   \n",
       "\n",
       "   SIZE OF LARGEST CLASS DATA SOURCE  SCHOOLWIDE PUPIL-TEACHER RATIO  \\\n",
       "0                   19.0         ATS                             NaN   \n",
       "1                   21.0         ATS                             NaN   \n",
       "2                   17.0         ATS                             NaN   \n",
       "3                   17.0         ATS                             NaN   \n",
       "4                   15.0         ATS                             NaN   \n",
       "\n",
       "  padded_csd     DBN  \n",
       "0         01  01M015  \n",
       "1         01  01M015  \n",
       "2         01  01M015  \n",
       "3         01  01M015  \n",
       "4         01  01M015  "
      ],
      "text/html": "<div>\n<style scoped>\n    .dataframe tbody tr th:only-of-type {\n        vertical-align: middle;\n    }\n\n    .dataframe tbody tr th {\n        vertical-align: top;\n    }\n\n    .dataframe thead th {\n        text-align: right;\n    }\n</style>\n<table border=\"1\" class=\"dataframe\">\n  <thead>\n    <tr style=\"text-align: right;\">\n      <th></th>\n      <th>CSD</th>\n      <th>BOROUGH</th>\n      <th>SCHOOL CODE</th>\n      <th>SCHOOL NAME</th>\n      <th>GRADE</th>\n      <th>PROGRAM TYPE</th>\n      <th>CORE SUBJECT (MS CORE and 9-12 ONLY)</th>\n      <th>CORE COURSE (MS CORE and 9-12 ONLY)</th>\n      <th>SERVICE CATEGORY(K-9* ONLY)</th>\n      <th>NUMBER OF STUDENTS / SEATS FILLED</th>\n      <th>NUMBER OF SECTIONS</th>\n      <th>AVERAGE CLASS SIZE</th>\n      <th>SIZE OF SMALLEST CLASS</th>\n      <th>SIZE OF LARGEST CLASS</th>\n      <th>DATA SOURCE</th>\n      <th>SCHOOLWIDE PUPIL-TEACHER RATIO</th>\n      <th>padded_csd</th>\n      <th>DBN</th>\n    </tr>\n  </thead>\n  <tbody>\n    <tr>\n      <th>0</th>\n      <td>1</td>\n      <td>M</td>\n      <td>M015</td>\n      <td>P.S. 015 Roberto Clemente</td>\n      <td>0K</td>\n      <td>GEN ED</td>\n      <td>-</td>\n      <td>-</td>\n      <td>-</td>\n      <td>19.0</td>\n      <td>1.0</td>\n      <td>19.0</td>\n      <td>19.0</td>\n      <td>19.0</td>\n      <td>ATS</td>\n      <td>NaN</td>\n      <td>01</td>\n      <td>01M015</td>\n    </tr>\n    <tr>\n      <th>1</th>\n      <td>1</td>\n      <td>M</td>\n      <td>M015</td>\n      <td>P.S. 015 Roberto Clemente</td>\n      <td>0K</td>\n      <td>CTT</td>\n      <td>-</td>\n      <td>-</td>\n      <td>-</td>\n      <td>21.0</td>\n      <td>1.0</td>\n      <td>21.0</td>\n      <td>21.0</td>\n      <td>21.0</td>\n      <td>ATS</td>\n      <td>NaN</td>\n      <td>01</td>\n      <td>01M015</td>\n    </tr>\n    <tr>\n      <th>2</th>\n      <td>1</td>\n      <td>M</td>\n      <td>M015</td>\n      <td>P.S. 015 Roberto Clemente</td>\n      <td>01</td>\n      <td>GEN ED</td>\n      <td>-</td>\n      <td>-</td>\n      <td>-</td>\n      <td>17.0</td>\n      <td>1.0</td>\n      <td>17.0</td>\n      <td>17.0</td>\n      <td>17.0</td>\n      <td>ATS</td>\n      <td>NaN</td>\n      <td>01</td>\n      <td>01M015</td>\n    </tr>\n    <tr>\n      <th>3</th>\n      <td>1</td>\n      <td>M</td>\n      <td>M015</td>\n      <td>P.S. 015 Roberto Clemente</td>\n      <td>01</td>\n      <td>CTT</td>\n      <td>-</td>\n      <td>-</td>\n      <td>-</td>\n      <td>17.0</td>\n      <td>1.0</td>\n      <td>17.0</td>\n      <td>17.0</td>\n      <td>17.0</td>\n      <td>ATS</td>\n      <td>NaN</td>\n      <td>01</td>\n      <td>01M015</td>\n    </tr>\n    <tr>\n      <th>4</th>\n      <td>1</td>\n      <td>M</td>\n      <td>M015</td>\n      <td>P.S. 015 Roberto Clemente</td>\n      <td>02</td>\n      <td>GEN ED</td>\n      <td>-</td>\n      <td>-</td>\n      <td>-</td>\n      <td>15.0</td>\n      <td>1.0</td>\n      <td>15.0</td>\n      <td>15.0</td>\n      <td>15.0</td>\n      <td>ATS</td>\n      <td>NaN</td>\n      <td>01</td>\n      <td>01M015</td>\n    </tr>\n  </tbody>\n</table>\n</div>"
     },
     "metadata": {},
     "execution_count": 17
    }
   ],
   "source": [
    "\n",
    "def add_zero(num):\n",
    "    '''This function adds a leading zero to the necessary column.'''\n",
    "    str_num = str(num)\n",
    "    len_num = len(str_num)\n",
    "    if len_num <= 1:\n",
    "        return str_num.zfill(2)\n",
    "    else:\n",
    "        return str_num\n",
    "\n",
    "# Updating the HS_Directory file and adding a column to the class size DataFrame. \n",
    "data['hs_directory']['DBN'] = data['hs_directory']['dbn']\n",
    "data['class_size']['padded_csd'] = data['class_size']['CSD'].apply(add_zero)\n",
    "data['class_size']['DBN'] = data['class_size']['padded_csd'] + data['class_size']['SCHOOL CODE']\n",
    "data['class_size'].head()\n"
   ]
  },
  {
   "cell_type": "code",
   "execution_count": 19,
   "metadata": {},
   "outputs": [
    {
     "output_type": "execute_result",
     "data": {
      "text/plain": [
       "      DBN                                    SCHOOL NAME  \\\n",
       "0  01M292  HENRY STREET SCHOOL FOR INTERNATIONAL STUDIES   \n",
       "1  01M448            UNIVERSITY NEIGHBORHOOD HIGH SCHOOL   \n",
       "2  01M450                     EAST SIDE COMMUNITY SCHOOL   \n",
       "3  01M458                      FORSYTH SATELLITE ACADEMY   \n",
       "4  01M509                        MARTA VALLE HIGH SCHOOL   \n",
       "\n",
       "  Num of SAT Test Takers  SAT Critical Reading Avg. Score  \\\n",
       "0                     29                            355.0   \n",
       "1                     91                            383.0   \n",
       "2                     70                            377.0   \n",
       "3                      7                            414.0   \n",
       "4                     44                            390.0   \n",
       "\n",
       "   SAT Math Avg. Score  SAT Writing Avg. Score  sat_score  \n",
       "0                404.0                   363.0     1122.0  \n",
       "1                423.0                   366.0     1172.0  \n",
       "2                402.0                   370.0     1149.0  \n",
       "3                401.0                   359.0     1174.0  \n",
       "4                433.0                   384.0     1207.0  "
      ],
      "text/html": "<div>\n<style scoped>\n    .dataframe tbody tr th:only-of-type {\n        vertical-align: middle;\n    }\n\n    .dataframe tbody tr th {\n        vertical-align: top;\n    }\n\n    .dataframe thead th {\n        text-align: right;\n    }\n</style>\n<table border=\"1\" class=\"dataframe\">\n  <thead>\n    <tr style=\"text-align: right;\">\n      <th></th>\n      <th>DBN</th>\n      <th>SCHOOL NAME</th>\n      <th>Num of SAT Test Takers</th>\n      <th>SAT Critical Reading Avg. Score</th>\n      <th>SAT Math Avg. Score</th>\n      <th>SAT Writing Avg. Score</th>\n      <th>sat_score</th>\n    </tr>\n  </thead>\n  <tbody>\n    <tr>\n      <th>0</th>\n      <td>01M292</td>\n      <td>HENRY STREET SCHOOL FOR INTERNATIONAL STUDIES</td>\n      <td>29</td>\n      <td>355.0</td>\n      <td>404.0</td>\n      <td>363.0</td>\n      <td>1122.0</td>\n    </tr>\n    <tr>\n      <th>1</th>\n      <td>01M448</td>\n      <td>UNIVERSITY NEIGHBORHOOD HIGH SCHOOL</td>\n      <td>91</td>\n      <td>383.0</td>\n      <td>423.0</td>\n      <td>366.0</td>\n      <td>1172.0</td>\n    </tr>\n    <tr>\n      <th>2</th>\n      <td>01M450</td>\n      <td>EAST SIDE COMMUNITY SCHOOL</td>\n      <td>70</td>\n      <td>377.0</td>\n      <td>402.0</td>\n      <td>370.0</td>\n      <td>1149.0</td>\n    </tr>\n    <tr>\n      <th>3</th>\n      <td>01M458</td>\n      <td>FORSYTH SATELLITE ACADEMY</td>\n      <td>7</td>\n      <td>414.0</td>\n      <td>401.0</td>\n      <td>359.0</td>\n      <td>1174.0</td>\n    </tr>\n    <tr>\n      <th>4</th>\n      <td>01M509</td>\n      <td>MARTA VALLE HIGH SCHOOL</td>\n      <td>44</td>\n      <td>390.0</td>\n      <td>433.0</td>\n      <td>384.0</td>\n      <td>1207.0</td>\n    </tr>\n  </tbody>\n</table>\n</div>"
     },
     "metadata": {},
     "execution_count": 19
    }
   ],
   "source": [
    "'''Making the following columns int's in order to combine into 1 column'''\n",
    "columns = ['SAT Math Avg. Score', 'SAT Critical Reading Avg. Score', 'SAT Writing Avg. Score']\n",
    "for c in columns:\n",
    "    data['sat_results'][c] = pd.to_numeric(data['sat_results'][c], errors='coerce')\n",
    "\n",
    "# Adding the following columns to a new column Sat Score.\n",
    "data['sat_results']['sat_score'] = data['sat_results'][columns[0]] + data['sat_results'][columns[1]] + data['sat_results'][columns[2]]\n",
    "data['sat_results'].head()"
   ]
  },
  {
   "source": [
    "### Getting Coordinates\n",
    "\n",
    "Next we will be collecting the longitutde and latitude coordinates from the High School Directory DataFrame. This well help us later on create better geodemographic segmentations. "
   ],
   "cell_type": "markdown",
   "metadata": {}
  },
  {
   "cell_type": "code",
   "execution_count": 20,
   "metadata": {},
   "outputs": [
    {
     "output_type": "execute_result",
     "data": {
      "text/plain": [
       "      dbn                                        school_name    borough  \\\n",
       "0  27Q260          Frederick Douglass Academy VI High School     Queens   \n",
       "1  21K559        Life Academy High School for Film and Music   Brooklyn   \n",
       "2  16K393     Frederick Douglass Academy IV Secondary School   Brooklyn   \n",
       "3  08X305                               Pablo Neruda Academy      Bronx   \n",
       "4  03M485  Fiorello H. LaGuardia High School of Music & A...  Manhattan   \n",
       "\n",
       "  building_code  phone_number    fax_number  grade_span_min  grade_span_max  \\\n",
       "0          Q465  718-471-2154  718-471-2890             9.0              12   \n",
       "1          K400  718-333-7750  718-333-7775             9.0              12   \n",
       "2          K026  718-574-2820  718-574-2821             9.0              12   \n",
       "3          X450  718-824-1682  718-824-1663             9.0              12   \n",
       "4          M485  212-496-0700  212-724-5748             9.0              12   \n",
       "\n",
       "   expgrade_span_min  expgrade_span_max  ... priority10  \\\n",
       "0                NaN                NaN  ...        NaN   \n",
       "1                NaN                NaN  ...        NaN   \n",
       "2                NaN                NaN  ...        NaN   \n",
       "3                NaN                NaN  ...        NaN   \n",
       "4                NaN                NaN  ...        NaN   \n",
       "\n",
       "                                          Location 1 Community Board  \\\n",
       "0  8 21 Bay 25 Street\\nFar Rockaway, NY 11691\\n(4...            14.0   \n",
       "1  2630 Benson Avenue\\nBrooklyn, NY 11214\\n(40.59...            13.0   \n",
       "2  1014 Lafayette Avenue\\nBrooklyn, NY 11221\\n(40...             3.0   \n",
       "3  1980 Lafayette Avenue\\nBronx, NY 10473\\n(40.82...             9.0   \n",
       "4  100 Amsterdam Avenue\\nNew York, NY 10023\\n(40....             7.0   \n",
       "\n",
       "  Council District Census Tract        BIN           BBL  \\\n",
       "0             31.0     100802.0  4300730.0  4.157360e+09   \n",
       "1             47.0        306.0  3186454.0  3.068830e+09   \n",
       "2             36.0        291.0  3393805.0  3.016160e+09   \n",
       "3             18.0         16.0  2022205.0  2.036040e+09   \n",
       "4              6.0        151.0  1030341.0  1.011560e+09   \n",
       "\n",
       "                                                 NTA     DBN           lat  \n",
       "0  Far Rockaway-Bayswater                        ...  27Q260  40.601989336  \n",
       "1  Gravesend                                     ...  21K559  40.593593811  \n",
       "2  Stuyvesant Heights                            ...  16K393  40.692133704  \n",
       "3  Soundview-Castle Hill-Clason Point-Harding Par...  08X305  40.822303765  \n",
       "4  Lincoln Square                                ...  03M485  40.773670507  \n",
       "\n",
       "[5 rows x 66 columns]"
      ],
      "text/html": "<div>\n<style scoped>\n    .dataframe tbody tr th:only-of-type {\n        vertical-align: middle;\n    }\n\n    .dataframe tbody tr th {\n        vertical-align: top;\n    }\n\n    .dataframe thead th {\n        text-align: right;\n    }\n</style>\n<table border=\"1\" class=\"dataframe\">\n  <thead>\n    <tr style=\"text-align: right;\">\n      <th></th>\n      <th>dbn</th>\n      <th>school_name</th>\n      <th>borough</th>\n      <th>building_code</th>\n      <th>phone_number</th>\n      <th>fax_number</th>\n      <th>grade_span_min</th>\n      <th>grade_span_max</th>\n      <th>expgrade_span_min</th>\n      <th>expgrade_span_max</th>\n      <th>...</th>\n      <th>priority10</th>\n      <th>Location 1</th>\n      <th>Community Board</th>\n      <th>Council District</th>\n      <th>Census Tract</th>\n      <th>BIN</th>\n      <th>BBL</th>\n      <th>NTA</th>\n      <th>DBN</th>\n      <th>lat</th>\n    </tr>\n  </thead>\n  <tbody>\n    <tr>\n      <th>0</th>\n      <td>27Q260</td>\n      <td>Frederick Douglass Academy VI High School</td>\n      <td>Queens</td>\n      <td>Q465</td>\n      <td>718-471-2154</td>\n      <td>718-471-2890</td>\n      <td>9.0</td>\n      <td>12</td>\n      <td>NaN</td>\n      <td>NaN</td>\n      <td>...</td>\n      <td>NaN</td>\n      <td>8 21 Bay 25 Street\\nFar Rockaway, NY 11691\\n(4...</td>\n      <td>14.0</td>\n      <td>31.0</td>\n      <td>100802.0</td>\n      <td>4300730.0</td>\n      <td>4.157360e+09</td>\n      <td>Far Rockaway-Bayswater                        ...</td>\n      <td>27Q260</td>\n      <td>40.601989336</td>\n    </tr>\n    <tr>\n      <th>1</th>\n      <td>21K559</td>\n      <td>Life Academy High School for Film and Music</td>\n      <td>Brooklyn</td>\n      <td>K400</td>\n      <td>718-333-7750</td>\n      <td>718-333-7775</td>\n      <td>9.0</td>\n      <td>12</td>\n      <td>NaN</td>\n      <td>NaN</td>\n      <td>...</td>\n      <td>NaN</td>\n      <td>2630 Benson Avenue\\nBrooklyn, NY 11214\\n(40.59...</td>\n      <td>13.0</td>\n      <td>47.0</td>\n      <td>306.0</td>\n      <td>3186454.0</td>\n      <td>3.068830e+09</td>\n      <td>Gravesend                                     ...</td>\n      <td>21K559</td>\n      <td>40.593593811</td>\n    </tr>\n    <tr>\n      <th>2</th>\n      <td>16K393</td>\n      <td>Frederick Douglass Academy IV Secondary School</td>\n      <td>Brooklyn</td>\n      <td>K026</td>\n      <td>718-574-2820</td>\n      <td>718-574-2821</td>\n      <td>9.0</td>\n      <td>12</td>\n      <td>NaN</td>\n      <td>NaN</td>\n      <td>...</td>\n      <td>NaN</td>\n      <td>1014 Lafayette Avenue\\nBrooklyn, NY 11221\\n(40...</td>\n      <td>3.0</td>\n      <td>36.0</td>\n      <td>291.0</td>\n      <td>3393805.0</td>\n      <td>3.016160e+09</td>\n      <td>Stuyvesant Heights                            ...</td>\n      <td>16K393</td>\n      <td>40.692133704</td>\n    </tr>\n    <tr>\n      <th>3</th>\n      <td>08X305</td>\n      <td>Pablo Neruda Academy</td>\n      <td>Bronx</td>\n      <td>X450</td>\n      <td>718-824-1682</td>\n      <td>718-824-1663</td>\n      <td>9.0</td>\n      <td>12</td>\n      <td>NaN</td>\n      <td>NaN</td>\n      <td>...</td>\n      <td>NaN</td>\n      <td>1980 Lafayette Avenue\\nBronx, NY 10473\\n(40.82...</td>\n      <td>9.0</td>\n      <td>18.0</td>\n      <td>16.0</td>\n      <td>2022205.0</td>\n      <td>2.036040e+09</td>\n      <td>Soundview-Castle Hill-Clason Point-Harding Par...</td>\n      <td>08X305</td>\n      <td>40.822303765</td>\n    </tr>\n    <tr>\n      <th>4</th>\n      <td>03M485</td>\n      <td>Fiorello H. LaGuardia High School of Music &amp; A...</td>\n      <td>Manhattan</td>\n      <td>M485</td>\n      <td>212-496-0700</td>\n      <td>212-724-5748</td>\n      <td>9.0</td>\n      <td>12</td>\n      <td>NaN</td>\n      <td>NaN</td>\n      <td>...</td>\n      <td>NaN</td>\n      <td>100 Amsterdam Avenue\\nNew York, NY 10023\\n(40....</td>\n      <td>7.0</td>\n      <td>6.0</td>\n      <td>151.0</td>\n      <td>1030341.0</td>\n      <td>1.011560e+09</td>\n      <td>Lincoln Square                                ...</td>\n      <td>03M485</td>\n      <td>40.773670507</td>\n    </tr>\n  </tbody>\n</table>\n<p>5 rows × 66 columns</p>\n</div>"
     },
     "metadata": {},
     "execution_count": 20
    }
   ],
   "source": [
    "import re\n",
    "def coords(location):\n",
    "    '''Uses a regular expression to isolate the coordinates and extract them.'''\n",
    "    location = re.findall(\"\\(.+\\)\", location)\n",
    "    loc = location[0].split(',')[0].replace('(','')\n",
    "    return loc\n",
    "\n",
    "# Finding the latitude coordinates\n",
    "data['hs_directory']['lat'] = data['hs_directory']['Location 1'].apply(coords)\n",
    "data['hs_directory'].head()"
   ]
  },
  {
   "cell_type": "code",
   "execution_count": 21,
   "metadata": {},
   "outputs": [
    {
     "output_type": "execute_result",
     "data": {
      "text/plain": [
       "      dbn                                        school_name    borough  \\\n",
       "0  27Q260          Frederick Douglass Academy VI High School     Queens   \n",
       "1  21K559        Life Academy High School for Film and Music   Brooklyn   \n",
       "2  16K393     Frederick Douglass Academy IV Secondary School   Brooklyn   \n",
       "3  08X305                               Pablo Neruda Academy      Bronx   \n",
       "4  03M485  Fiorello H. LaGuardia High School of Music & A...  Manhattan   \n",
       "\n",
       "  building_code  phone_number    fax_number  grade_span_min  grade_span_max  \\\n",
       "0          Q465  718-471-2154  718-471-2890             9.0              12   \n",
       "1          K400  718-333-7750  718-333-7775             9.0              12   \n",
       "2          K026  718-574-2820  718-574-2821             9.0              12   \n",
       "3          X450  718-824-1682  718-824-1663             9.0              12   \n",
       "4          M485  212-496-0700  212-724-5748             9.0              12   \n",
       "\n",
       "   expgrade_span_min  expgrade_span_max  ...  \\\n",
       "0                NaN                NaN  ...   \n",
       "1                NaN                NaN  ...   \n",
       "2                NaN                NaN  ...   \n",
       "3                NaN                NaN  ...   \n",
       "4                NaN                NaN  ...   \n",
       "\n",
       "                                          Location 1 Community Board  \\\n",
       "0  8 21 Bay 25 Street\\nFar Rockaway, NY 11691\\n(4...            14.0   \n",
       "1  2630 Benson Avenue\\nBrooklyn, NY 11214\\n(40.59...            13.0   \n",
       "2  1014 Lafayette Avenue\\nBrooklyn, NY 11221\\n(40...             3.0   \n",
       "3  1980 Lafayette Avenue\\nBronx, NY 10473\\n(40.82...             9.0   \n",
       "4  100 Amsterdam Avenue\\nNew York, NY 10023\\n(40....             7.0   \n",
       "\n",
       "  Council District Census Tract        BIN           BBL  \\\n",
       "0             31.0     100802.0  4300730.0  4.157360e+09   \n",
       "1             47.0        306.0  3186454.0  3.068830e+09   \n",
       "2             36.0        291.0  3393805.0  3.016160e+09   \n",
       "3             18.0         16.0  2022205.0  2.036040e+09   \n",
       "4              6.0        151.0  1030341.0  1.011560e+09   \n",
       "\n",
       "                                                 NTA     DBN        lat  \\\n",
       "0  Far Rockaway-Bayswater                        ...  27Q260  40.601989   \n",
       "1  Gravesend                                     ...  21K559  40.593594   \n",
       "2  Stuyvesant Heights                            ...  16K393  40.692134   \n",
       "3  Soundview-Castle Hill-Clason Point-Harding Par...  08X305  40.822304   \n",
       "4  Lincoln Square                                ...  03M485  40.773671   \n",
       "\n",
       "         lon  \n",
       "0 -73.762834  \n",
       "1 -73.984729  \n",
       "2 -73.931503  \n",
       "3 -73.855961  \n",
       "4 -73.985269  \n",
       "\n",
       "[5 rows x 67 columns]"
      ],
      "text/html": "<div>\n<style scoped>\n    .dataframe tbody tr th:only-of-type {\n        vertical-align: middle;\n    }\n\n    .dataframe tbody tr th {\n        vertical-align: top;\n    }\n\n    .dataframe thead th {\n        text-align: right;\n    }\n</style>\n<table border=\"1\" class=\"dataframe\">\n  <thead>\n    <tr style=\"text-align: right;\">\n      <th></th>\n      <th>dbn</th>\n      <th>school_name</th>\n      <th>borough</th>\n      <th>building_code</th>\n      <th>phone_number</th>\n      <th>fax_number</th>\n      <th>grade_span_min</th>\n      <th>grade_span_max</th>\n      <th>expgrade_span_min</th>\n      <th>expgrade_span_max</th>\n      <th>...</th>\n      <th>Location 1</th>\n      <th>Community Board</th>\n      <th>Council District</th>\n      <th>Census Tract</th>\n      <th>BIN</th>\n      <th>BBL</th>\n      <th>NTA</th>\n      <th>DBN</th>\n      <th>lat</th>\n      <th>lon</th>\n    </tr>\n  </thead>\n  <tbody>\n    <tr>\n      <th>0</th>\n      <td>27Q260</td>\n      <td>Frederick Douglass Academy VI High School</td>\n      <td>Queens</td>\n      <td>Q465</td>\n      <td>718-471-2154</td>\n      <td>718-471-2890</td>\n      <td>9.0</td>\n      <td>12</td>\n      <td>NaN</td>\n      <td>NaN</td>\n      <td>...</td>\n      <td>8 21 Bay 25 Street\\nFar Rockaway, NY 11691\\n(4...</td>\n      <td>14.0</td>\n      <td>31.0</td>\n      <td>100802.0</td>\n      <td>4300730.0</td>\n      <td>4.157360e+09</td>\n      <td>Far Rockaway-Bayswater                        ...</td>\n      <td>27Q260</td>\n      <td>40.601989</td>\n      <td>-73.762834</td>\n    </tr>\n    <tr>\n      <th>1</th>\n      <td>21K559</td>\n      <td>Life Academy High School for Film and Music</td>\n      <td>Brooklyn</td>\n      <td>K400</td>\n      <td>718-333-7750</td>\n      <td>718-333-7775</td>\n      <td>9.0</td>\n      <td>12</td>\n      <td>NaN</td>\n      <td>NaN</td>\n      <td>...</td>\n      <td>2630 Benson Avenue\\nBrooklyn, NY 11214\\n(40.59...</td>\n      <td>13.0</td>\n      <td>47.0</td>\n      <td>306.0</td>\n      <td>3186454.0</td>\n      <td>3.068830e+09</td>\n      <td>Gravesend                                     ...</td>\n      <td>21K559</td>\n      <td>40.593594</td>\n      <td>-73.984729</td>\n    </tr>\n    <tr>\n      <th>2</th>\n      <td>16K393</td>\n      <td>Frederick Douglass Academy IV Secondary School</td>\n      <td>Brooklyn</td>\n      <td>K026</td>\n      <td>718-574-2820</td>\n      <td>718-574-2821</td>\n      <td>9.0</td>\n      <td>12</td>\n      <td>NaN</td>\n      <td>NaN</td>\n      <td>...</td>\n      <td>1014 Lafayette Avenue\\nBrooklyn, NY 11221\\n(40...</td>\n      <td>3.0</td>\n      <td>36.0</td>\n      <td>291.0</td>\n      <td>3393805.0</td>\n      <td>3.016160e+09</td>\n      <td>Stuyvesant Heights                            ...</td>\n      <td>16K393</td>\n      <td>40.692134</td>\n      <td>-73.931503</td>\n    </tr>\n    <tr>\n      <th>3</th>\n      <td>08X305</td>\n      <td>Pablo Neruda Academy</td>\n      <td>Bronx</td>\n      <td>X450</td>\n      <td>718-824-1682</td>\n      <td>718-824-1663</td>\n      <td>9.0</td>\n      <td>12</td>\n      <td>NaN</td>\n      <td>NaN</td>\n      <td>...</td>\n      <td>1980 Lafayette Avenue\\nBronx, NY 10473\\n(40.82...</td>\n      <td>9.0</td>\n      <td>18.0</td>\n      <td>16.0</td>\n      <td>2022205.0</td>\n      <td>2.036040e+09</td>\n      <td>Soundview-Castle Hill-Clason Point-Harding Par...</td>\n      <td>08X305</td>\n      <td>40.822304</td>\n      <td>-73.855961</td>\n    </tr>\n    <tr>\n      <th>4</th>\n      <td>03M485</td>\n      <td>Fiorello H. LaGuardia High School of Music &amp; A...</td>\n      <td>Manhattan</td>\n      <td>M485</td>\n      <td>212-496-0700</td>\n      <td>212-724-5748</td>\n      <td>9.0</td>\n      <td>12</td>\n      <td>NaN</td>\n      <td>NaN</td>\n      <td>...</td>\n      <td>100 Amsterdam Avenue\\nNew York, NY 10023\\n(40....</td>\n      <td>7.0</td>\n      <td>6.0</td>\n      <td>151.0</td>\n      <td>1030341.0</td>\n      <td>1.011560e+09</td>\n      <td>Lincoln Square                                ...</td>\n      <td>03M485</td>\n      <td>40.773671</td>\n      <td>-73.985269</td>\n    </tr>\n  </tbody>\n</table>\n<p>5 rows × 67 columns</p>\n</div>"
     },
     "metadata": {},
     "execution_count": 21
    }
   ],
   "source": [
    "def coords(location):\n",
    "    location = re.findall(\"\\(.+\\)\", location)\n",
    "    loc = location[0].split(',')[1].replace(')','')\n",
    "    return loc\n",
    "\n",
    "# Finds the longitude coordinates.\n",
    "data['hs_directory']['lon'] = data['hs_directory']['Location 1'].apply(coords)\n",
    "# Converts our newly captured coordinates too floats.\n",
    "data['hs_directory']['lon'] = pd.to_numeric((data['hs_directory']['lon']), errors='coerce')\n",
    "data['hs_directory']['lat'] = pd.to_numeric((data['hs_directory']['lat']), errors='coerce')\n",
    "data['hs_directory'].head()"
   ]
  },
  {
   "source": [
    "## Preparing the Data\n",
    "\n",
    "We need to make sure each DataFrame's DBN column contains only unique values. If not we will experience errors when we try and join the data. "
   ],
   "cell_type": "markdown",
   "metadata": {}
  },
  {
   "cell_type": "code",
   "execution_count": 23,
   "metadata": {},
   "outputs": [
    {
     "output_type": "execute_result",
     "data": {
      "text/plain": [
       "     CSD BOROUGH SCHOOL CODE                                    SCHOOL NAME  \\\n",
       "225    1       M        M292  Henry Street School for International Studies   \n",
       "226    1       M        M292  Henry Street School for International Studies   \n",
       "227    1       M        M292  Henry Street School for International Studies   \n",
       "228    1       M        M292  Henry Street School for International Studies   \n",
       "229    1       M        M292  Henry Street School for International Studies   \n",
       "\n",
       "    GRADE  PROGRAM TYPE CORE SUBJECT (MS CORE and 9-12 ONLY)  \\\n",
       "225  09-12       GEN ED                              ENGLISH   \n",
       "226  09-12       GEN ED                              ENGLISH   \n",
       "227  09-12       GEN ED                              ENGLISH   \n",
       "228  09-12       GEN ED                              ENGLISH   \n",
       "229  09-12       GEN ED                                 MATH   \n",
       "\n",
       "    CORE COURSE (MS CORE and 9-12 ONLY) SERVICE CATEGORY(K-9* ONLY)  \\\n",
       "225                           English 9                           -   \n",
       "226                          English 10                           -   \n",
       "227                          English 11                           -   \n",
       "228                          English 12                           -   \n",
       "229                  Integrated Algebra                           -   \n",
       "\n",
       "     NUMBER OF STUDENTS / SEATS FILLED  NUMBER OF SECTIONS  \\\n",
       "225                               63.0                 3.0   \n",
       "226                               79.0                 3.0   \n",
       "227                               38.0                 2.0   \n",
       "228                               69.0                 3.0   \n",
       "229                               53.0                 3.0   \n",
       "\n",
       "     AVERAGE CLASS SIZE  SIZE OF SMALLEST CLASS  SIZE OF LARGEST CLASS  \\\n",
       "225                21.0                    19.0                   25.0   \n",
       "226                26.3                    24.0                   31.0   \n",
       "227                19.0                    16.0                   22.0   \n",
       "228                23.0                    13.0                   30.0   \n",
       "229                17.7                    16.0                   21.0   \n",
       "\n",
       "    DATA SOURCE  SCHOOLWIDE PUPIL-TEACHER RATIO padded_csd     DBN  \n",
       "225       STARS                             NaN         01  01M292  \n",
       "226       STARS                             NaN         01  01M292  \n",
       "227       STARS                             NaN         01  01M292  \n",
       "228       STARS                             NaN         01  01M292  \n",
       "229       STARS                             NaN         01  01M292  "
      ],
      "text/html": "<div>\n<style scoped>\n    .dataframe tbody tr th:only-of-type {\n        vertical-align: middle;\n    }\n\n    .dataframe tbody tr th {\n        vertical-align: top;\n    }\n\n    .dataframe thead th {\n        text-align: right;\n    }\n</style>\n<table border=\"1\" class=\"dataframe\">\n  <thead>\n    <tr style=\"text-align: right;\">\n      <th></th>\n      <th>CSD</th>\n      <th>BOROUGH</th>\n      <th>SCHOOL CODE</th>\n      <th>SCHOOL NAME</th>\n      <th>GRADE</th>\n      <th>PROGRAM TYPE</th>\n      <th>CORE SUBJECT (MS CORE and 9-12 ONLY)</th>\n      <th>CORE COURSE (MS CORE and 9-12 ONLY)</th>\n      <th>SERVICE CATEGORY(K-9* ONLY)</th>\n      <th>NUMBER OF STUDENTS / SEATS FILLED</th>\n      <th>NUMBER OF SECTIONS</th>\n      <th>AVERAGE CLASS SIZE</th>\n      <th>SIZE OF SMALLEST CLASS</th>\n      <th>SIZE OF LARGEST CLASS</th>\n      <th>DATA SOURCE</th>\n      <th>SCHOOLWIDE PUPIL-TEACHER RATIO</th>\n      <th>padded_csd</th>\n      <th>DBN</th>\n    </tr>\n  </thead>\n  <tbody>\n    <tr>\n      <th>225</th>\n      <td>1</td>\n      <td>M</td>\n      <td>M292</td>\n      <td>Henry Street School for International Studies</td>\n      <td>09-12</td>\n      <td>GEN ED</td>\n      <td>ENGLISH</td>\n      <td>English 9</td>\n      <td>-</td>\n      <td>63.0</td>\n      <td>3.0</td>\n      <td>21.0</td>\n      <td>19.0</td>\n      <td>25.0</td>\n      <td>STARS</td>\n      <td>NaN</td>\n      <td>01</td>\n      <td>01M292</td>\n    </tr>\n    <tr>\n      <th>226</th>\n      <td>1</td>\n      <td>M</td>\n      <td>M292</td>\n      <td>Henry Street School for International Studies</td>\n      <td>09-12</td>\n      <td>GEN ED</td>\n      <td>ENGLISH</td>\n      <td>English 10</td>\n      <td>-</td>\n      <td>79.0</td>\n      <td>3.0</td>\n      <td>26.3</td>\n      <td>24.0</td>\n      <td>31.0</td>\n      <td>STARS</td>\n      <td>NaN</td>\n      <td>01</td>\n      <td>01M292</td>\n    </tr>\n    <tr>\n      <th>227</th>\n      <td>1</td>\n      <td>M</td>\n      <td>M292</td>\n      <td>Henry Street School for International Studies</td>\n      <td>09-12</td>\n      <td>GEN ED</td>\n      <td>ENGLISH</td>\n      <td>English 11</td>\n      <td>-</td>\n      <td>38.0</td>\n      <td>2.0</td>\n      <td>19.0</td>\n      <td>16.0</td>\n      <td>22.0</td>\n      <td>STARS</td>\n      <td>NaN</td>\n      <td>01</td>\n      <td>01M292</td>\n    </tr>\n    <tr>\n      <th>228</th>\n      <td>1</td>\n      <td>M</td>\n      <td>M292</td>\n      <td>Henry Street School for International Studies</td>\n      <td>09-12</td>\n      <td>GEN ED</td>\n      <td>ENGLISH</td>\n      <td>English 12</td>\n      <td>-</td>\n      <td>69.0</td>\n      <td>3.0</td>\n      <td>23.0</td>\n      <td>13.0</td>\n      <td>30.0</td>\n      <td>STARS</td>\n      <td>NaN</td>\n      <td>01</td>\n      <td>01M292</td>\n    </tr>\n    <tr>\n      <th>229</th>\n      <td>1</td>\n      <td>M</td>\n      <td>M292</td>\n      <td>Henry Street School for International Studies</td>\n      <td>09-12</td>\n      <td>GEN ED</td>\n      <td>MATH</td>\n      <td>Integrated Algebra</td>\n      <td>-</td>\n      <td>53.0</td>\n      <td>3.0</td>\n      <td>17.7</td>\n      <td>16.0</td>\n      <td>21.0</td>\n      <td>STARS</td>\n      <td>NaN</td>\n      <td>01</td>\n      <td>01M292</td>\n    </tr>\n  </tbody>\n</table>\n</div>"
     },
     "metadata": {},
     "execution_count": 23
    }
   ],
   "source": [
    "# Filtering class_size's DBN column - filtering columns that have created duplicated DBN values.\n",
    "class_size = data[\"class_size\"]\n",
    "class_size = class_size[class_size['GRADE '] == '09-12']\n",
    "class_size = class_size[class_size['PROGRAM TYPE'] == 'GEN ED']\n",
    "class_size.head()"
   ]
  },
  {
   "cell_type": "code",
   "execution_count": 24,
   "metadata": {},
   "outputs": [
    {
     "output_type": "execute_result",
     "data": {
      "text/plain": [
       "      DBN  CSD  NUMBER OF STUDENTS / SEATS FILLED  NUMBER OF SECTIONS  \\\n",
       "0  01M292    1                            88.0000            4.000000   \n",
       "1  01M332    1                            46.0000            2.000000   \n",
       "2  01M378    1                            33.0000            1.000000   \n",
       "3  01M448    1                           105.6875            4.750000   \n",
       "4  01M450    1                            57.6000            2.733333   \n",
       "\n",
       "   AVERAGE CLASS SIZE  SIZE OF SMALLEST CLASS  SIZE OF LARGEST CLASS  \\\n",
       "0           22.564286                   18.50              26.571429   \n",
       "1           22.000000                   21.00              23.500000   \n",
       "2           33.000000                   33.00              33.000000   \n",
       "3           22.231250                   18.25              27.062500   \n",
       "4           21.200000                   19.40              22.866667   \n",
       "\n",
       "   SCHOOLWIDE PUPIL-TEACHER RATIO  \n",
       "0                             NaN  \n",
       "1                             NaN  \n",
       "2                             NaN  \n",
       "3                             NaN  \n",
       "4                             NaN  "
      ],
      "text/html": "<div>\n<style scoped>\n    .dataframe tbody tr th:only-of-type {\n        vertical-align: middle;\n    }\n\n    .dataframe tbody tr th {\n        vertical-align: top;\n    }\n\n    .dataframe thead th {\n        text-align: right;\n    }\n</style>\n<table border=\"1\" class=\"dataframe\">\n  <thead>\n    <tr style=\"text-align: right;\">\n      <th></th>\n      <th>DBN</th>\n      <th>CSD</th>\n      <th>NUMBER OF STUDENTS / SEATS FILLED</th>\n      <th>NUMBER OF SECTIONS</th>\n      <th>AVERAGE CLASS SIZE</th>\n      <th>SIZE OF SMALLEST CLASS</th>\n      <th>SIZE OF LARGEST CLASS</th>\n      <th>SCHOOLWIDE PUPIL-TEACHER RATIO</th>\n    </tr>\n  </thead>\n  <tbody>\n    <tr>\n      <th>0</th>\n      <td>01M292</td>\n      <td>1</td>\n      <td>88.0000</td>\n      <td>4.000000</td>\n      <td>22.564286</td>\n      <td>18.50</td>\n      <td>26.571429</td>\n      <td>NaN</td>\n    </tr>\n    <tr>\n      <th>1</th>\n      <td>01M332</td>\n      <td>1</td>\n      <td>46.0000</td>\n      <td>2.000000</td>\n      <td>22.000000</td>\n      <td>21.00</td>\n      <td>23.500000</td>\n      <td>NaN</td>\n    </tr>\n    <tr>\n      <th>2</th>\n      <td>01M378</td>\n      <td>1</td>\n      <td>33.0000</td>\n      <td>1.000000</td>\n      <td>33.000000</td>\n      <td>33.00</td>\n      <td>33.000000</td>\n      <td>NaN</td>\n    </tr>\n    <tr>\n      <th>3</th>\n      <td>01M448</td>\n      <td>1</td>\n      <td>105.6875</td>\n      <td>4.750000</td>\n      <td>22.231250</td>\n      <td>18.25</td>\n      <td>27.062500</td>\n      <td>NaN</td>\n    </tr>\n    <tr>\n      <th>4</th>\n      <td>01M450</td>\n      <td>1</td>\n      <td>57.6000</td>\n      <td>2.733333</td>\n      <td>21.200000</td>\n      <td>19.40</td>\n      <td>22.866667</td>\n      <td>NaN</td>\n    </tr>\n  </tbody>\n</table>\n</div>"
     },
     "metadata": {},
     "execution_count": 24
    }
   ],
   "source": [
    "import numpy\n",
    "# Filter the last column and reassigning the modified class_size dataframe to our data dictionary.\n",
    "class_size = class_size.groupby('DBN').agg(numpy.mean)\n",
    "class_size.reset_index(inplace=True)\n",
    "data['class_size'] = class_size\n",
    "data[\"class_size\"].head()"
   ]
  },
  {
   "source": [
    "### Filtering Demographics\n",
    "\n",
    "Now we need to filter the demographics column to just the unique DBN's"
   ],
   "cell_type": "markdown",
   "metadata": {}
  },
  {
   "cell_type": "code",
   "execution_count": 25,
   "metadata": {},
   "outputs": [
    {
     "output_type": "execute_result",
     "data": {
      "text/plain": [
       "       DBN                                              Name  schoolyear  \\\n",
       "6   01M015  P.S. 015 ROBERTO CLEMENTE                           20112012   \n",
       "13  01M019  P.S. 019 ASHER LEVY                                 20112012   \n",
       "20  01M020  PS 020 ANNA SILVER                                  20112012   \n",
       "27  01M034  PS 034 FRANKLIN D ROOSEVELT                         20112012   \n",
       "35  01M063  PS 063 WILLIAM MCKINLEY                             20112012   \n",
       "\n",
       "   fl_percent  frl_percent  total_enrollment prek    k grade1 grade2  ...  \\\n",
       "6         NaN         89.4               189   13   31     35     28  ...   \n",
       "13        NaN         61.5               328   32   46     52     54  ...   \n",
       "20        NaN         92.5               626   52  102    121     87  ...   \n",
       "27        NaN         99.7               401   14   34     38     36  ...   \n",
       "35        NaN         78.9               176   18   20     30     21  ...   \n",
       "\n",
       "   black_num black_per hispanic_num hispanic_per white_num white_per male_num  \\\n",
       "6         63      33.3          109         57.7         4       2.1     97.0   \n",
       "13        81      24.7          158         48.2        28       8.5    147.0   \n",
       "20        55       8.8          357         57.0        16       2.6    330.0   \n",
       "27        90      22.4          275         68.6         8       2.0    204.0   \n",
       "35        41      23.3          110         62.5        15       8.5     97.0   \n",
       "\n",
       "   male_per female_num female_per  \n",
       "6      51.3       92.0       48.7  \n",
       "13     44.8      181.0       55.2  \n",
       "20     52.7      296.0       47.3  \n",
       "27     50.9      197.0       49.1  \n",
       "35     55.1       79.0       44.9  \n",
       "\n",
       "[5 rows x 38 columns]"
      ],
      "text/html": "<div>\n<style scoped>\n    .dataframe tbody tr th:only-of-type {\n        vertical-align: middle;\n    }\n\n    .dataframe tbody tr th {\n        vertical-align: top;\n    }\n\n    .dataframe thead th {\n        text-align: right;\n    }\n</style>\n<table border=\"1\" class=\"dataframe\">\n  <thead>\n    <tr style=\"text-align: right;\">\n      <th></th>\n      <th>DBN</th>\n      <th>Name</th>\n      <th>schoolyear</th>\n      <th>fl_percent</th>\n      <th>frl_percent</th>\n      <th>total_enrollment</th>\n      <th>prek</th>\n      <th>k</th>\n      <th>grade1</th>\n      <th>grade2</th>\n      <th>...</th>\n      <th>black_num</th>\n      <th>black_per</th>\n      <th>hispanic_num</th>\n      <th>hispanic_per</th>\n      <th>white_num</th>\n      <th>white_per</th>\n      <th>male_num</th>\n      <th>male_per</th>\n      <th>female_num</th>\n      <th>female_per</th>\n    </tr>\n  </thead>\n  <tbody>\n    <tr>\n      <th>6</th>\n      <td>01M015</td>\n      <td>P.S. 015 ROBERTO CLEMENTE</td>\n      <td>20112012</td>\n      <td>NaN</td>\n      <td>89.4</td>\n      <td>189</td>\n      <td>13</td>\n      <td>31</td>\n      <td>35</td>\n      <td>28</td>\n      <td>...</td>\n      <td>63</td>\n      <td>33.3</td>\n      <td>109</td>\n      <td>57.7</td>\n      <td>4</td>\n      <td>2.1</td>\n      <td>97.0</td>\n      <td>51.3</td>\n      <td>92.0</td>\n      <td>48.7</td>\n    </tr>\n    <tr>\n      <th>13</th>\n      <td>01M019</td>\n      <td>P.S. 019 ASHER LEVY</td>\n      <td>20112012</td>\n      <td>NaN</td>\n      <td>61.5</td>\n      <td>328</td>\n      <td>32</td>\n      <td>46</td>\n      <td>52</td>\n      <td>54</td>\n      <td>...</td>\n      <td>81</td>\n      <td>24.7</td>\n      <td>158</td>\n      <td>48.2</td>\n      <td>28</td>\n      <td>8.5</td>\n      <td>147.0</td>\n      <td>44.8</td>\n      <td>181.0</td>\n      <td>55.2</td>\n    </tr>\n    <tr>\n      <th>20</th>\n      <td>01M020</td>\n      <td>PS 020 ANNA SILVER</td>\n      <td>20112012</td>\n      <td>NaN</td>\n      <td>92.5</td>\n      <td>626</td>\n      <td>52</td>\n      <td>102</td>\n      <td>121</td>\n      <td>87</td>\n      <td>...</td>\n      <td>55</td>\n      <td>8.8</td>\n      <td>357</td>\n      <td>57.0</td>\n      <td>16</td>\n      <td>2.6</td>\n      <td>330.0</td>\n      <td>52.7</td>\n      <td>296.0</td>\n      <td>47.3</td>\n    </tr>\n    <tr>\n      <th>27</th>\n      <td>01M034</td>\n      <td>PS 034 FRANKLIN D ROOSEVELT</td>\n      <td>20112012</td>\n      <td>NaN</td>\n      <td>99.7</td>\n      <td>401</td>\n      <td>14</td>\n      <td>34</td>\n      <td>38</td>\n      <td>36</td>\n      <td>...</td>\n      <td>90</td>\n      <td>22.4</td>\n      <td>275</td>\n      <td>68.6</td>\n      <td>8</td>\n      <td>2.0</td>\n      <td>204.0</td>\n      <td>50.9</td>\n      <td>197.0</td>\n      <td>49.1</td>\n    </tr>\n    <tr>\n      <th>35</th>\n      <td>01M063</td>\n      <td>PS 063 WILLIAM MCKINLEY</td>\n      <td>20112012</td>\n      <td>NaN</td>\n      <td>78.9</td>\n      <td>176</td>\n      <td>18</td>\n      <td>20</td>\n      <td>30</td>\n      <td>21</td>\n      <td>...</td>\n      <td>41</td>\n      <td>23.3</td>\n      <td>110</td>\n      <td>62.5</td>\n      <td>15</td>\n      <td>8.5</td>\n      <td>97.0</td>\n      <td>55.1</td>\n      <td>79.0</td>\n      <td>44.9</td>\n    </tr>\n  </tbody>\n</table>\n<p>5 rows × 38 columns</p>\n</div>"
     },
     "metadata": {},
     "execution_count": 25
    }
   ],
   "source": [
    "# Reassigining the demographics DataFrame\n",
    "demographics = data['demographics']\n",
    "# Filtering the demographics DataFrame\n",
    "demographics = demographics[demographics['schoolyear'] == 20112012]\n",
    "# Assigning the DataFrame back to the data dictionary\n",
    "data['demographics'] = demographics\n",
    "data['demographics'].head()"
   ]
  },
  {
   "cell_type": "code",
   "execution_count": 28,
   "metadata": {},
   "outputs": [
    {
     "output_type": "execute_result",
     "data": {
      "text/plain": [
       "     Demographic     DBN                            School Name Cohort  \\\n",
       "3   Total Cohort  01M292  HENRY STREET SCHOOL FOR INTERNATIONAL   2006   \n",
       "10  Total Cohort  01M448    UNIVERSITY NEIGHBORHOOD HIGH SCHOOL   2006   \n",
       "17  Total Cohort  01M450             EAST SIDE COMMUNITY SCHOOL   2006   \n",
       "24  Total Cohort  01M509                MARTA VALLE HIGH SCHOOL   2006   \n",
       "31  Total Cohort  01M515  LOWER EAST SIDE PREPARATORY HIGH SCHO   2006   \n",
       "\n",
       "    Total Cohort Total Grads - n  Total Grads - % of cohort Total Regents - n  \\\n",
       "3             78              43                       55.1                36   \n",
       "10           124              53                       42.7                42   \n",
       "17            90              70                       77.8                67   \n",
       "24            84              47                       56.0                40   \n",
       "31           193             105                       54.4                91   \n",
       "\n",
       "    Total Regents - % of cohort  Total Regents - % of grads  ...  \\\n",
       "3                          46.2                        83.7  ...   \n",
       "10                         33.9                        79.2  ...   \n",
       "17                         74.4                        95.7  ...   \n",
       "24                         47.6                        85.1  ...   \n",
       "31                         47.2                        86.7  ...   \n",
       "\n",
       "   Regents w/o Advanced - n  Regents w/o Advanced - % of cohort  \\\n",
       "3                        36                                46.2   \n",
       "10                       34                                27.4   \n",
       "17                       67                                74.4   \n",
       "24                       23                                27.4   \n",
       "31                       22                                11.4   \n",
       "\n",
       "    Regents w/o Advanced - % of grads Local - n  Local - % of cohort  \\\n",
       "3                                83.7         7                  9.0   \n",
       "10                               64.2        11                  8.9   \n",
       "17                               95.7         3                  3.3   \n",
       "24                               48.9         7                  8.3   \n",
       "31                               21.0        14                  7.3   \n",
       "\n",
       "    Local - % of grads Still Enrolled - n  Still Enrolled - % of cohort  \\\n",
       "3                 16.3                 16                          20.5   \n",
       "10                20.8                 46                          37.1   \n",
       "17                 4.3                 15                          16.7   \n",
       "24                14.9                 25                          29.8   \n",
       "31                13.3                 53                          27.5   \n",
       "\n",
       "    Dropped Out - n Dropped Out - % of cohort  \n",
       "3                11                      14.1  \n",
       "10               20                      16.1  \n",
       "17                5                       5.6  \n",
       "24                5                       6.0  \n",
       "31               35                      18.1  \n",
       "\n",
       "[5 rows x 23 columns]"
      ],
      "text/html": "<div>\n<style scoped>\n    .dataframe tbody tr th:only-of-type {\n        vertical-align: middle;\n    }\n\n    .dataframe tbody tr th {\n        vertical-align: top;\n    }\n\n    .dataframe thead th {\n        text-align: right;\n    }\n</style>\n<table border=\"1\" class=\"dataframe\">\n  <thead>\n    <tr style=\"text-align: right;\">\n      <th></th>\n      <th>Demographic</th>\n      <th>DBN</th>\n      <th>School Name</th>\n      <th>Cohort</th>\n      <th>Total Cohort</th>\n      <th>Total Grads - n</th>\n      <th>Total Grads - % of cohort</th>\n      <th>Total Regents - n</th>\n      <th>Total Regents - % of cohort</th>\n      <th>Total Regents - % of grads</th>\n      <th>...</th>\n      <th>Regents w/o Advanced - n</th>\n      <th>Regents w/o Advanced - % of cohort</th>\n      <th>Regents w/o Advanced - % of grads</th>\n      <th>Local - n</th>\n      <th>Local - % of cohort</th>\n      <th>Local - % of grads</th>\n      <th>Still Enrolled - n</th>\n      <th>Still Enrolled - % of cohort</th>\n      <th>Dropped Out - n</th>\n      <th>Dropped Out - % of cohort</th>\n    </tr>\n  </thead>\n  <tbody>\n    <tr>\n      <th>3</th>\n      <td>Total Cohort</td>\n      <td>01M292</td>\n      <td>HENRY STREET SCHOOL FOR INTERNATIONAL</td>\n      <td>2006</td>\n      <td>78</td>\n      <td>43</td>\n      <td>55.1</td>\n      <td>36</td>\n      <td>46.2</td>\n      <td>83.7</td>\n      <td>...</td>\n      <td>36</td>\n      <td>46.2</td>\n      <td>83.7</td>\n      <td>7</td>\n      <td>9.0</td>\n      <td>16.3</td>\n      <td>16</td>\n      <td>20.5</td>\n      <td>11</td>\n      <td>14.1</td>\n    </tr>\n    <tr>\n      <th>10</th>\n      <td>Total Cohort</td>\n      <td>01M448</td>\n      <td>UNIVERSITY NEIGHBORHOOD HIGH SCHOOL</td>\n      <td>2006</td>\n      <td>124</td>\n      <td>53</td>\n      <td>42.7</td>\n      <td>42</td>\n      <td>33.9</td>\n      <td>79.2</td>\n      <td>...</td>\n      <td>34</td>\n      <td>27.4</td>\n      <td>64.2</td>\n      <td>11</td>\n      <td>8.9</td>\n      <td>20.8</td>\n      <td>46</td>\n      <td>37.1</td>\n      <td>20</td>\n      <td>16.1</td>\n    </tr>\n    <tr>\n      <th>17</th>\n      <td>Total Cohort</td>\n      <td>01M450</td>\n      <td>EAST SIDE COMMUNITY SCHOOL</td>\n      <td>2006</td>\n      <td>90</td>\n      <td>70</td>\n      <td>77.8</td>\n      <td>67</td>\n      <td>74.4</td>\n      <td>95.7</td>\n      <td>...</td>\n      <td>67</td>\n      <td>74.4</td>\n      <td>95.7</td>\n      <td>3</td>\n      <td>3.3</td>\n      <td>4.3</td>\n      <td>15</td>\n      <td>16.7</td>\n      <td>5</td>\n      <td>5.6</td>\n    </tr>\n    <tr>\n      <th>24</th>\n      <td>Total Cohort</td>\n      <td>01M509</td>\n      <td>MARTA VALLE HIGH SCHOOL</td>\n      <td>2006</td>\n      <td>84</td>\n      <td>47</td>\n      <td>56.0</td>\n      <td>40</td>\n      <td>47.6</td>\n      <td>85.1</td>\n      <td>...</td>\n      <td>23</td>\n      <td>27.4</td>\n      <td>48.9</td>\n      <td>7</td>\n      <td>8.3</td>\n      <td>14.9</td>\n      <td>25</td>\n      <td>29.8</td>\n      <td>5</td>\n      <td>6.0</td>\n    </tr>\n    <tr>\n      <th>31</th>\n      <td>Total Cohort</td>\n      <td>01M515</td>\n      <td>LOWER EAST SIDE PREPARATORY HIGH SCHO</td>\n      <td>2006</td>\n      <td>193</td>\n      <td>105</td>\n      <td>54.4</td>\n      <td>91</td>\n      <td>47.2</td>\n      <td>86.7</td>\n      <td>...</td>\n      <td>22</td>\n      <td>11.4</td>\n      <td>21.0</td>\n      <td>14</td>\n      <td>7.3</td>\n      <td>13.3</td>\n      <td>53</td>\n      <td>27.5</td>\n      <td>35</td>\n      <td>18.1</td>\n    </tr>\n  </tbody>\n</table>\n<p>5 rows × 23 columns</p>\n</div>"
     },
     "metadata": {},
     "execution_count": 28
    }
   ],
   "source": [
    "# Filtering the graduation DataFrame and reassigning it back to the data dictionary\n",
    "graduation = data['graduation']\n",
    "graduation = graduation[graduation['Cohort'] == '2006']\n",
    "graduation = graduation[graduation['Demographic'] == 'Total Cohort']\n",
    "data['graduation'] = graduation\n",
    "data['graduation'].head()"
   ]
  },
  {
   "source": [
    "### Before Joining\n",
    "\n",
    "The last thing to do before we combine the datasets is to convert some values to integers in AP_2010."
   ],
   "cell_type": "markdown",
   "metadata": {}
  },
  {
   "cell_type": "code",
   "execution_count": 29,
   "metadata": {},
   "outputs": [
    {
     "output_type": "stream",
     "name": "stdout",
     "text": [
      "float64\nfloat64\nfloat64\n"
     ]
    }
   ],
   "source": [
    "cols = ['AP Test Takers ', 'Total Exams Taken', 'Number of Exams with scores 3 4 or 5']\n",
    "\n",
    "# Looping throught the column names we need to convert. \n",
    "for c in cols:\n",
    "    data['ap_2010'][c] =pd.to_numeric(data['ap_2010'][c], errors='coerce')\n",
    "    print(data['ap_2010'][c].dtype)"
   ]
  },
  {
   "cell_type": "code",
   "execution_count": null,
   "metadata": {},
   "outputs": [],
   "source": []
  }
 ]
}