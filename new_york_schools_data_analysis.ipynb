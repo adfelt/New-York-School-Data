{
 "metadata": {
  "language_info": {
   "codemirror_mode": {
    "name": "ipython",
    "version": 3
   },
   "file_extension": ".py",
   "mimetype": "text/x-python",
   "name": "python",
   "nbconvert_exporter": "python",
   "pygments_lexer": "ipython3",
   "version": "3.9.1-final"
  },
  "orig_nbformat": 2,
  "kernelspec": {
   "name": "python3",
   "display_name": "Python 3.9.1 64-bit",
   "metadata": {
    "interpreter": {
     "hash": "468f25ad0239460415b7e6b7483d5c8f7213894121f6fb96c4cb6ef93fffe534"
    }
   }
  }
 },
 "nbformat": 4,
 "nbformat_minor": 2,
 "cells": [
  {
   "source": [
    "# New York Schools\n",
    "A small project that demonstrates how one can analyze data from multiple sources and bring them all together to drive meaningful insights. "
   ],
   "cell_type": "markdown",
   "metadata": {}
  },
  {
   "cell_type": "code",
   "execution_count": 7,
   "metadata": {},
   "outputs": [],
   "source": [
    "import pandas as pd\n",
    "# A list of the data files\n",
    "data_files = [\n",
    "    \"ap_2010.csv\",\n",
    "    \"class_size.csv\",\n",
    "    \"demographics.csv\",\n",
    "    \"graduation.csv\",\n",
    "    \"hs_directory.csv\",\n",
    "    \"sat_results.csv\"\n",
    "]\n",
    "   \n",
    "data = {}\n",
    "for file in data_files:\n",
    "    read_file = pd.read_csv('__data__/{0}'.format(file))\n",
    "    key_name = file.replace(\".csv\",\"\")\n",
    "    data[key_name] = read_file"
   ]
  },
  {
   "cell_type": "code",
   "execution_count": 8,
   "metadata": {},
   "outputs": [
    {
     "output_type": "stream",
     "name": "stdout",
     "text": [
      "      DBN                                    SCHOOL NAME  \\\n0  01M292  HENRY STREET SCHOOL FOR INTERNATIONAL STUDIES   \n1  01M448            UNIVERSITY NEIGHBORHOOD HIGH SCHOOL   \n2  01M450                     EAST SIDE COMMUNITY SCHOOL   \n3  01M458                      FORSYTH SATELLITE ACADEMY   \n4  01M509                        MARTA VALLE HIGH SCHOOL   \n\n  Num of SAT Test Takers SAT Critical Reading Avg. Score SAT Math Avg. Score  \\\n0                     29                             355                 404   \n1                     91                             383                 423   \n2                     70                             377                 402   \n3                      7                             414                 401   \n4                     44                             390                 433   \n\n  SAT Writing Avg. Score  \n0                    363  \n1                    366  \n2                    370  \n3                    359  \n4                    384  \n"
     ]
    }
   ],
   "source": [
    "# Reviewing the Data\n",
    "print(data['sat_results'].head(5))"
   ]
  },
  {
   "cell_type": "code",
   "execution_count": 14,
   "metadata": {},
   "outputs": [
    {
     "output_type": "execute_result",
     "data": {
      "text/plain": [
       "      dbn    bn                      schoolname  d75 studentssurveyed  \\\n",
       "0  01M015  M015       P.S. 015 Roberto Clemente    0               No   \n",
       "1  01M019  M019             P.S. 019 Asher Levy    0               No   \n",
       "2  01M020  M020            P.S. 020 Anna Silver    0               No   \n",
       "3  01M034  M034  P.S. 034 Franklin D. Roosevelt    0              Yes   \n",
       "4  01M063  M063       P.S. 063 William McKinley    0               No   \n",
       "\n",
       "   highschool                  schooltype  rr_s  rr_t  rr_p  ...  s_q14_2  \\\n",
       "0         0.0           Elementary School   NaN    88    60  ...      NaN   \n",
       "1         0.0           Elementary School   NaN   100    60  ...      NaN   \n",
       "2         0.0           Elementary School   NaN    88    73  ...      NaN   \n",
       "3         0.0  Elementary / Middle School  89.0    73    50  ...      NaN   \n",
       "4         0.0           Elementary School   NaN   100    60  ...      NaN   \n",
       "\n",
       "   s_q14_3  s_q14_4  s_q14_5  s_q14_6  s_q14_7  s_q14_8  s_q14_9  s_q14_10  \\\n",
       "0      NaN      NaN      NaN      NaN      NaN      NaN      NaN       NaN   \n",
       "1      NaN      NaN      NaN      NaN      NaN      NaN      NaN       NaN   \n",
       "2      NaN      NaN      NaN      NaN      NaN      NaN      NaN       NaN   \n",
       "3      NaN      NaN      NaN      NaN      NaN      NaN      NaN       NaN   \n",
       "4      NaN      NaN      NaN      NaN      NaN      NaN      NaN       NaN   \n",
       "\n",
       "   s_q14_11  \n",
       "0       NaN  \n",
       "1       NaN  \n",
       "2       NaN  \n",
       "3       NaN  \n",
       "4       NaN  \n",
       "\n",
       "[5 rows x 2773 columns]"
      ],
      "text/html": "<div>\n<style scoped>\n    .dataframe tbody tr th:only-of-type {\n        vertical-align: middle;\n    }\n\n    .dataframe tbody tr th {\n        vertical-align: top;\n    }\n\n    .dataframe thead th {\n        text-align: right;\n    }\n</style>\n<table border=\"1\" class=\"dataframe\">\n  <thead>\n    <tr style=\"text-align: right;\">\n      <th></th>\n      <th>dbn</th>\n      <th>bn</th>\n      <th>schoolname</th>\n      <th>d75</th>\n      <th>studentssurveyed</th>\n      <th>highschool</th>\n      <th>schooltype</th>\n      <th>rr_s</th>\n      <th>rr_t</th>\n      <th>rr_p</th>\n      <th>...</th>\n      <th>s_q14_2</th>\n      <th>s_q14_3</th>\n      <th>s_q14_4</th>\n      <th>s_q14_5</th>\n      <th>s_q14_6</th>\n      <th>s_q14_7</th>\n      <th>s_q14_8</th>\n      <th>s_q14_9</th>\n      <th>s_q14_10</th>\n      <th>s_q14_11</th>\n    </tr>\n  </thead>\n  <tbody>\n    <tr>\n      <th>0</th>\n      <td>01M015</td>\n      <td>M015</td>\n      <td>P.S. 015 Roberto Clemente</td>\n      <td>0</td>\n      <td>No</td>\n      <td>0.0</td>\n      <td>Elementary School</td>\n      <td>NaN</td>\n      <td>88</td>\n      <td>60</td>\n      <td>...</td>\n      <td>NaN</td>\n      <td>NaN</td>\n      <td>NaN</td>\n      <td>NaN</td>\n      <td>NaN</td>\n      <td>NaN</td>\n      <td>NaN</td>\n      <td>NaN</td>\n      <td>NaN</td>\n      <td>NaN</td>\n    </tr>\n    <tr>\n      <th>1</th>\n      <td>01M019</td>\n      <td>M019</td>\n      <td>P.S. 019 Asher Levy</td>\n      <td>0</td>\n      <td>No</td>\n      <td>0.0</td>\n      <td>Elementary School</td>\n      <td>NaN</td>\n      <td>100</td>\n      <td>60</td>\n      <td>...</td>\n      <td>NaN</td>\n      <td>NaN</td>\n      <td>NaN</td>\n      <td>NaN</td>\n      <td>NaN</td>\n      <td>NaN</td>\n      <td>NaN</td>\n      <td>NaN</td>\n      <td>NaN</td>\n      <td>NaN</td>\n    </tr>\n    <tr>\n      <th>2</th>\n      <td>01M020</td>\n      <td>M020</td>\n      <td>P.S. 020 Anna Silver</td>\n      <td>0</td>\n      <td>No</td>\n      <td>0.0</td>\n      <td>Elementary School</td>\n      <td>NaN</td>\n      <td>88</td>\n      <td>73</td>\n      <td>...</td>\n      <td>NaN</td>\n      <td>NaN</td>\n      <td>NaN</td>\n      <td>NaN</td>\n      <td>NaN</td>\n      <td>NaN</td>\n      <td>NaN</td>\n      <td>NaN</td>\n      <td>NaN</td>\n      <td>NaN</td>\n    </tr>\n    <tr>\n      <th>3</th>\n      <td>01M034</td>\n      <td>M034</td>\n      <td>P.S. 034 Franklin D. Roosevelt</td>\n      <td>0</td>\n      <td>Yes</td>\n      <td>0.0</td>\n      <td>Elementary / Middle School</td>\n      <td>89.0</td>\n      <td>73</td>\n      <td>50</td>\n      <td>...</td>\n      <td>NaN</td>\n      <td>NaN</td>\n      <td>NaN</td>\n      <td>NaN</td>\n      <td>NaN</td>\n      <td>NaN</td>\n      <td>NaN</td>\n      <td>NaN</td>\n      <td>NaN</td>\n      <td>NaN</td>\n    </tr>\n    <tr>\n      <th>4</th>\n      <td>01M063</td>\n      <td>M063</td>\n      <td>P.S. 063 William McKinley</td>\n      <td>0</td>\n      <td>No</td>\n      <td>0.0</td>\n      <td>Elementary School</td>\n      <td>NaN</td>\n      <td>100</td>\n      <td>60</td>\n      <td>...</td>\n      <td>NaN</td>\n      <td>NaN</td>\n      <td>NaN</td>\n      <td>NaN</td>\n      <td>NaN</td>\n      <td>NaN</td>\n      <td>NaN</td>\n      <td>NaN</td>\n      <td>NaN</td>\n      <td>NaN</td>\n    </tr>\n  </tbody>\n</table>\n<p>5 rows × 2773 columns</p>\n</div>"
     },
     "metadata": {},
     "execution_count": 14
    }
   ],
   "source": [
    "'''Reading in the txt surveys and combining them into a single DataFrame.'''\n",
    "all_survey = pd.read_csv('__txt_data__/2011_School_Survey/survey_all.txt', delimiter=\"\\t\", encoding ='windows-1252')\n",
    "d75_survey = pd.read_csv('__txt_data__/2011_School_Survey/survey_d75.txt', delimiter=\"\\t\", encoding ='windows-1252')\n",
    "\n",
    "survey = pd.concat([all_survey, d75_survey], axis=0)\n",
    "survey.head()"
   ]
  },
  {
   "source": [
    "### Combining Files\n",
    "\n",
    "Here we combine the text files we previously read into the program. "
   ],
   "cell_type": "markdown",
   "metadata": {}
  },
  {
   "cell_type": "code",
   "execution_count": 15,
   "metadata": {},
   "outputs": [
    {
     "output_type": "stream",
     "name": "stdout",
     "text": [
      "       DBN  rr_s  rr_t  rr_p    N_s   N_t    N_p  saf_p_11  com_p_11  \\\n0   01M015   NaN    88    60    NaN  22.0   90.0       8.5       7.6   \n1   01M019   NaN   100    60    NaN  34.0  161.0       8.4       7.6   \n2   01M020   NaN    88    73    NaN  42.0  367.0       8.9       8.3   \n3   01M034  89.0    73    50  145.0  29.0  151.0       8.8       8.2   \n4   01M063   NaN   100    60    NaN  23.0   90.0       8.7       7.9   \n..     ...   ...   ...   ...    ...   ...    ...       ...       ...   \n51  75X352  90.0    58    48   38.0  46.0  160.0       8.9       8.3   \n52  75X721  84.0    90    48  237.0  82.0  239.0       8.6       7.6   \n53  75X723  77.0    74    20  103.0  69.0   74.0       8.4       7.8   \n54  75X754  63.0    93    22  336.0  82.0  124.0       8.3       7.5   \n55  75X811  38.0    63    19   44.0  71.0  119.0       8.5       7.8   \n\n    eng_p_11  ...  eng_t_11  aca_t_11  saf_s_11  com_s_11  eng_s_11  aca_s_11  \\\n0        7.5  ...       7.6       7.9       NaN       NaN       NaN       NaN   \n1        7.6  ...       8.9       9.1       NaN       NaN       NaN       NaN   \n2        8.3  ...       6.8       7.5       NaN       NaN       NaN       NaN   \n3        8.0  ...       6.8       7.8       6.2       5.9       6.5       7.4   \n4        8.1  ...       7.8       8.1       NaN       NaN       NaN       NaN   \n..       ...  ...       ...       ...       ...       ...       ...       ...   \n51       7.9  ...       5.7       5.8       6.8       6.0       7.8       7.6   \n52       7.5  ...       6.7       7.0       7.8       7.2       7.8       7.9   \n53       7.8  ...       6.7       7.6       6.7       7.2       7.7       7.7   \n54       7.5  ...       6.6       7.1       6.8       6.6       7.6       7.7   \n55       7.7  ...       6.5       7.0       7.7       6.1       7.7       7.7   \n\n    saf_tot_11  com_tot_11  eng_tot_11  aca_tot_11  \n0          8.0         7.7         7.5         7.9  \n1          8.5         8.1         8.2         8.4  \n2          8.2         7.3         7.5         8.0  \n3          7.3         6.7         7.1         7.9  \n4          8.5         7.6         7.9         8.0  \n..         ...         ...         ...         ...  \n51         7.4         6.6         7.1         7.2  \n52         8.0         7.1         7.3         7.6  \n53         7.6         7.4         7.4         7.7  \n54         7.2         6.9         7.3         7.5  \n55         7.7         6.8         7.3         7.5  \n\n[1702 rows x 23 columns]\n"
     ]
    }
   ],
   "source": [
    "# Renaming columns\n",
    "survey['DBN'] = survey['dbn']\n",
    "# Removing all the useless columns. There were over 2000 columns in this file. \n",
    "columns_to_keep = [\"DBN\", \"rr_s\", \"rr_t\", \"rr_p\", \"N_s\", \"N_t\", \"N_p\", \"saf_p_11\", \"com_p_11\", \"eng_p_11\", \"aca_p_11\", \"saf_t_11\", \"com_t_11\", \"eng_t_11\", \"aca_t_11\", \"saf_s_11\", \"com_s_11\", \"eng_s_11\", \"aca_s_11\", \"saf_tot_11\", \"com_tot_11\", \"eng_tot_11\", \"aca_tot_11\"]\n",
    "survey = survey.loc[:,columns_to_keep]\n",
    "data['survey'] = survey \n",
    "print(data['survey'])"
   ]
  },
  {
   "cell_type": "code",
   "execution_count": 17,
   "metadata": {},
   "outputs": [
    {
     "output_type": "execute_result",
     "data": {
      "text/plain": [
       "   CSD BOROUGH SCHOOL CODE                SCHOOL NAME GRADE  PROGRAM TYPE  \\\n",
       "0    1       M        M015  P.S. 015 Roberto Clemente     0K       GEN ED   \n",
       "1    1       M        M015  P.S. 015 Roberto Clemente     0K          CTT   \n",
       "2    1       M        M015  P.S. 015 Roberto Clemente     01       GEN ED   \n",
       "3    1       M        M015  P.S. 015 Roberto Clemente     01          CTT   \n",
       "4    1       M        M015  P.S. 015 Roberto Clemente     02       GEN ED   \n",
       "\n",
       "  CORE SUBJECT (MS CORE and 9-12 ONLY) CORE COURSE (MS CORE and 9-12 ONLY)  \\\n",
       "0                                    -                                   -   \n",
       "1                                    -                                   -   \n",
       "2                                    -                                   -   \n",
       "3                                    -                                   -   \n",
       "4                                    -                                   -   \n",
       "\n",
       "  SERVICE CATEGORY(K-9* ONLY)  NUMBER OF STUDENTS / SEATS FILLED  \\\n",
       "0                           -                               19.0   \n",
       "1                           -                               21.0   \n",
       "2                           -                               17.0   \n",
       "3                           -                               17.0   \n",
       "4                           -                               15.0   \n",
       "\n",
       "   NUMBER OF SECTIONS  AVERAGE CLASS SIZE  SIZE OF SMALLEST CLASS  \\\n",
       "0                 1.0                19.0                    19.0   \n",
       "1                 1.0                21.0                    21.0   \n",
       "2                 1.0                17.0                    17.0   \n",
       "3                 1.0                17.0                    17.0   \n",
       "4                 1.0                15.0                    15.0   \n",
       "\n",
       "   SIZE OF LARGEST CLASS DATA SOURCE  SCHOOLWIDE PUPIL-TEACHER RATIO  \\\n",
       "0                   19.0         ATS                             NaN   \n",
       "1                   21.0         ATS                             NaN   \n",
       "2                   17.0         ATS                             NaN   \n",
       "3                   17.0         ATS                             NaN   \n",
       "4                   15.0         ATS                             NaN   \n",
       "\n",
       "  padded_csd     DBN  \n",
       "0         01  01M015  \n",
       "1         01  01M015  \n",
       "2         01  01M015  \n",
       "3         01  01M015  \n",
       "4         01  01M015  "
      ],
      "text/html": "<div>\n<style scoped>\n    .dataframe tbody tr th:only-of-type {\n        vertical-align: middle;\n    }\n\n    .dataframe tbody tr th {\n        vertical-align: top;\n    }\n\n    .dataframe thead th {\n        text-align: right;\n    }\n</style>\n<table border=\"1\" class=\"dataframe\">\n  <thead>\n    <tr style=\"text-align: right;\">\n      <th></th>\n      <th>CSD</th>\n      <th>BOROUGH</th>\n      <th>SCHOOL CODE</th>\n      <th>SCHOOL NAME</th>\n      <th>GRADE</th>\n      <th>PROGRAM TYPE</th>\n      <th>CORE SUBJECT (MS CORE and 9-12 ONLY)</th>\n      <th>CORE COURSE (MS CORE and 9-12 ONLY)</th>\n      <th>SERVICE CATEGORY(K-9* ONLY)</th>\n      <th>NUMBER OF STUDENTS / SEATS FILLED</th>\n      <th>NUMBER OF SECTIONS</th>\n      <th>AVERAGE CLASS SIZE</th>\n      <th>SIZE OF SMALLEST CLASS</th>\n      <th>SIZE OF LARGEST CLASS</th>\n      <th>DATA SOURCE</th>\n      <th>SCHOOLWIDE PUPIL-TEACHER RATIO</th>\n      <th>padded_csd</th>\n      <th>DBN</th>\n    </tr>\n  </thead>\n  <tbody>\n    <tr>\n      <th>0</th>\n      <td>1</td>\n      <td>M</td>\n      <td>M015</td>\n      <td>P.S. 015 Roberto Clemente</td>\n      <td>0K</td>\n      <td>GEN ED</td>\n      <td>-</td>\n      <td>-</td>\n      <td>-</td>\n      <td>19.0</td>\n      <td>1.0</td>\n      <td>19.0</td>\n      <td>19.0</td>\n      <td>19.0</td>\n      <td>ATS</td>\n      <td>NaN</td>\n      <td>01</td>\n      <td>01M015</td>\n    </tr>\n    <tr>\n      <th>1</th>\n      <td>1</td>\n      <td>M</td>\n      <td>M015</td>\n      <td>P.S. 015 Roberto Clemente</td>\n      <td>0K</td>\n      <td>CTT</td>\n      <td>-</td>\n      <td>-</td>\n      <td>-</td>\n      <td>21.0</td>\n      <td>1.0</td>\n      <td>21.0</td>\n      <td>21.0</td>\n      <td>21.0</td>\n      <td>ATS</td>\n      <td>NaN</td>\n      <td>01</td>\n      <td>01M015</td>\n    </tr>\n    <tr>\n      <th>2</th>\n      <td>1</td>\n      <td>M</td>\n      <td>M015</td>\n      <td>P.S. 015 Roberto Clemente</td>\n      <td>01</td>\n      <td>GEN ED</td>\n      <td>-</td>\n      <td>-</td>\n      <td>-</td>\n      <td>17.0</td>\n      <td>1.0</td>\n      <td>17.0</td>\n      <td>17.0</td>\n      <td>17.0</td>\n      <td>ATS</td>\n      <td>NaN</td>\n      <td>01</td>\n      <td>01M015</td>\n    </tr>\n    <tr>\n      <th>3</th>\n      <td>1</td>\n      <td>M</td>\n      <td>M015</td>\n      <td>P.S. 015 Roberto Clemente</td>\n      <td>01</td>\n      <td>CTT</td>\n      <td>-</td>\n      <td>-</td>\n      <td>-</td>\n      <td>17.0</td>\n      <td>1.0</td>\n      <td>17.0</td>\n      <td>17.0</td>\n      <td>17.0</td>\n      <td>ATS</td>\n      <td>NaN</td>\n      <td>01</td>\n      <td>01M015</td>\n    </tr>\n    <tr>\n      <th>4</th>\n      <td>1</td>\n      <td>M</td>\n      <td>M015</td>\n      <td>P.S. 015 Roberto Clemente</td>\n      <td>02</td>\n      <td>GEN ED</td>\n      <td>-</td>\n      <td>-</td>\n      <td>-</td>\n      <td>15.0</td>\n      <td>1.0</td>\n      <td>15.0</td>\n      <td>15.0</td>\n      <td>15.0</td>\n      <td>ATS</td>\n      <td>NaN</td>\n      <td>01</td>\n      <td>01M015</td>\n    </tr>\n  </tbody>\n</table>\n</div>"
     },
     "metadata": {},
     "execution_count": 17
    }
   ],
   "source": [
    "\n",
    "def add_zero(num):\n",
    "    '''This function adds a leading zero to the necessary column.'''\n",
    "    str_num = str(num)\n",
    "    len_num = len(str_num)\n",
    "    if len_num <= 1:\n",
    "        return str_num.zfill(2)\n",
    "    else:\n",
    "        return str_num\n",
    "\n",
    "# Updating the HS_Directory file and adding a column to the class size DataFrame. \n",
    "data['hs_directory']['DBN'] = data['hs_directory']['dbn']\n",
    "data['class_size']['padded_csd'] = data['class_size']['CSD'].apply(add_zero)\n",
    "data['class_size']['DBN'] = data['class_size']['padded_csd'] + data['class_size']['SCHOOL CODE']\n",
    "data['class_size'].head()\n"
   ]
  },
  {
   "cell_type": "code",
   "execution_count": null,
   "metadata": {},
   "outputs": [],
   "source": []
  }
 ]
}