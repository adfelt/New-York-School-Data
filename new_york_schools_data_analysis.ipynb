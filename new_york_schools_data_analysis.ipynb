{
 "metadata": {
  "language_info": {
   "codemirror_mode": {
    "name": "ipython",
    "version": 3
   },
   "file_extension": ".py",
   "mimetype": "text/x-python",
   "name": "python",
   "nbconvert_exporter": "python",
   "pygments_lexer": "ipython3",
   "version": "3.9.1-final"
  },
  "orig_nbformat": 2,
  "kernelspec": {
   "name": "python3",
   "display_name": "Python 3.9.1 64-bit",
   "metadata": {
    "interpreter": {
     "hash": "468f25ad0239460415b7e6b7483d5c8f7213894121f6fb96c4cb6ef93fffe534"
    }
   }
  }
 },
 "nbformat": 4,
 "nbformat_minor": 2,
 "cells": [
  {
   "source": [
    "# New York Schools\n",
    "A small project that demonstrates how one can analyze data from multiple sources and bring them all together to drive meaningful insights. "
   ],
   "cell_type": "markdown",
   "metadata": {}
  },
  {
   "cell_type": "code",
   "execution_count": 7,
   "metadata": {},
   "outputs": [],
   "source": [
    "import pandas as pd\n",
    "# A list of the data files\n",
    "data_files = [\n",
    "    \"ap_2010.csv\",\n",
    "    \"class_size.csv\",\n",
    "    \"demographics.csv\",\n",
    "    \"graduation.csv\",\n",
    "    \"hs_directory.csv\",\n",
    "    \"sat_results.csv\"\n",
    "]\n",
    "   \n",
    "data = {}\n",
    "for file in data_files:\n",
    "    read_file = pd.read_csv('__data__/{0}'.format(file))\n",
    "    key_name = file.replace(\".csv\",\"\")\n",
    "    data[key_name] = read_file"
   ]
  },
  {
   "cell_type": "code",
   "execution_count": 8,
   "metadata": {},
   "outputs": [
    {
     "output_type": "stream",
     "name": "stdout",
     "text": [
      "      DBN                                    SCHOOL NAME  \\\n0  01M292  HENRY STREET SCHOOL FOR INTERNATIONAL STUDIES   \n1  01M448            UNIVERSITY NEIGHBORHOOD HIGH SCHOOL   \n2  01M450                     EAST SIDE COMMUNITY SCHOOL   \n3  01M458                      FORSYTH SATELLITE ACADEMY   \n4  01M509                        MARTA VALLE HIGH SCHOOL   \n\n  Num of SAT Test Takers SAT Critical Reading Avg. Score SAT Math Avg. Score  \\\n0                     29                             355                 404   \n1                     91                             383                 423   \n2                     70                             377                 402   \n3                      7                             414                 401   \n4                     44                             390                 433   \n\n  SAT Writing Avg. Score  \n0                    363  \n1                    366  \n2                    370  \n3                    359  \n4                    384  \n"
     ]
    }
   ],
   "source": [
    "# Reviewing the Data\n",
    "print(data['sat_results'].head(5))"
   ]
  },
  {
   "cell_type": "code",
   "execution_count": 14,
   "metadata": {},
   "outputs": [
    {
     "output_type": "execute_result",
     "data": {
      "text/plain": [
       "      dbn    bn                      schoolname  d75 studentssurveyed  \\\n",
       "0  01M015  M015       P.S. 015 Roberto Clemente    0               No   \n",
       "1  01M019  M019             P.S. 019 Asher Levy    0               No   \n",
       "2  01M020  M020            P.S. 020 Anna Silver    0               No   \n",
       "3  01M034  M034  P.S. 034 Franklin D. Roosevelt    0              Yes   \n",
       "4  01M063  M063       P.S. 063 William McKinley    0               No   \n",
       "\n",
       "   highschool                  schooltype  rr_s  rr_t  rr_p  ...  s_q14_2  \\\n",
       "0         0.0           Elementary School   NaN    88    60  ...      NaN   \n",
       "1         0.0           Elementary School   NaN   100    60  ...      NaN   \n",
       "2         0.0           Elementary School   NaN    88    73  ...      NaN   \n",
       "3         0.0  Elementary / Middle School  89.0    73    50  ...      NaN   \n",
       "4         0.0           Elementary School   NaN   100    60  ...      NaN   \n",
       "\n",
       "   s_q14_3  s_q14_4  s_q14_5  s_q14_6  s_q14_7  s_q14_8  s_q14_9  s_q14_10  \\\n",
       "0      NaN      NaN      NaN      NaN      NaN      NaN      NaN       NaN   \n",
       "1      NaN      NaN      NaN      NaN      NaN      NaN      NaN       NaN   \n",
       "2      NaN      NaN      NaN      NaN      NaN      NaN      NaN       NaN   \n",
       "3      NaN      NaN      NaN      NaN      NaN      NaN      NaN       NaN   \n",
       "4      NaN      NaN      NaN      NaN      NaN      NaN      NaN       NaN   \n",
       "\n",
       "   s_q14_11  \n",
       "0       NaN  \n",
       "1       NaN  \n",
       "2       NaN  \n",
       "3       NaN  \n",
       "4       NaN  \n",
       "\n",
       "[5 rows x 2773 columns]"
      ],
      "text/html": "<div>\n<style scoped>\n    .dataframe tbody tr th:only-of-type {\n        vertical-align: middle;\n    }\n\n    .dataframe tbody tr th {\n        vertical-align: top;\n    }\n\n    .dataframe thead th {\n        text-align: right;\n    }\n</style>\n<table border=\"1\" class=\"dataframe\">\n  <thead>\n    <tr style=\"text-align: right;\">\n      <th></th>\n      <th>dbn</th>\n      <th>bn</th>\n      <th>schoolname</th>\n      <th>d75</th>\n      <th>studentssurveyed</th>\n      <th>highschool</th>\n      <th>schooltype</th>\n      <th>rr_s</th>\n      <th>rr_t</th>\n      <th>rr_p</th>\n      <th>...</th>\n      <th>s_q14_2</th>\n      <th>s_q14_3</th>\n      <th>s_q14_4</th>\n      <th>s_q14_5</th>\n      <th>s_q14_6</th>\n      <th>s_q14_7</th>\n      <th>s_q14_8</th>\n      <th>s_q14_9</th>\n      <th>s_q14_10</th>\n      <th>s_q14_11</th>\n    </tr>\n  </thead>\n  <tbody>\n    <tr>\n      <th>0</th>\n      <td>01M015</td>\n      <td>M015</td>\n      <td>P.S. 015 Roberto Clemente</td>\n      <td>0</td>\n      <td>No</td>\n      <td>0.0</td>\n      <td>Elementary School</td>\n      <td>NaN</td>\n      <td>88</td>\n      <td>60</td>\n      <td>...</td>\n      <td>NaN</td>\n      <td>NaN</td>\n      <td>NaN</td>\n      <td>NaN</td>\n      <td>NaN</td>\n      <td>NaN</td>\n      <td>NaN</td>\n      <td>NaN</td>\n      <td>NaN</td>\n      <td>NaN</td>\n    </tr>\n    <tr>\n      <th>1</th>\n      <td>01M019</td>\n      <td>M019</td>\n      <td>P.S. 019 Asher Levy</td>\n      <td>0</td>\n      <td>No</td>\n      <td>0.0</td>\n      <td>Elementary School</td>\n      <td>NaN</td>\n      <td>100</td>\n      <td>60</td>\n      <td>...</td>\n      <td>NaN</td>\n      <td>NaN</td>\n      <td>NaN</td>\n      <td>NaN</td>\n      <td>NaN</td>\n      <td>NaN</td>\n      <td>NaN</td>\n      <td>NaN</td>\n      <td>NaN</td>\n      <td>NaN</td>\n    </tr>\n    <tr>\n      <th>2</th>\n      <td>01M020</td>\n      <td>M020</td>\n      <td>P.S. 020 Anna Silver</td>\n      <td>0</td>\n      <td>No</td>\n      <td>0.0</td>\n      <td>Elementary School</td>\n      <td>NaN</td>\n      <td>88</td>\n      <td>73</td>\n      <td>...</td>\n      <td>NaN</td>\n      <td>NaN</td>\n      <td>NaN</td>\n      <td>NaN</td>\n      <td>NaN</td>\n      <td>NaN</td>\n      <td>NaN</td>\n      <td>NaN</td>\n      <td>NaN</td>\n      <td>NaN</td>\n    </tr>\n    <tr>\n      <th>3</th>\n      <td>01M034</td>\n      <td>M034</td>\n      <td>P.S. 034 Franklin D. Roosevelt</td>\n      <td>0</td>\n      <td>Yes</td>\n      <td>0.0</td>\n      <td>Elementary / Middle School</td>\n      <td>89.0</td>\n      <td>73</td>\n      <td>50</td>\n      <td>...</td>\n      <td>NaN</td>\n      <td>NaN</td>\n      <td>NaN</td>\n      <td>NaN</td>\n      <td>NaN</td>\n      <td>NaN</td>\n      <td>NaN</td>\n      <td>NaN</td>\n      <td>NaN</td>\n      <td>NaN</td>\n    </tr>\n    <tr>\n      <th>4</th>\n      <td>01M063</td>\n      <td>M063</td>\n      <td>P.S. 063 William McKinley</td>\n      <td>0</td>\n      <td>No</td>\n      <td>0.0</td>\n      <td>Elementary School</td>\n      <td>NaN</td>\n      <td>100</td>\n      <td>60</td>\n      <td>...</td>\n      <td>NaN</td>\n      <td>NaN</td>\n      <td>NaN</td>\n      <td>NaN</td>\n      <td>NaN</td>\n      <td>NaN</td>\n      <td>NaN</td>\n      <td>NaN</td>\n      <td>NaN</td>\n      <td>NaN</td>\n    </tr>\n  </tbody>\n</table>\n<p>5 rows × 2773 columns</p>\n</div>"
     },
     "metadata": {},
     "execution_count": 14
    }
   ],
   "source": [
    "'''Reading in the txt surveys and combining them into a single DataFrame.'''\n",
    "all_survey = pd.read_csv('__txt_data__/2011_School_Survey/survey_all.txt', delimiter=\"\\t\", encoding ='windows-1252')\n",
    "d75_survey = pd.read_csv('__txt_data__/2011_School_Survey/survey_d75.txt', delimiter=\"\\t\", encoding ='windows-1252')\n",
    "\n",
    "survey = pd.concat([all_survey, d75_survey], axis=0)\n",
    "survey.head()"
   ]
  },
  {
   "cell_type": "code",
   "execution_count": null,
   "metadata": {},
   "outputs": [],
   "source": []
  }
 ]
}